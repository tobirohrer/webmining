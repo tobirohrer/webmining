{
 "cells": [
  {
   "cell_type": "code",
   "execution_count": 1,
   "metadata": {},
   "outputs": [],
   "source": [
    "from hdbcli import dbapi\n",
    "import pandas as pd\n",
    "import seaborn as sns"
   ]
  },
  {
   "cell_type": "code",
   "execution_count": 2,
   "metadata": {},
   "outputs": [
    {
     "data": {
      "text/plain": [
       "True"
      ]
     },
     "execution_count": 2,
     "metadata": {},
     "output_type": "execute_result"
    }
   ],
   "source": [
    "connection = dbapi.connect('18.202.26.190', 39015, 'SYSTEM', 'Glorp2018!')\n",
    "connection.isconnected()"
   ]
  },
  {
   "cell_type": "code",
   "execution_count": 3,
   "metadata": {},
   "outputs": [],
   "source": [
    "cursor = connection.cursor()"
   ]
  },
  {
   "cell_type": "markdown",
   "metadata": {},
   "source": [
    "# Teil 1 - Import t3n data into HANA\n",
    "## Aufgaben 1/ 2 / 3/ 4"
   ]
  },
  {
   "cell_type": "code",
   "execution_count": null,
   "metadata": {},
   "outputs": [],
   "source": [
    "# data preparation\n",
    "t3n_data = pd.read_csv('../praktikum1/t3n_data_spider.csv', encoding='utf8')\n",
    "t3n_df = t3n_data.dropna()\n",
    "t3n_df = t3n_df.replace('\\n','', regex=True)\n",
    "t3n_df.head()"
   ]
  },
  {
   "cell_type": "code",
   "execution_count": null,
   "metadata": {},
   "outputs": [],
   "source": [
    "# drop table\n",
    "sql = 'DROP TABLE T3N'\n",
    "cursor.execute(sql)"
   ]
  },
  {
   "cell_type": "code",
   "execution_count": null,
   "metadata": {},
   "outputs": [],
   "source": [
    "def create_table():\n",
    "    sql = 'CREATE COLUMN TABLE \\\"SYSTEM\\\".\\\"T3N\\\" (\\\"ID\\\" VARCHAR(500),\\\"HEADING\\\" VARCHAR(2000),\\\"CATEGORY\\\" VARCHAR(2000),\\\"TEASER\\\" VARCHAR(5000),\\\"TEXT\\\" CLOB MEMORY THRESHOLD 1000,\\\"URL\\\" VARCHAR(2000), PRIMARY KEY (\\\"ID\\\"))'\n",
    "    cursor.execute(sql)"
   ]
  },
  {
   "cell_type": "code",
   "execution_count": null,
   "metadata": {},
   "outputs": [],
   "source": [
    "def get_escaped_string(string):\n",
    "    return '\\'' + str(string) + '\\''"
   ]
  },
  {
   "cell_type": "code",
   "execution_count": null,
   "metadata": {},
   "outputs": [],
   "source": [
    "def insert_data():\n",
    "    for index, row in t3n_df.iterrows():\n",
    "        sql_insert_datapoint = 'insert into \\\"SYSTEM\\\".\\\"T3N\\\" (ID, HEADING, CATEGORY, TEASER, TEXT, URL) VALUES (' + get_escaped_string(row['id']) + ', ' + get_escaped_string(row['heading']) +', ' + get_escaped_string(row['category']) + ',' + get_escaped_string(row['teaser']) + ', ' + get_escaped_string(row['text']) + ', ' + get_escaped_string(row['url'])+ ')'\n",
    "        print(sql_insert_datapoint)\n",
    "        #print(row['heading'])\n",
    "        cursor.execute(sql_insert_datapoint)"
   ]
  },
  {
   "cell_type": "code",
   "execution_count": null,
   "metadata": {},
   "outputs": [],
   "source": [
    "create_table()\n",
    "insert_data()"
   ]
  },
  {
   "cell_type": "markdown",
   "metadata": {},
   "source": [
    "## Aufgaben 5/ 6"
   ]
  },
  {
   "cell_type": "code",
   "execution_count": null,
   "metadata": {},
   "outputs": [],
   "source": [
    "# CONFIGURATION 'LINGANALYSIS_BASIC'\n",
    "sql = 'CREATE FULLTEXT INDEX \"T3NTEXTIND\" ON \"SYSTEM\".\"T3N\" (\"TEXT\") CONFIGURATION \\'LINGANALYSIS_BASIC\\' ASYNC LANGUAGE DETECTION (\\'de\\', \\'en\\') TEXT ANALYSIS ON'\n",
    "cursor.execute(sql)"
   ]
  },
  {
   "cell_type": "code",
   "execution_count": null,
   "metadata": {},
   "outputs": [],
   "source": [
    "# CONFIGURATION 'LINGANALYSIS_STEMS'\n",
    "sql = 'CREATE FULLTEXT INDEX \"T3NTEXTIND\" ON \"SYSTEM\".\"T3N\" (\"TEXT\") CONFIGURATION \\'LINGANALYSIS_STEMS\\' ASYNC LANGUAGE DETECTION (\\'de\\', \\'en\\') TEXT ANALYSIS ON'\n",
    "cursor.execute(sql)"
   ]
  },
  {
   "cell_type": "code",
   "execution_count": 8,
   "metadata": {},
   "outputs": [
    {
     "data": {
      "text/plain": [
       "True"
      ]
     },
     "execution_count": 8,
     "metadata": {},
     "output_type": "execute_result"
    }
   ],
   "source": [
    "# CONFIGURATION 'LINGANALYSIS_FULL' \n",
    "sql = 'CREATE FULLTEXT INDEX \"T3NTEXTIND\" ON \"SYSTEM\".\"T3N\" (\"TEXT\") CONFIGURATION \\'LINGANALYSIS_FULL\\' ASYNC LANGUAGE DETECTION (\\'de\\', \\'en\\') TEXT ANALYSIS ON'\n",
    "cursor.execute(sql)"
   ]
  },
  {
   "cell_type": "code",
   "execution_count": 7,
   "metadata": {},
   "outputs": [
    {
     "data": {
      "text/plain": [
       "True"
      ]
     },
     "execution_count": 7,
     "metadata": {},
     "output_type": "execute_result"
    }
   ],
   "source": [
    "# drop index\n",
    "sql = 'DROP FULLTEXT INDEX \"T3NTEXTIND\";'\n",
    "cursor.execute(sql)"
   ]
  },
  {
   "cell_type": "markdown",
   "metadata": {},
   "source": [
    "# Teil 2 mit SQL\n",
    "## Aufgabe 1\n",
    "### SQL-View"
   ]
  },
  {
   "cell_type": "code",
   "execution_count": 9,
   "metadata": {},
   "outputs": [
    {
     "data": {
      "text/plain": [
       "True"
      ]
     },
     "execution_count": 9,
     "metadata": {},
     "output_type": "execute_result"
    }
   ],
   "source": [
    "# drop SQL-View\n",
    "sql_drop_view = 'drop view COUNT_NOUNS'\n",
    "cursor.execute(sql_drop_view)"
   ]
  },
  {
   "cell_type": "code",
   "execution_count": 10,
   "metadata": {},
   "outputs": [
    {
     "data": {
      "text/plain": [
       "True"
      ]
     },
     "execution_count": 10,
     "metadata": {},
     "output_type": "execute_result"
    }
   ],
   "source": [
    "# nouns per document\n",
    "sql = 'create view COUNT_NOUNS as select ID, TA_TOKEN, count(*) as COUNT from \"$TA_T3NTEXTIND\" where TA_TYPE=\\'noun\\' group by ID, TA_TOKEN'\n",
    "cursor.execute(sql)"
   ]
  },
  {
   "cell_type": "markdown",
   "metadata": {},
   "source": [
    "### Nouns per document"
   ]
  },
  {
   "cell_type": "code",
   "execution_count": 25,
   "metadata": {},
   "outputs": [],
   "source": [
    "def plot_nouns(nouns_df):\n",
    "    ax = sns.distplot(nouns_df['count'])\n",
    "    ax.set(xlabel='#nouns per document')\n",
    "    ax.set_title('Nouns per document')\n",
    "    fig = ax.get_figure()\n",
    "    fig.savefig('plots/nouns_per_document_t3n.png')"
   ]
  },
  {
   "cell_type": "markdown",
   "metadata": {},
   "source": [
    "#### Using SQL-View"
   ]
  },
  {
   "cell_type": "code",
   "execution_count": 26,
   "metadata": {},
   "outputs": [
    {
     "data": {
      "text/html": [
       "<div>\n",
       "<style scoped>\n",
       "    .dataframe tbody tr th:only-of-type {\n",
       "        vertical-align: middle;\n",
       "    }\n",
       "\n",
       "    .dataframe tbody tr th {\n",
       "        vertical-align: top;\n",
       "    }\n",
       "\n",
       "    .dataframe thead th {\n",
       "        text-align: right;\n",
       "    }\n",
       "</style>\n",
       "<table border=\"1\" class=\"dataframe\">\n",
       "  <thead>\n",
       "    <tr style=\"text-align: right;\">\n",
       "      <th></th>\n",
       "      <th>doc</th>\n",
       "      <th>count</th>\n",
       "    </tr>\n",
       "  </thead>\n",
       "  <tbody>\n",
       "    <tr>\n",
       "      <th>0</th>\n",
       "      <td>bee0f018-cf5e-47d9-a9a3-47adaf0d5e49</td>\n",
       "      <td>686</td>\n",
       "    </tr>\n",
       "    <tr>\n",
       "      <th>1</th>\n",
       "      <td>c1727277-36b3-4915-8e3a-94dedccedcf5</td>\n",
       "      <td>642</td>\n",
       "    </tr>\n",
       "    <tr>\n",
       "      <th>2</th>\n",
       "      <td>fecf50e9-8c52-4298-9a92-b1c0c72ccc1f</td>\n",
       "      <td>641</td>\n",
       "    </tr>\n",
       "    <tr>\n",
       "      <th>3</th>\n",
       "      <td>89a2a47b-ca81-4113-91db-2f5f061cea8a</td>\n",
       "      <td>630</td>\n",
       "    </tr>\n",
       "    <tr>\n",
       "      <th>4</th>\n",
       "      <td>3c9378a3-7c1e-44a1-9fb8-f3dd4aae8adb</td>\n",
       "      <td>611</td>\n",
       "    </tr>\n",
       "  </tbody>\n",
       "</table>\n",
       "</div>"
      ],
      "text/plain": [
       "                                    doc  count\n",
       "0  bee0f018-cf5e-47d9-a9a3-47adaf0d5e49    686\n",
       "1  c1727277-36b3-4915-8e3a-94dedccedcf5    642\n",
       "2  fecf50e9-8c52-4298-9a92-b1c0c72ccc1f    641\n",
       "3  89a2a47b-ca81-4113-91db-2f5f061cea8a    630\n",
       "4  3c9378a3-7c1e-44a1-9fb8-f3dd4aae8adb    611"
      ]
     },
     "execution_count": 26,
     "metadata": {},
     "output_type": "execute_result"
    }
   ],
   "source": [
    "# nouns for all documents\n",
    "cursor.execute('select ID, sum(COUNT) from COUNT_NOUNS group by ID order by sum(COUNT) desc')\n",
    "nouns_list = cursor.fetchall()\n",
    "nouns_df = pd.DataFrame(nouns_list)\n",
    "nouns_df.columns = ['doc', 'count']\n",
    "nouns_df.head()"
   ]
  },
  {
   "cell_type": "code",
   "execution_count": 27,
   "metadata": {},
   "outputs": [
    {
     "name": "stderr",
     "output_type": "stream",
     "text": [
      "/Users/tinz/anaconda3/envs/python_web_mining/lib/python3.7/site-packages/scipy/stats/stats.py:1713: FutureWarning: Using a non-tuple sequence for multidimensional indexing is deprecated; use `arr[tuple(seq)]` instead of `arr[seq]`. In the future this will be interpreted as an array index, `arr[np.array(seq)]`, which will result either in an error or a different result.\n",
      "  return np.add.reduce(sorted[indexer] * weights, axis=axis) / sumval\n"
     ]
    },
    {
     "data": {
      "image/png": "[encoded data removed]",
      "text/plain": [
       "<Figure size 432x288 with 1 Axes>"
      ]
     },
     "metadata": {
      "needs_background": "light"
     },
     "output_type": "display_data"
    }
   ],
   "source": [
    "plot_nouns(nouns_df)"
   ]
  },
  {
   "cell_type": "code",
   "execution_count": 28,
   "metadata": {},
   "outputs": [
    {
     "data": {
      "text/html": [
       "<div>\n",
       "<style scoped>\n",
       "    .dataframe tbody tr th:only-of-type {\n",
       "        vertical-align: middle;\n",
       "    }\n",
       "\n",
       "    .dataframe tbody tr th {\n",
       "        vertical-align: top;\n",
       "    }\n",
       "\n",
       "    .dataframe thead th {\n",
       "        text-align: right;\n",
       "    }\n",
       "</style>\n",
       "<table border=\"1\" class=\"dataframe\">\n",
       "  <thead>\n",
       "    <tr style=\"text-align: right;\">\n",
       "      <th></th>\n",
       "      <th>0</th>\n",
       "      <th>1</th>\n",
       "      <th>2</th>\n",
       "    </tr>\n",
       "  </thead>\n",
       "  <tbody>\n",
       "    <tr>\n",
       "      <th>0</th>\n",
       "      <td>0a17ee3f-19e9-47f7-8258-535d491abd27</td>\n",
       "      <td>Seite</td>\n",
       "      <td>1</td>\n",
       "    </tr>\n",
       "    <tr>\n",
       "      <th>1</th>\n",
       "      <td>857ea2bf-7aa2-42b6-b755-eda381765413</td>\n",
       "      <td>Einsatz</td>\n",
       "      <td>1</td>\n",
       "    </tr>\n",
       "    <tr>\n",
       "      <th>2</th>\n",
       "      <td>655fbf3c-df26-4ce3-a53c-526df0a8d96a</td>\n",
       "      <td>Einige</td>\n",
       "      <td>1</td>\n",
       "    </tr>\n",
       "    <tr>\n",
       "      <th>3</th>\n",
       "      <td>14cbb855-ed17-4bbb-985c-70e26364087e</td>\n",
       "      <td>Steinboden</td>\n",
       "      <td>1</td>\n",
       "    </tr>\n",
       "    <tr>\n",
       "      <th>4</th>\n",
       "      <td>d2cd153c-f96c-4890-87f2-de40dd7b048c</td>\n",
       "      <td>Markt</td>\n",
       "      <td>1</td>\n",
       "    </tr>\n",
       "    <tr>\n",
       "      <th>5</th>\n",
       "      <td>4babb8b4-aeed-4da0-b5a9-0220cc7d094f</td>\n",
       "      <td>Sachen</td>\n",
       "      <td>1</td>\n",
       "    </tr>\n",
       "    <tr>\n",
       "      <th>6</th>\n",
       "      <td>660662f7-15a9-4eca-bd0f-f4c249da7c43</td>\n",
       "      <td>Bassreflex</td>\n",
       "      <td>1</td>\n",
       "    </tr>\n",
       "    <tr>\n",
       "      <th>7</th>\n",
       "      <td>1b3033a5-37c2-4146-874d-963211111f8f</td>\n",
       "      <td>via</td>\n",
       "      <td>1</td>\n",
       "    </tr>\n",
       "    <tr>\n",
       "      <th>8</th>\n",
       "      <td>5a31f902-5f19-4706-946a-8e0ce7eedcb0</td>\n",
       "      <td>Welt</td>\n",
       "      <td>1</td>\n",
       "    </tr>\n",
       "    <tr>\n",
       "      <th>9</th>\n",
       "      <td>bb50d3dc-9377-436c-a05f-a17bbaf7e17f</td>\n",
       "      <td>Infografik</td>\n",
       "      <td>1</td>\n",
       "    </tr>\n",
       "    <tr>\n",
       "      <th>10</th>\n",
       "      <td>53046188-b726-4c86-828a-617cc0a14894</td>\n",
       "      <td>Mission</td>\n",
       "      <td>1</td>\n",
       "    </tr>\n",
       "    <tr>\n",
       "      <th>11</th>\n",
       "      <td>3335f16d-ebeb-4d17-a2f4-3751ccd18434</td>\n",
       "      <td>Computing</td>\n",
       "      <td>6</td>\n",
       "    </tr>\n",
       "    <tr>\n",
       "      <th>12</th>\n",
       "      <td>4af8171e-c1cb-4dd3-9196-7fa987c0bbcb</td>\n",
       "      <td>Innovation</td>\n",
       "      <td>1</td>\n",
       "    </tr>\n",
       "    <tr>\n",
       "      <th>13</th>\n",
       "      <td>2cdad6be-edf6-41cb-97a8-403b560f97fa</td>\n",
       "      <td>Makel</td>\n",
       "      <td>1</td>\n",
       "    </tr>\n",
       "    <tr>\n",
       "      <th>14</th>\n",
       "      <td>321d9c5b-34eb-4395-932f-0011238798a8</td>\n",
       "      <td>Teilnehmer</td>\n",
       "      <td>2</td>\n",
       "    </tr>\n",
       "    <tr>\n",
       "      <th>15</th>\n",
       "      <td>19ff566c-4bed-4b0e-8c39-23eeeaf9387b</td>\n",
       "      <td>Leute</td>\n",
       "      <td>1</td>\n",
       "    </tr>\n",
       "    <tr>\n",
       "      <th>16</th>\n",
       "      <td>180844e6-575b-463f-8d51-1e3a8fdd9956</td>\n",
       "      <td>Gear</td>\n",
       "      <td>1</td>\n",
       "    </tr>\n",
       "    <tr>\n",
       "      <th>17</th>\n",
       "      <td>86451a7f-64d5-4f09-8477-a81f948b8801</td>\n",
       "      <td>Veränderung</td>\n",
       "      <td>1</td>\n",
       "    </tr>\n",
       "    <tr>\n",
       "      <th>18</th>\n",
       "      <td>4a5a1de1-05f8-407c-8890-c2d34eea30c3</td>\n",
       "      <td>Interesse</td>\n",
       "      <td>1</td>\n",
       "    </tr>\n",
       "    <tr>\n",
       "      <th>19</th>\n",
       "      <td>de9afd76-3aab-40cc-b6cd-dde21a97a997</td>\n",
       "      <td>Konkurrenz</td>\n",
       "      <td>3</td>\n",
       "    </tr>\n",
       "  </tbody>\n",
       "</table>\n",
       "</div>"
      ],
      "text/plain": [
       "                                       0            1  2\n",
       "0   0a17ee3f-19e9-47f7-8258-535d491abd27        Seite  1\n",
       "1   857ea2bf-7aa2-42b6-b755-eda381765413      Einsatz  1\n",
       "2   655fbf3c-df26-4ce3-a53c-526df0a8d96a       Einige  1\n",
       "3   14cbb855-ed17-4bbb-985c-70e26364087e   Steinboden  1\n",
       "4   d2cd153c-f96c-4890-87f2-de40dd7b048c        Markt  1\n",
       "5   4babb8b4-aeed-4da0-b5a9-0220cc7d094f       Sachen  1\n",
       "6   660662f7-15a9-4eca-bd0f-f4c249da7c43   Bassreflex  1\n",
       "7   1b3033a5-37c2-4146-874d-963211111f8f          via  1\n",
       "8   5a31f902-5f19-4706-946a-8e0ce7eedcb0         Welt  1\n",
       "9   bb50d3dc-9377-436c-a05f-a17bbaf7e17f   Infografik  1\n",
       "10  53046188-b726-4c86-828a-617cc0a14894      Mission  1\n",
       "11  3335f16d-ebeb-4d17-a2f4-3751ccd18434    Computing  6\n",
       "12  4af8171e-c1cb-4dd3-9196-7fa987c0bbcb   Innovation  1\n",
       "13  2cdad6be-edf6-41cb-97a8-403b560f97fa        Makel  1\n",
       "14  321d9c5b-34eb-4395-932f-0011238798a8   Teilnehmer  2\n",
       "15  19ff566c-4bed-4b0e-8c39-23eeeaf9387b        Leute  1\n",
       "16  180844e6-575b-463f-8d51-1e3a8fdd9956         Gear  1\n",
       "17  86451a7f-64d5-4f09-8477-a81f948b8801  Veränderung  1\n",
       "18  4a5a1de1-05f8-407c-8890-c2d34eea30c3    Interesse  1\n",
       "19  de9afd76-3aab-40cc-b6cd-dde21a97a997   Konkurrenz  3"
      ]
     },
     "execution_count": 28,
     "metadata": {},
     "output_type": "execute_result"
    }
   ],
   "source": [
    "# nouns for a specific document\n",
    "cursor.execute('select * from COUNT_NOUNS')\n",
    "nouns_list = cursor.fetchall()\n",
    "nouns_df = pd.DataFrame(nouns_list)\n",
    "nouns_df.head(20)"
   ]
  },
  {
   "cell_type": "markdown",
   "metadata": {},
   "source": [
    "#### Without SQL-View"
   ]
  },
  {
   "cell_type": "code",
   "execution_count": 15,
   "metadata": {},
   "outputs": [
    {
     "data": {
      "text/html": [
       "<div>\n",
       "<style scoped>\n",
       "    .dataframe tbody tr th:only-of-type {\n",
       "        vertical-align: middle;\n",
       "    }\n",
       "\n",
       "    .dataframe tbody tr th {\n",
       "        vertical-align: top;\n",
       "    }\n",
       "\n",
       "    .dataframe thead th {\n",
       "        text-align: right;\n",
       "    }\n",
       "</style>\n",
       "<table border=\"1\" class=\"dataframe\">\n",
       "  <thead>\n",
       "    <tr style=\"text-align: right;\">\n",
       "      <th></th>\n",
       "      <th>doc</th>\n",
       "      <th>count</th>\n",
       "    </tr>\n",
       "  </thead>\n",
       "  <tbody>\n",
       "    <tr>\n",
       "      <th>0</th>\n",
       "      <td>bee0f018-cf5e-47d9-a9a3-47adaf0d5e49</td>\n",
       "      <td>686</td>\n",
       "    </tr>\n",
       "    <tr>\n",
       "      <th>1</th>\n",
       "      <td>c1727277-36b3-4915-8e3a-94dedccedcf5</td>\n",
       "      <td>642</td>\n",
       "    </tr>\n",
       "    <tr>\n",
       "      <th>2</th>\n",
       "      <td>fecf50e9-8c52-4298-9a92-b1c0c72ccc1f</td>\n",
       "      <td>641</td>\n",
       "    </tr>\n",
       "    <tr>\n",
       "      <th>3</th>\n",
       "      <td>89a2a47b-ca81-4113-91db-2f5f061cea8a</td>\n",
       "      <td>630</td>\n",
       "    </tr>\n",
       "    <tr>\n",
       "      <th>4</th>\n",
       "      <td>3c9378a3-7c1e-44a1-9fb8-f3dd4aae8adb</td>\n",
       "      <td>611</td>\n",
       "    </tr>\n",
       "  </tbody>\n",
       "</table>\n",
       "</div>"
      ],
      "text/plain": [
       "                                    doc  count\n",
       "0  bee0f018-cf5e-47d9-a9a3-47adaf0d5e49    686\n",
       "1  c1727277-36b3-4915-8e3a-94dedccedcf5    642\n",
       "2  fecf50e9-8c52-4298-9a92-b1c0c72ccc1f    641\n",
       "3  89a2a47b-ca81-4113-91db-2f5f061cea8a    630\n",
       "4  3c9378a3-7c1e-44a1-9fb8-f3dd4aae8adb    611"
      ]
     },
     "execution_count": 15,
     "metadata": {},
     "output_type": "execute_result"
    }
   ],
   "source": [
    "# nouns for all documents\n",
    "cursor.execute('select ID, count(*) from \"$TA_T3NTEXTIND\" where TA_TYPE=\\'noun\\' group by ID order by count(*) desc')\n",
    "nouns_list = cursor.fetchall()\n",
    "nouns_df = pd.DataFrame(nouns_list)\n",
    "nouns_df.columns = ['doc', 'count']\n",
    "nouns_df.head()"
   ]
  },
  {
   "cell_type": "code",
   "execution_count": 16,
   "metadata": {},
   "outputs": [
    {
     "data": {
      "image/png": "[encoded data removed]",
      "text/plain": [
       "<Figure size 432x288 with 1 Axes>"
      ]
     },
     "metadata": {
      "needs_background": "light"
     },
     "output_type": "display_data"
    }
   ],
   "source": [
    "plot_nouns(nouns_df)"
   ]
  },
  {
   "cell_type": "code",
   "execution_count": 17,
   "metadata": {},
   "outputs": [
    {
     "data": {
      "text/html": [
       "<div>\n",
       "<style scoped>\n",
       "    .dataframe tbody tr th:only-of-type {\n",
       "        vertical-align: middle;\n",
       "    }\n",
       "\n",
       "    .dataframe tbody tr th {\n",
       "        vertical-align: top;\n",
       "    }\n",
       "\n",
       "    .dataframe thead th {\n",
       "        text-align: right;\n",
       "    }\n",
       "</style>\n",
       "<table border=\"1\" class=\"dataframe\">\n",
       "  <thead>\n",
       "    <tr style=\"text-align: right;\">\n",
       "      <th></th>\n",
       "      <th>0</th>\n",
       "      <th>1</th>\n",
       "      <th>2</th>\n",
       "    </tr>\n",
       "  </thead>\n",
       "  <tbody>\n",
       "    <tr>\n",
       "      <th>0</th>\n",
       "      <td>0a17ee3f-19e9-47f7-8258-535d491abd27</td>\n",
       "      <td>Seite</td>\n",
       "      <td>1</td>\n",
       "    </tr>\n",
       "    <tr>\n",
       "      <th>1</th>\n",
       "      <td>857ea2bf-7aa2-42b6-b755-eda381765413</td>\n",
       "      <td>Einsatz</td>\n",
       "      <td>1</td>\n",
       "    </tr>\n",
       "    <tr>\n",
       "      <th>2</th>\n",
       "      <td>14cbb855-ed17-4bbb-985c-70e26364087e</td>\n",
       "      <td>Steinboden</td>\n",
       "      <td>1</td>\n",
       "    </tr>\n",
       "    <tr>\n",
       "      <th>3</th>\n",
       "      <td>655fbf3c-df26-4ce3-a53c-526df0a8d96a</td>\n",
       "      <td>Einige</td>\n",
       "      <td>1</td>\n",
       "    </tr>\n",
       "    <tr>\n",
       "      <th>4</th>\n",
       "      <td>d2cd153c-f96c-4890-87f2-de40dd7b048c</td>\n",
       "      <td>Markt</td>\n",
       "      <td>1</td>\n",
       "    </tr>\n",
       "    <tr>\n",
       "      <th>5</th>\n",
       "      <td>4babb8b4-aeed-4da0-b5a9-0220cc7d094f</td>\n",
       "      <td>Sachen</td>\n",
       "      <td>1</td>\n",
       "    </tr>\n",
       "    <tr>\n",
       "      <th>6</th>\n",
       "      <td>660662f7-15a9-4eca-bd0f-f4c249da7c43</td>\n",
       "      <td>Bassreflex</td>\n",
       "      <td>1</td>\n",
       "    </tr>\n",
       "    <tr>\n",
       "      <th>7</th>\n",
       "      <td>1b3033a5-37c2-4146-874d-963211111f8f</td>\n",
       "      <td>via</td>\n",
       "      <td>1</td>\n",
       "    </tr>\n",
       "    <tr>\n",
       "      <th>8</th>\n",
       "      <td>5a31f902-5f19-4706-946a-8e0ce7eedcb0</td>\n",
       "      <td>Welt</td>\n",
       "      <td>1</td>\n",
       "    </tr>\n",
       "    <tr>\n",
       "      <th>9</th>\n",
       "      <td>bb50d3dc-9377-436c-a05f-a17bbaf7e17f</td>\n",
       "      <td>Infografik</td>\n",
       "      <td>1</td>\n",
       "    </tr>\n",
       "    <tr>\n",
       "      <th>10</th>\n",
       "      <td>53046188-b726-4c86-828a-617cc0a14894</td>\n",
       "      <td>Mission</td>\n",
       "      <td>1</td>\n",
       "    </tr>\n",
       "    <tr>\n",
       "      <th>11</th>\n",
       "      <td>3335f16d-ebeb-4d17-a2f4-3751ccd18434</td>\n",
       "      <td>Computing</td>\n",
       "      <td>6</td>\n",
       "    </tr>\n",
       "    <tr>\n",
       "      <th>12</th>\n",
       "      <td>4af8171e-c1cb-4dd3-9196-7fa987c0bbcb</td>\n",
       "      <td>Innovation</td>\n",
       "      <td>1</td>\n",
       "    </tr>\n",
       "    <tr>\n",
       "      <th>13</th>\n",
       "      <td>2cdad6be-edf6-41cb-97a8-403b560f97fa</td>\n",
       "      <td>Makel</td>\n",
       "      <td>1</td>\n",
       "    </tr>\n",
       "    <tr>\n",
       "      <th>14</th>\n",
       "      <td>321d9c5b-34eb-4395-932f-0011238798a8</td>\n",
       "      <td>Teilnehmer</td>\n",
       "      <td>2</td>\n",
       "    </tr>\n",
       "    <tr>\n",
       "      <th>15</th>\n",
       "      <td>19ff566c-4bed-4b0e-8c39-23eeeaf9387b</td>\n",
       "      <td>Leute</td>\n",
       "      <td>1</td>\n",
       "    </tr>\n",
       "    <tr>\n",
       "      <th>16</th>\n",
       "      <td>180844e6-575b-463f-8d51-1e3a8fdd9956</td>\n",
       "      <td>Gear</td>\n",
       "      <td>1</td>\n",
       "    </tr>\n",
       "    <tr>\n",
       "      <th>17</th>\n",
       "      <td>86451a7f-64d5-4f09-8477-a81f948b8801</td>\n",
       "      <td>Veränderung</td>\n",
       "      <td>1</td>\n",
       "    </tr>\n",
       "    <tr>\n",
       "      <th>18</th>\n",
       "      <td>4a5a1de1-05f8-407c-8890-c2d34eea30c3</td>\n",
       "      <td>Interesse</td>\n",
       "      <td>1</td>\n",
       "    </tr>\n",
       "    <tr>\n",
       "      <th>19</th>\n",
       "      <td>de9afd76-3aab-40cc-b6cd-dde21a97a997</td>\n",
       "      <td>Konkurrenz</td>\n",
       "      <td>3</td>\n",
       "    </tr>\n",
       "  </tbody>\n",
       "</table>\n",
       "</div>"
      ],
      "text/plain": [
       "                                       0            1  2\n",
       "0   0a17ee3f-19e9-47f7-8258-535d491abd27        Seite  1\n",
       "1   857ea2bf-7aa2-42b6-b755-eda381765413      Einsatz  1\n",
       "2   14cbb855-ed17-4bbb-985c-70e26364087e   Steinboden  1\n",
       "3   655fbf3c-df26-4ce3-a53c-526df0a8d96a       Einige  1\n",
       "4   d2cd153c-f96c-4890-87f2-de40dd7b048c        Markt  1\n",
       "5   4babb8b4-aeed-4da0-b5a9-0220cc7d094f       Sachen  1\n",
       "6   660662f7-15a9-4eca-bd0f-f4c249da7c43   Bassreflex  1\n",
       "7   1b3033a5-37c2-4146-874d-963211111f8f          via  1\n",
       "8   5a31f902-5f19-4706-946a-8e0ce7eedcb0         Welt  1\n",
       "9   bb50d3dc-9377-436c-a05f-a17bbaf7e17f   Infografik  1\n",
       "10  53046188-b726-4c86-828a-617cc0a14894      Mission  1\n",
       "11  3335f16d-ebeb-4d17-a2f4-3751ccd18434    Computing  6\n",
       "12  4af8171e-c1cb-4dd3-9196-7fa987c0bbcb   Innovation  1\n",
       "13  2cdad6be-edf6-41cb-97a8-403b560f97fa        Makel  1\n",
       "14  321d9c5b-34eb-4395-932f-0011238798a8   Teilnehmer  2\n",
       "15  19ff566c-4bed-4b0e-8c39-23eeeaf9387b        Leute  1\n",
       "16  180844e6-575b-463f-8d51-1e3a8fdd9956         Gear  1\n",
       "17  86451a7f-64d5-4f09-8477-a81f948b8801  Veränderung  1\n",
       "18  4a5a1de1-05f8-407c-8890-c2d34eea30c3    Interesse  1\n",
       "19  de9afd76-3aab-40cc-b6cd-dde21a97a997   Konkurrenz  3"
      ]
     },
     "execution_count": 17,
     "metadata": {},
     "output_type": "execute_result"
    }
   ],
   "source": [
    "# nouns for a specific document\n",
    "cursor.execute('select ID, TA_TOKEN, count(*) from \"$TA_T3NTEXTIND\" where TA_TYPE=\\'noun\\' group by ID, TA_TOKEN')\n",
    "nouns_list = cursor.fetchall()\n",
    "nouns_df = pd.DataFrame(nouns_list)\n",
    "nouns_df.head(20)"
   ]
  },
  {
   "cell_type": "markdown",
   "metadata": {},
   "source": [
    "## Aufgabe 2\n",
    "### Size of Lexica"
   ]
  },
  {
   "cell_type": "code",
   "execution_count": 8,
   "metadata": {},
   "outputs": [
    {
     "data": {
      "text/html": [
       "<div>\n",
       "<style scoped>\n",
       "    .dataframe tbody tr th:only-of-type {\n",
       "        vertical-align: middle;\n",
       "    }\n",
       "\n",
       "    .dataframe tbody tr th {\n",
       "        vertical-align: top;\n",
       "    }\n",
       "\n",
       "    .dataframe thead th {\n",
       "        text-align: right;\n",
       "    }\n",
       "</style>\n",
       "<table border=\"1\" class=\"dataframe\">\n",
       "  <thead>\n",
       "    <tr style=\"text-align: right;\">\n",
       "      <th></th>\n",
       "      <th>size</th>\n",
       "    </tr>\n",
       "  </thead>\n",
       "  <tbody>\n",
       "    <tr>\n",
       "      <th>0</th>\n",
       "      <td>38117</td>\n",
       "    </tr>\n",
       "  </tbody>\n",
       "</table>\n",
       "</div>"
      ],
      "text/plain": [
       "    size\n",
       "0  38117"
      ]
     },
     "execution_count": 8,
     "metadata": {},
     "output_type": "execute_result"
    }
   ],
   "source": [
    "cursor.execute('select count(distinct TA_TOKEN) from \"$TA_T3NTEXTIND\"')\n",
    "nouns_list = cursor.fetchall()\n",
    "lexica_size = pd.DataFrame(nouns_list)\n",
    "lexica_size.columns = ['size']\n",
    "lexica_size"
   ]
  },
  {
   "cell_type": "markdown",
   "metadata": {},
   "source": [
    "### Size of Lexica without punctuation and stopwords"
   ]
  },
  {
   "cell_type": "code",
   "execution_count": 12,
   "metadata": {},
   "outputs": [],
   "source": [
    "import nltk as nltk\n",
    "from nltk.corpus import stopwords\n",
    "\n",
    "def remove_stopwords(data):\n",
    "    nltk.download('stopwords')\n",
    "    german_stopwords = set(stopwords.words('german'))\n",
    "    data['TOKEN_LOW'] = data['TOKEN'].map(lambda row: str(row).lower())\n",
    "    filtered = []\n",
    "    for index, row in data.iterrows():\n",
    "        if row.TOKEN_LOW not in german_stopwords:\n",
    "            filtered.append(row.TOKEN_LOW)\n",
    "    filtered_lexica = pd.DataFrame(filtered)\n",
    "    filtered_lexica.columns = ['TOKEN']\n",
    "    return filtered_lexica"
   ]
  },
  {
   "cell_type": "code",
   "execution_count": 13,
   "metadata": {},
   "outputs": [
    {
     "data": {
      "text/plain": [
       "37569"
      ]
     },
     "execution_count": 13,
     "metadata": {},
     "output_type": "execute_result"
    }
   ],
   "source": [
    "cursor.execute('select distinct TA_TOKEN from \"$TA_T3NTEXTIND\" where TA_TYPE <> \\'punctuation\\' and TA_TYPE <> \\'number\\'')\n",
    "lexica_list = cursor.fetchall()\n",
    "lexica_df = pd.DataFrame(lexica_list)\n",
    "lexica_df.columns = ['TOKEN']\n",
    "lexica_df.size"
   ]
  },
  {
   "cell_type": "code",
   "execution_count": 14,
   "metadata": {},
   "outputs": [
    {
     "name": "stderr",
     "output_type": "stream",
     "text": [
      "[nltk_data] Downloading package stopwords to /Users/tinz/nltk_data...\n",
      "[nltk_data]   Package stopwords is already up-to-date!\n"
     ]
    },
    {
     "data": {
      "text/plain": [
       "37155"
      ]
     },
     "execution_count": 14,
     "metadata": {},
     "output_type": "execute_result"
    }
   ],
   "source": [
    "filtered_lexica = remove_stopwords(lexica_df)\n",
    "filtered_lexica.size"
   ]
  },
  {
   "cell_type": "markdown",
   "metadata": {},
   "source": [
    "### Mean length of a document"
   ]
  },
  {
   "cell_type": "code",
   "execution_count": 17,
   "metadata": {},
   "outputs": [
    {
     "data": {
      "text/plain": [
       "True"
      ]
     },
     "execution_count": 17,
     "metadata": {},
     "output_type": "execute_result"
    }
   ],
   "source": [
    "# nouns per document\n",
    "sql = 'create view COUNT_TOKEN as select ID, count(*) as COUNT from \"$TA_T3NTEXTIND\" group by ID order by count(*) desc'\n",
    "cursor.execute(sql)"
   ]
  },
  {
   "cell_type": "code",
   "execution_count": 16,
   "metadata": {},
   "outputs": [
    {
     "data": {
      "text/plain": [
       "True"
      ]
     },
     "execution_count": 16,
     "metadata": {},
     "output_type": "execute_result"
    }
   ],
   "source": [
    "# drop SQL-View\n",
    "sql_drop_view = 'drop view COUNT_TOKEN'\n",
    "cursor.execute(sql_drop_view)"
   ]
  },
  {
   "cell_type": "code",
   "execution_count": 18,
   "metadata": {},
   "outputs": [
    {
     "data": {
      "text/html": [
       "<div>\n",
       "<style scoped>\n",
       "    .dataframe tbody tr th:only-of-type {\n",
       "        vertical-align: middle;\n",
       "    }\n",
       "\n",
       "    .dataframe tbody tr th {\n",
       "        vertical-align: top;\n",
       "    }\n",
       "\n",
       "    .dataframe thead th {\n",
       "        text-align: right;\n",
       "    }\n",
       "</style>\n",
       "<table border=\"1\" class=\"dataframe\">\n",
       "  <thead>\n",
       "    <tr style=\"text-align: right;\">\n",
       "      <th></th>\n",
       "      <th>AVERAGE</th>\n",
       "    </tr>\n",
       "  </thead>\n",
       "  <tbody>\n",
       "    <tr>\n",
       "      <th>0</th>\n",
       "      <td>536.308853</td>\n",
       "    </tr>\n",
       "  </tbody>\n",
       "</table>\n",
       "</div>"
      ],
      "text/plain": [
       "      AVERAGE\n",
       "0  536.308853"
      ]
     },
     "execution_count": 18,
     "metadata": {},
     "output_type": "execute_result"
    }
   ],
   "source": [
    "cursor.execute('select avg(COUNT) from COUNT_TOKEN')\n",
    "mean_length_doc = cursor.fetchall()\n",
    "mean_length_doc = pd.DataFrame(mean_length_doc)\n",
    "mean_length_doc.columns = ['AVERAGE']\n",
    "mean_length_doc"
   ]
  },
  {
   "cell_type": "markdown",
   "metadata": {},
   "source": [
    "### Mean length of a sentence"
   ]
  },
  {
   "cell_type": "code",
   "execution_count": 19,
   "metadata": {},
   "outputs": [
    {
     "data": {
      "text/html": [
       "<div>\n",
       "<style scoped>\n",
       "    .dataframe tbody tr th:only-of-type {\n",
       "        vertical-align: middle;\n",
       "    }\n",
       "\n",
       "    .dataframe tbody tr th {\n",
       "        vertical-align: top;\n",
       "    }\n",
       "\n",
       "    .dataframe thead th {\n",
       "        text-align: right;\n",
       "    }\n",
       "</style>\n",
       "<table border=\"1\" class=\"dataframe\">\n",
       "  <thead>\n",
       "    <tr style=\"text-align: right;\">\n",
       "      <th></th>\n",
       "      <th>AVERAGE</th>\n",
       "    </tr>\n",
       "  </thead>\n",
       "  <tbody>\n",
       "    <tr>\n",
       "      <th>0</th>\n",
       "      <td>14.891103</td>\n",
       "    </tr>\n",
       "  </tbody>\n",
       "</table>\n",
       "</div>"
      ],
      "text/plain": [
       "     AVERAGE\n",
       "0  14.891103"
      ]
     },
     "execution_count": 19,
     "metadata": {},
     "output_type": "execute_result"
    }
   ],
   "source": [
    "cursor.execute('select AVG(TA_SENTENCE) as AVG_SENTENCE from \"$TA_T3NTEXTIND\" order by AVG(TA_SENTENCE) desc')\n",
    "mean_length_sentence = cursor.fetchall()\n",
    "mean_length_sentence_df = pd.DataFrame(mean_length_sentence)\n",
    "mean_length_sentence_df_new = mean_length_sentence_df.dropna()\n",
    "mean_length_sentence_df_new.columns = ['AVERAGE']\n",
    "mean_length_sentence_df_new.head()"
   ]
  },
  {
   "cell_type": "markdown",
   "metadata": {},
   "source": [
    "## Aufgabe 3\n",
    "### Word frequency"
   ]
  },
  {
   "cell_type": "code",
   "execution_count": 20,
   "metadata": {},
   "outputs": [
    {
     "data": {
      "text/html": [
       "<div>\n",
       "<style scoped>\n",
       "    .dataframe tbody tr th:only-of-type {\n",
       "        vertical-align: middle;\n",
       "    }\n",
       "\n",
       "    .dataframe tbody tr th {\n",
       "        vertical-align: top;\n",
       "    }\n",
       "\n",
       "    .dataframe thead th {\n",
       "        text-align: right;\n",
       "    }\n",
       "</style>\n",
       "<table border=\"1\" class=\"dataframe\">\n",
       "  <thead>\n",
       "    <tr style=\"text-align: right;\">\n",
       "      <th></th>\n",
       "      <th>word</th>\n",
       "      <th>count</th>\n",
       "    </tr>\n",
       "  </thead>\n",
       "  <tbody>\n",
       "    <tr>\n",
       "      <th>0</th>\n",
       "      <td>,</td>\n",
       "      <td>31716</td>\n",
       "    </tr>\n",
       "    <tr>\n",
       "      <th>1</th>\n",
       "      <td>.</td>\n",
       "      <td>18304</td>\n",
       "    </tr>\n",
       "    <tr>\n",
       "      <th>2</th>\n",
       "      <td>die</td>\n",
       "      <td>11037</td>\n",
       "    </tr>\n",
       "    <tr>\n",
       "      <th>3</th>\n",
       "      <td>der</td>\n",
       "      <td>9988</td>\n",
       "    </tr>\n",
       "    <tr>\n",
       "      <th>4</th>\n",
       "      <td>und</td>\n",
       "      <td>9948</td>\n",
       "    </tr>\n",
       "    <tr>\n",
       "      <th>...</th>\n",
       "      <td>...</td>\n",
       "      <td>...</td>\n",
       "    </tr>\n",
       "    <tr>\n",
       "      <th>38112</th>\n",
       "      <td>Softwareunternehmen</td>\n",
       "      <td>1</td>\n",
       "    </tr>\n",
       "    <tr>\n",
       "      <th>38113</th>\n",
       "      <td>Rafaela</td>\n",
       "      <td>1</td>\n",
       "    </tr>\n",
       "    <tr>\n",
       "      <th>38114</th>\n",
       "      <td>ragen</td>\n",
       "      <td>1</td>\n",
       "    </tr>\n",
       "    <tr>\n",
       "      <th>38115</th>\n",
       "      <td>Softwareseite</td>\n",
       "      <td>1</td>\n",
       "    </tr>\n",
       "    <tr>\n",
       "      <th>38116</th>\n",
       "      <td>Softwareschmiede</td>\n",
       "      <td>1</td>\n",
       "    </tr>\n",
       "  </tbody>\n",
       "</table>\n",
       "<p>38117 rows × 2 columns</p>\n",
       "</div>"
      ],
      "text/plain": [
       "                      word  count\n",
       "0                        ,  31716\n",
       "1                        .  18304\n",
       "2                      die  11037\n",
       "3                      der   9988\n",
       "4                      und   9948\n",
       "...                    ...    ...\n",
       "38112  Softwareunternehmen      1\n",
       "38113              Rafaela      1\n",
       "38114                ragen      1\n",
       "38115        Softwareseite      1\n",
       "38116     Softwareschmiede      1\n",
       "\n",
       "[38117 rows x 2 columns]"
      ]
     },
     "execution_count": 20,
     "metadata": {},
     "output_type": "execute_result"
    }
   ],
   "source": [
    "cursor.execute('select TA_TOKEN, count(*) from \"$TA_T3NTEXTIND\" group by TA_TOKEN order by count(*) desc')\n",
    "words_list = cursor.fetchall()\n",
    "words_df = pd.DataFrame(words_list)\n",
    "words_df.columns = ['TOKEN', 'count']\n",
    "words_df"
   ]
  },
  {
   "cell_type": "code",
   "execution_count": 24,
   "metadata": {},
   "outputs": [
    {
     "data": {
      "text/html": [
       "<div>\n",
       "<style scoped>\n",
       "    .dataframe tbody tr th:only-of-type {\n",
       "        vertical-align: middle;\n",
       "    }\n",
       "\n",
       "    .dataframe tbody tr th {\n",
       "        vertical-align: top;\n",
       "    }\n",
       "\n",
       "    .dataframe thead th {\n",
       "        text-align: right;\n",
       "    }\n",
       "</style>\n",
       "<table border=\"1\" class=\"dataframe\">\n",
       "  <thead>\n",
       "    <tr style=\"text-align: right;\">\n",
       "      <th></th>\n",
       "      <th>TOKEN</th>\n",
       "      <th>count</th>\n",
       "    </tr>\n",
       "  </thead>\n",
       "  <tbody>\n",
       "    <tr>\n",
       "      <th>0</th>\n",
       "      <td>die</td>\n",
       "      <td>11037</td>\n",
       "    </tr>\n",
       "    <tr>\n",
       "      <th>1</th>\n",
       "      <td>der</td>\n",
       "      <td>9988</td>\n",
       "    </tr>\n",
       "    <tr>\n",
       "      <th>2</th>\n",
       "      <td>und</td>\n",
       "      <td>9948</td>\n",
       "    </tr>\n",
       "    <tr>\n",
       "      <th>3</th>\n",
       "      <td>in</td>\n",
       "      <td>5735</td>\n",
       "    </tr>\n",
       "    <tr>\n",
       "      <th>4</th>\n",
       "      <td>das</td>\n",
       "      <td>5452</td>\n",
       "    </tr>\n",
       "    <tr>\n",
       "      <th>...</th>\n",
       "      <td>...</td>\n",
       "      <td>...</td>\n",
       "    </tr>\n",
       "    <tr>\n",
       "      <th>37564</th>\n",
       "      <td>regional</td>\n",
       "      <td>1</td>\n",
       "    </tr>\n",
       "    <tr>\n",
       "      <th>37565</th>\n",
       "      <td>Verzierung</td>\n",
       "      <td>1</td>\n",
       "    </tr>\n",
       "    <tr>\n",
       "      <th>37566</th>\n",
       "      <td>Triple</td>\n",
       "      <td>1</td>\n",
       "    </tr>\n",
       "    <tr>\n",
       "      <th>37567</th>\n",
       "      <td>Stanley</td>\n",
       "      <td>1</td>\n",
       "    </tr>\n",
       "    <tr>\n",
       "      <th>37568</th>\n",
       "      <td>wähnten</td>\n",
       "      <td>1</td>\n",
       "    </tr>\n",
       "  </tbody>\n",
       "</table>\n",
       "<p>37569 rows × 2 columns</p>\n",
       "</div>"
      ],
      "text/plain": [
       "            TOKEN  count\n",
       "0             die  11037\n",
       "1             der   9988\n",
       "2             und   9948\n",
       "3              in   5735\n",
       "4             das   5452\n",
       "...           ...    ...\n",
       "37564    regional      1\n",
       "37565  Verzierung      1\n",
       "37566      Triple      1\n",
       "37567     Stanley      1\n",
       "37568     wähnten      1\n",
       "\n",
       "[37569 rows x 2 columns]"
      ]
     },
     "execution_count": 24,
     "metadata": {},
     "output_type": "execute_result"
    }
   ],
   "source": [
    "# with filtered_lexica\n",
    "cursor.execute('select TA_TOKEN, count(*) from \"$TA_T3NTEXTIND\" where TA_TYPE <> \\'punctuation\\' and TA_TYPE <> \\'number\\' group by TA_TOKEN order by count(*) desc')\n",
    "lexica_list = cursor.fetchall()\n",
    "lexica_df = pd.DataFrame(lexica_list)\n",
    "lexica_df.columns = ['TOKEN', 'count']\n",
    "lexica_df"
   ]
  },
  {
   "cell_type": "markdown",
   "metadata": {},
   "source": [
    "### Frequent and rare words"
   ]
  },
  {
   "cell_type": "code",
   "execution_count": null,
   "metadata": {},
   "outputs": [],
   "source": [
    "# frequent words\n",
    "cursor.execute('select TA_TOKEN, count(*) from \"$TA_T3NTEXTIND\" group by TA_TOKEN order by count(*) desc')\n",
    "words_list = cursor.fetchall()\n",
    "words_df = pd.DataFrame(words_list)\n",
    "words_df.columns = ['TA_TOKEN', 'count']\n",
    "sns.set(rc={'figure.figsize':(27,7)})\n",
    "sns.barplot(x=\"TA_TOKEN\", y=\"count\", data=words_df.head(20))"
   ]
  },
  {
   "cell_type": "code",
   "execution_count": null,
   "metadata": {},
   "outputs": [],
   "source": [
    "# rare words\n",
    "words_df.tail(20)"
   ]
  },
  {
   "cell_type": "markdown",
   "metadata": {},
   "source": [
    "### Restriction to POS-Tags, categories or documents"
   ]
  },
  {
   "cell_type": "code",
   "execution_count": 35,
   "metadata": {},
   "outputs": [
    {
     "data": {
      "image/png": "[encoded data removed]",
      "text/plain": [
       "<Figure size 1944x504 with 1 Axes>"
      ]
     },
     "metadata": {},
     "output_type": "display_data"
    }
   ],
   "source": [
    "# restriction to nouns\n",
    "# barplot\n",
    "cursor.execute('select top 20 TA_TOKEN, count(*) from \"$TA_T3NTEXTIND\" where TA_TYPE=\\'noun\\' group by TA_TOKEN order by count(*) desc')\n",
    "results_words = cursor.fetchall()\n",
    "results_words_df = pd.DataFrame(results_words)\n",
    "results_words_df.columns = ['TA_TOKEN', 'count']\n",
    "sns.set(rc={'figure.figsize':(27,7)})\n",
    "ax = sns.barplot(x=\"TA_TOKEN\", y=\"count\", data=results_words_df)\n",
    "fig = ax.get_figure()\n",
    "fig.savefig('plots/barplot_nouns_t3n.png')"
   ]
  },
  {
   "cell_type": "code",
   "execution_count": 59,
   "metadata": {},
   "outputs": [
    {
     "data": {
      "image/png": "[encoded data removed]",
      "text/plain": [
       "<Figure size 1944x504 with 1 Axes>"
      ]
     },
     "metadata": {},
     "output_type": "display_data"
    },
    {
     "data": {
      "text/plain": [
       "<wordcloud.wordcloud.WordCloud at 0x1a1d93bcd0>"
      ]
     },
     "execution_count": 59,
     "metadata": {},
     "output_type": "execute_result"
    }
   ],
   "source": [
    "from wordcloud import WordCloud \n",
    "import matplotlib.pyplot as plt\n",
    "tmpDict = {}\n",
    "cursor.execute('SELECT top 20 TA_TOKEN, count(*) from \"$TA_T3NTEXTIND\" where TA_TYPE=\\'noun\\' group by TA_TOKEN order by count(*) desc')\n",
    "for row in cursor: \n",
    "    tmpDict[row[0]]=row[1]\n",
    "wordcloud = WordCloud(width=480, height=480, margin=0).generate_from_frequencies(tmpDict) \n",
    "# Display the generated image:\n",
    "plt.imshow(wordcloud, interpolation='bilinear')\n",
    "plt.axis(\"off\")\n",
    "plt.margins(x=0, y=0)\n",
    "plt.show()\n",
    "wordcloud.to_file('plots/wordcloud_nouns_t3n.png')"
   ]
  },
  {
   "cell_type": "code",
   "execution_count": null,
   "metadata": {},
   "outputs": [],
   "source": [
    "# restriction to category\n",
    "# frequent words of category Marketing\n",
    "cursor.execute('select top 20 TA_TOKEN, count(*) from \"$TA_T3NTEXTIND\", \"T3N\" where \"$TA_T3NTEXTIND\".ID = \"T3N\".ID and \"T3N\".CATEGORY = \\'Marketing\\' group by TA_TOKEN order by count(*) desc')\n",
    "words_list = cursor.fetchall()\n",
    "results_words_df = pd.DataFrame(words_list)\n",
    "results_words_df.columns = ['TA_TOKEN', 'count']\n",
    "sns.set(rc={'figure.figsize':(27,7)})\n",
    "sns.barplot(x=\"TA_TOKEN\", y=\"count\", data=results_words_df)"
   ]
  },
  {
   "cell_type": "markdown",
   "metadata": {},
   "source": [
    "## Aufgabe 4"
   ]
  },
  {
   "cell_type": "markdown",
   "metadata": {},
   "source": [
    "### Ambiguity of words"
   ]
  },
  {
   "cell_type": "code",
   "execution_count": null,
   "metadata": {},
   "outputs": [],
   "source": [
    "cursor.execute('create view POSTAGS as select TA_NORMALIZED as nor, ID as id, TA_TYPE as type, count(*) as count_words from \"$TA_T3NTEXTIND\" group by TA_NORMALIZED, ID, TA_TYPE having count(*)>1')"
   ]
  },
  {
   "cell_type": "code",
   "execution_count": null,
   "metadata": {},
   "outputs": [],
   "source": [
    "cursor.execute('select NOR, ID, count(NOR) from POSTAGS group by NOR, ID having count(NOR) > 1')\n",
    "words_list = cursor.fetchall()\n",
    "words_df = pd.DataFrame(words_list)\n",
    "df = words_df.dropna()\n",
    "df.head(30)"
   ]
  },
  {
   "cell_type": "markdown",
   "metadata": {},
   "source": [
    "## Aufgabe 5"
   ]
  },
  {
   "cell_type": "markdown",
   "metadata": {},
   "source": [
    "### 1. Statistics"
   ]
  },
  {
   "cell_type": "code",
   "execution_count": null,
   "metadata": {},
   "outputs": [],
   "source": [
    "cursor.execute('SELECT top 10 TA_TOKEN, count(*) from \"$TA_T3NTEXTIND\" where TA_TYPE=\\'noun\\' group by TA_TOKEN order by count(*) desc')\n",
    "words_top_20 = cursor.fetchall()\n",
    "words_top_20_df = pd.DataFrame(words_top_20)\n",
    "#words_top_20_df = words_top_20_df.dropna()\n",
    "words_top_20_df.columns = ['noun', 'count']\n",
    "words_top_20_df.head(20)\n",
    "\n",
    "sns.set(rc={'figure.figsize':(17,7)})\n",
    "sns.set(style=\"whitegrid\")\n",
    "ax = sns.barplot(x=\"noun\", y=\"count\", data=words_top_20_df)"
   ]
  },
  {
   "cell_type": "markdown",
   "metadata": {},
   "source": [
    "### 2. Statistics"
   ]
  },
  {
   "cell_type": "code",
   "execution_count": null,
   "metadata": {},
   "outputs": [],
   "source": [
    "cursor.execute('SELECT category from T3N')\n",
    "category_t3n = cursor.fetchall()\n",
    "category_t3n_df = pd.DataFrame(category_t3n)\n",
    "category_t3n_df.columns = ['category']\n",
    "sns.set(rc={'figure.figsize':(27,7)})\n",
    "ax = sns.countplot(x=\"category\", data=category_t3n_df)\n",
    "fig = ax.get_figure()\n",
    "fig.savefig('plots/categories_countplot_t3n.png')"
   ]
  },
  {
   "cell_type": "markdown",
   "metadata": {},
   "source": [
    "### 3. Statistics"
   ]
  },
  {
   "cell_type": "code",
   "execution_count": null,
   "metadata": {},
   "outputs": [],
   "source": [
    "# TODO sentiment analysis"
   ]
  }
 ],
 "metadata": {
  "kernelspec": {
   "display_name": "Python 3",
   "language": "python",
   "name": "python3"
  },
  "language_info": {
   "codemirror_mode": {
    "name": "ipython",
    "version": 3
   },
   "file_extension": ".py",
   "mimetype": "text/x-python",
   "name": "python",
   "nbconvert_exporter": "python",
   "pygments_lexer": "ipython3",
   "version": "3.7.5"
  }
 },
 "nbformat": 4,
 "nbformat_minor": 4
}
