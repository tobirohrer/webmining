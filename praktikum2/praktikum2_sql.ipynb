{
 "cells": [
  {
   "cell_type": "code",
   "execution_count": null,
   "metadata": {},
   "outputs": [],
   "source": [
    "from hdbcli import dbapi\n",
    "import pandas as pd\n",
    "import nltk as nltk\n",
    "import seaborn as sns\n",
    "from nltk.corpus import stopwords\n",
    "import re"
   ]
  },
  {
   "cell_type": "code",
   "execution_count": null,
   "metadata": {},
   "outputs": [],
   "source": [
    "connection = dbapi.connect('52.18.25.218', 39015, 'SYSTEM', 'Glorp2018!')\n",
    "connection.isconnected()"
   ]
  },
  {
   "cell_type": "code",
   "execution_count": null,
   "metadata": {},
   "outputs": [],
   "source": [
    "cursor = connection.cursor()"
   ]
  },
  {
   "cell_type": "markdown",
   "metadata": {},
   "source": [
    "# Teil 2 mit SQL\n",
    "## Aufgabe 1"
   ]
  },
  {
   "cell_type": "code",
   "execution_count": null,
   "metadata": {},
   "outputs": [],
   "source": [
    "# nouns per document\n",
    "cursor.execute('select ID, count(*) from \"$TA_T3NTEXTIND\" where TA_TYPE=\\'noun\\' group by ID order by count(*) desc')\n",
    "nouns_list = cursor.fetchall()\n",
    "nouns_df = pd.DataFrame(nouns_list)\n",
    "nouns_df.columns = ['doc', 'count']\n",
    "print(nouns_df)\n",
    "\n",
    "ax = sns.distplot(nouns_df['count'])\n",
    "ax.set(xlabel='#nouns per document')\n",
    "ax.set_title('Nouns per document')\n",
    "fig = ax.get_figure()"
   ]
  },
  {
   "cell_type": "code",
   "execution_count": null,
   "metadata": {},
   "outputs": [],
   "source": [
    "# number of individual nouns per document\n",
    "# todo"
   ]
  },
  {
   "cell_type": "markdown",
   "metadata": {},
   "source": [
    "## Aufgabe 2"
   ]
  },
  {
   "cell_type": "code",
   "execution_count": null,
   "metadata": {},
   "outputs": [],
   "source": [
    "# size lexica\n",
    "cursor.execute('select count(distinct TA_TOKEN) from \"$TA_T3NTEXTIND\"')\n",
    "nouns_list = cursor.fetchall()\n",
    "lexica_size = pd.DataFrame(nouns_list)\n",
    "lexica_size.columns = ['size']\n",
    "lexica_size"
   ]
  },
  {
   "cell_type": "code",
   "execution_count": null,
   "metadata": {},
   "outputs": [],
   "source": [
    "# size lexica without \",\"\n",
    "cursor.execute('select count(distinct TA_TOKEN) from \"$TA_T3NTEXTIND\" where TA_TOKEN <> \\',\\'')\n",
    "nouns_list = cursor.fetchall()\n",
    "lexica_size = pd.DataFrame(nouns_list)\n",
    "lexica_size.columns = ['size']\n",
    "lexica_size"
   ]
  },
  {
   "cell_type": "markdown",
   "metadata": {},
   "source": [
    "## Aufgabe 3"
   ]
  },
  {
   "cell_type": "code",
   "execution_count": null,
   "metadata": {},
   "outputs": [],
   "source": [
    "# word frequency\n",
    "cursor.execute('select TA_TOKEN, count(*) from \"$TA_T3NTEXTIND\" group by TA_TOKEN order by count(*) desc')\n",
    "words_list = cursor.fetchall()\n",
    "words_df = pd.DataFrame(words_list)\n",
    "words_df.columns = ['word', 'count']\n",
    "words_df"
   ]
  },
  {
   "cell_type": "code",
   "execution_count": null,
   "metadata": {},
   "outputs": [],
   "source": [
    "# restriction to POS-Tags, categories or documents"
   ]
  },
  {
   "cell_type": "code",
   "execution_count": null,
   "metadata": {},
   "outputs": [],
   "source": [
    "from wordcloud import WordCloud \n",
    "import matplotlib.pyplot as plt\n",
    "tmpDict = {}\n",
    "cursor.execute('SELECT top 20 TA_TOKEN, count(*) from \"$TA_T3NTEXTIND\" where TA_TYPE=\\'noun\\' group by TA_TOKEN order by count(*) desc')\n",
    "for row in cursor: \n",
    "    tmpDict[row[0]]=row[1]\n",
    "wordcloud = WordCloud(width=480, height=480, margin=0).generate_from_frequencies(tmpDict) \n",
    "               # Display the generated image:\n",
    "plt.imshow(wordcloud, interpolation='bilinear')\n",
    "plt.axis(\"off\")\n",
    "plt.margins(x=0, y=0)\n",
    "plt.show()"
   ]
  },
  {
   "cell_type": "markdown",
   "metadata": {},
   "source": [
    "## Aufgabe 4"
   ]
  },
  {
   "cell_type": "code",
   "execution_count": null,
   "metadata": {},
   "outputs": [],
   "source": []
  },
  {
   "cell_type": "markdown",
   "metadata": {},
   "source": [
    "## Aufgabe 5"
   ]
  },
  {
   "cell_type": "code",
   "execution_count": null,
   "metadata": {},
   "outputs": [],
   "source": []
  }
 ],
 "metadata": {
  "kernelspec": {
   "display_name": "Python 3",
   "language": "python",
   "name": "python3"
  },
  "language_info": {
   "codemirror_mode": {
    "name": "ipython",
    "version": 3
   },
   "file_extension": ".py",
   "mimetype": "text/x-python",
   "name": "python",
   "nbconvert_exporter": "python",
   "pygments_lexer": "ipython3",
   "version": "3.7.5"
  }
 },
 "nbformat": 4,
 "nbformat_minor": 2
}
