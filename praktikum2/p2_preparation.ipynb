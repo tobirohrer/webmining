{
 "cells": [
  {
   "cell_type": "markdown",
   "metadata": {},
   "source": [
    "# Preparation P2"
   ]
  },
  {
   "cell_type": "markdown",
   "metadata": {},
   "source": [
    "### Connection with Python"
   ]
  },
  {
   "cell_type": "code",
   "execution_count": null,
   "metadata": {},
   "outputs": [],
   "source": [
    "from hdbcli import dbapi\n",
    "import numpy as np"
   ]
  },
  {
   "cell_type": "code",
   "execution_count": null,
   "metadata": {},
   "outputs": [],
   "source": [
    "# connection with HANA VM\n",
    "connection = dbapi.connect('52.18.8.143', 39015, 'SYSTEM', 'Glorp2018!')\n",
    "cursor = connection.cursor()"
   ]
  },
  {
   "cell_type": "code",
   "execution_count": null,
   "metadata": {},
   "outputs": [],
   "source": [
    "# create a new table testing\n",
    "cursor.execute('CREATE TABLE TESTING( ID integer primary key, title varchar(2000), te clob)') \n",
    "\n",
    "# insert values (table with three the columns ID, TITLE, TE)\n",
    "sql = 'insert into TESTING (ID, TITLE, TE) VALUES (?,?,?)'\n",
    "\n",
    "n = 1024 ** 2 # generate 1MB of random text string\n",
    "letters = np.array(list(chr(ord('a') + i) for i in range(26))); \n",
    "chars = ''.join(np.random.choice(letters, n))\n",
    "\n",
    "cursor.execute(sql, (1, 'Versuch1', chars)) \n",
    "cursor.execute(sql, (2, 'Versuch2', chars))"
   ]
  },
  {
   "cell_type": "code",
   "execution_count": null,
   "metadata": {},
   "outputs": [],
   "source": [
    "cursor.execute('select count(distinct (ID)) from TESTING') \n",
    "print( cursor.fetchall()) # print number of IDs"
   ]
  },
  {
   "cell_type": "code",
   "execution_count": null,
   "metadata": {},
   "outputs": [],
   "source": [
    "cursor.execute('select ID, TITLE from TESTING') \n",
    "for row in cursor:\n",
    "    print(row[1]) # print title"
   ]
  }
 ],
 "metadata": {
  "kernelspec": {
   "display_name": "Python 3",
   "language": "python",
   "name": "python3"
  },
  "language_info": {
   "codemirror_mode": {
    "name": "ipython",
    "version": 3
   },
   "file_extension": ".py",
   "mimetype": "text/x-python",
   "name": "python",
   "nbconvert_exporter": "python",
   "pygments_lexer": "ipython3",
   "version": "3.7.4"
  }
 },
 "nbformat": 4,
 "nbformat_minor": 4
}
