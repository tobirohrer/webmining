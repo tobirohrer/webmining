{
 "cells": [
  {
   "cell_type": "code",
   "execution_count": null,
   "metadata": {
    "scrolled": true
   },
   "outputs": [],
   "source": [
    "from hdbcli import dbapi\n",
    "import pandas as pd\n",
    "import nltk as nltk\n",
    "import seaborn as sns\n",
    "from nltk.corpus import stopwords\n",
    "from nltk.stem.cistem import Cistem"
   ]
  },
  {
   "cell_type": "code",
   "execution_count": null,
   "metadata": {
    "scrolled": true
   },
   "outputs": [],
   "source": [
    "connection = dbapi.connect('52.214.219.42', 39015, 'SYSTEM', 'Glorp2018!')\n",
    "connection.isconnected()"
   ]
  },
  {
   "cell_type": "code",
   "execution_count": null,
   "metadata": {
    "scrolled": true
   },
   "outputs": [],
   "source": [
    "cursor = connection.cursor()"
   ]
  },
  {
   "cell_type": "markdown",
   "metadata": {},
   "source": [
    "# Import t3n Data into HANA"
   ]
  },
  {
   "cell_type": "code",
   "execution_count": null,
   "metadata": {
    "scrolled": true
   },
   "outputs": [],
   "source": [
    "t3n_data = pd.read_csv('../praktikum1/t3n_data_spider.csv')"
   ]
  },
  {
   "cell_type": "code",
   "execution_count": null,
   "metadata": {
    "scrolled": true
   },
   "outputs": [],
   "source": [
    "def create_table():\n",
    "    sql = 'CREATE COLUMN TABLE \\\"SYSTEM\\\".\\\"T3N\\\" (\\\"ID\\\" VARCHAR(500),\\\"HEADING\\\" VARCHAR(2000),\\\"CATEGORY\\\" VARCHAR(2000),\\\"TEASER\\\" VARCHAR(5000),\\\"TEXT\\\" CLOB MEMORY THRESHOLD 1000,\\\"URL\\\" VARCHAR(2000), PRIMARY KEY (\\\"ID\\\"))'\n",
    "    cursor.execute(sql)\n"
   ]
  },
  {
   "cell_type": "code",
   "execution_count": null,
   "metadata": {
    "scrolled": true
   },
   "outputs": [],
   "source": [
    "def get_escaped_string(string):\n",
    "    return '\\'' + str(string) + '\\''"
   ]
  },
  {
   "cell_type": "code",
   "execution_count": null,
   "metadata": {
    "scrolled": true
   },
   "outputs": [],
   "source": [
    "def insert_data():\n",
    "    for index, row in t3n_data.iterrows():\n",
    "        sql_insert_datapoint = 'insert into \\\"SYSTEM\\\".\\\"T3N\\\" (ID, HEADING, CATEGORY, TEASER, TEXT, URL) VALUES (' + get_escaped_string(row['id']) + ', ' + get_escaped_string(row['heading']) +', ' + get_escaped_string(row['category']) + ',' + get_escaped_string(row['teaser']) + ', ' + get_escaped_string(row['text']) + ', ' + get_escaped_string(row['url'])+ ')'\n",
    "        print(sql_insert_datapoint)\n",
    "        #print(row['heading'])\n",
    "        cursor.execute(sql_insert_datapoint)\n",
    "    "
   ]
  },
  {
   "cell_type": "markdown",
   "metadata": {},
   "source": [
    "# Teil 2"
   ]
  },
  {
   "cell_type": "code",
   "execution_count": null,
   "metadata": {
    "scrolled": true
   },
   "outputs": [],
   "source": [
    "cmpl_data = pd.read_csv('./_TA_CDESCRIND__201911271735.csv')"
   ]
  },
  {
   "cell_type": "code",
   "execution_count": 132,
   "metadata": {},
   "outputs": [
    {
     "data": {
      "text/html": [
       "<div>\n",
       "<style scoped>\n",
       "    .dataframe tbody tr th:only-of-type {\n",
       "        vertical-align: middle;\n",
       "    }\n",
       "\n",
       "    .dataframe tbody tr th {\n",
       "        vertical-align: top;\n",
       "    }\n",
       "\n",
       "    .dataframe thead th {\n",
       "        text-align: right;\n",
       "    }\n",
       "</style>\n",
       "<table border=\"1\" class=\"dataframe\">\n",
       "  <thead>\n",
       "    <tr style=\"text-align: right;\">\n",
       "      <th></th>\n",
       "      <th>CMPLID</th>\n",
       "      <th>TA_RULE</th>\n",
       "      <th>TA_COUNTER</th>\n",
       "      <th>TA_TOKEN</th>\n",
       "      <th>TA_LANGUAGE</th>\n",
       "      <th>TA_TYPE</th>\n",
       "      <th>TA_TYPE_EXPANDED</th>\n",
       "      <th>TA_NORMALIZED</th>\n",
       "      <th>TA_STEM</th>\n",
       "      <th>TA_PARAGRAPH</th>\n",
       "      <th>TA_SENTENCE</th>\n",
       "      <th>TA_CREATED_AT</th>\n",
       "      <th>TA_OFFSET</th>\n",
       "      <th>TA_PARENT</th>\n",
       "      <th>TA_STEMMED</th>\n",
       "    </tr>\n",
       "  </thead>\n",
       "  <tbody>\n",
       "    <tr>\n",
       "      <th>0</th>\n",
       "      <td>978960</td>\n",
       "      <td>LXP</td>\n",
       "      <td>4</td>\n",
       "      <td>:</td>\n",
       "      <td>en</td>\n",
       "      <td>punctuation</td>\n",
       "      <td>NaN</td>\n",
       "      <td>NaN</td>\n",
       "      <td>NaN</td>\n",
       "      <td>1</td>\n",
       "      <td>1</td>\n",
       "      <td>2018-08-22 07:47:41</td>\n",
       "      <td>14</td>\n",
       "      <td>NaN</td>\n",
       "      <td>nan</td>\n",
       "    </tr>\n",
       "    <tr>\n",
       "      <th>1</th>\n",
       "      <td>978960</td>\n",
       "      <td>LXP</td>\n",
       "      <td>7</td>\n",
       "      <td>,</td>\n",
       "      <td>en</td>\n",
       "      <td>punctuation</td>\n",
       "      <td>NaN</td>\n",
       "      <td>NaN</td>\n",
       "      <td>NaN</td>\n",
       "      <td>1</td>\n",
       "      <td>1</td>\n",
       "      <td>2018-08-22 07:47:41</td>\n",
       "      <td>33</td>\n",
       "      <td>NaN</td>\n",
       "      <td>nan</td>\n",
       "    </tr>\n",
       "    <tr>\n",
       "      <th>2</th>\n",
       "      <td>978960</td>\n",
       "      <td>LXP</td>\n",
       "      <td>13</td>\n",
       "      <td>.</td>\n",
       "      <td>en</td>\n",
       "      <td>punctuation</td>\n",
       "      <td>NaN</td>\n",
       "      <td>NaN</td>\n",
       "      <td>NaN</td>\n",
       "      <td>1</td>\n",
       "      <td>1</td>\n",
       "      <td>2018-08-22 07:47:41</td>\n",
       "      <td>60</td>\n",
       "      <td>NaN</td>\n",
       "      <td>nan</td>\n",
       "    </tr>\n",
       "    <tr>\n",
       "      <th>3</th>\n",
       "      <td>979333</td>\n",
       "      <td>LXP</td>\n",
       "      <td>9</td>\n",
       "      <td>,</td>\n",
       "      <td>en</td>\n",
       "      <td>punctuation</td>\n",
       "      <td>NaN</td>\n",
       "      <td>NaN</td>\n",
       "      <td>NaN</td>\n",
       "      <td>1</td>\n",
       "      <td>1</td>\n",
       "      <td>2018-08-22 07:47:41</td>\n",
       "      <td>37</td>\n",
       "      <td>NaN</td>\n",
       "      <td>nan</td>\n",
       "    </tr>\n",
       "    <tr>\n",
       "      <th>4</th>\n",
       "      <td>979333</td>\n",
       "      <td>LXP</td>\n",
       "      <td>12</td>\n",
       "      <td>:</td>\n",
       "      <td>en</td>\n",
       "      <td>punctuation</td>\n",
       "      <td>NaN</td>\n",
       "      <td>NaN</td>\n",
       "      <td>NaN</td>\n",
       "      <td>1</td>\n",
       "      <td>1</td>\n",
       "      <td>2018-08-22 07:47:41</td>\n",
       "      <td>51</td>\n",
       "      <td>NaN</td>\n",
       "      <td>nan</td>\n",
       "    </tr>\n",
       "  </tbody>\n",
       "</table>\n",
       "</div>"
      ],
      "text/plain": [
       "   CMPLID TA_RULE  TA_COUNTER TA_TOKEN TA_LANGUAGE      TA_TYPE  \\\n",
       "0  978960     LXP           4        :          en  punctuation   \n",
       "1  978960     LXP           7        ,          en  punctuation   \n",
       "2  978960     LXP          13        .          en  punctuation   \n",
       "3  979333     LXP           9        ,          en  punctuation   \n",
       "4  979333     LXP          12        :          en  punctuation   \n",
       "\n",
       "   TA_TYPE_EXPANDED TA_NORMALIZED TA_STEM  TA_PARAGRAPH  TA_SENTENCE  \\\n",
       "0               NaN           NaN     NaN             1            1   \n",
       "1               NaN           NaN     NaN             1            1   \n",
       "2               NaN           NaN     NaN             1            1   \n",
       "3               NaN           NaN     NaN             1            1   \n",
       "4               NaN           NaN     NaN             1            1   \n",
       "\n",
       "         TA_CREATED_AT  TA_OFFSET  TA_PARENT TA_STEMMED  \n",
       "0  2018-08-22 07:47:41         14        NaN        nan  \n",
       "1  2018-08-22 07:47:41         33        NaN        nan  \n",
       "2  2018-08-22 07:47:41         60        NaN        nan  \n",
       "3  2018-08-22 07:47:41         37        NaN        nan  \n",
       "4  2018-08-22 07:47:41         51        NaN        nan  "
      ]
     },
     "execution_count": 132,
     "metadata": {},
     "output_type": "execute_result"
    }
   ],
   "source": [
    "cmpl_data.head()"
   ]
  },
  {
   "cell_type": "code",
   "execution_count": null,
   "metadata": {},
   "outputs": [],
   "source": [
    "# Caution !! Takes ages ! \n",
    "cursor.execute('select * from \"$TA_CDESCRIND\"')\n",
    "cursor.fetchall()"
   ]
  },
  {
   "cell_type": "markdown",
   "metadata": {},
   "source": [
    "## Aufgabe 1 - Nouns per Document"
   ]
  },
  {
   "cell_type": "code",
   "execution_count": 122,
   "metadata": {
    "scrolled": true
   },
   "outputs": [
    {
     "data": {
      "image/png": "[encoded data removed]",
      "text/plain": [
       "<Figure size 432x288 with 1 Axes>"
      ]
     },
     "metadata": {
      "needs_background": "light"
     },
     "output_type": "display_data"
    }
   ],
   "source": [
    "cmpl_nouns = cmpl_data[cmpl_data['TA_TYPE']==\"noun\"]\n",
    "nouns_per_doc = cmpl_nouns[\"CMPLID\"].value_counts()\n",
    "ax = sns.distplot(nouns_per_doc)\n",
    "ax.set(xlabel='#nouns per document')\n",
    "ax.set_title('Nouns per document')\n",
    "fig = ax.get_figure()"
   ]
  },
  {
   "cell_type": "code",
   "execution_count": 162,
   "metadata": {},
   "outputs": [
    {
     "data": {
      "text/plain": [
       "CMPLID   TA_TOKEN\n",
       "68       BUCKLE      1\n",
       "         CHILD       1\n",
       "         SEAT        1\n",
       "         SHIELD      1\n",
       "         STICKS      1\n",
       "                    ..\n",
       "1478501  THREADS     1\n",
       "         VIDEO       1\n",
       "         VIEW        1\n",
       "         WRANGLER    1\n",
       "         WWW         1\n",
       "Name: TA_TOKEN, Length: 1687025, dtype: int64"
      ]
     },
     "execution_count": 162,
     "metadata": {},
     "output_type": "execute_result"
    }
   ],
   "source": [
    "cmpl_nouns = cmpl_data[cmpl_data['TA_TYPE']==\"noun\"]\n",
    "cmpl_nouns.groupby('CMPLID')['TA_TOKEN'].value_counts()"
   ]
  },
  {
   "cell_type": "code",
   "execution_count": 163,
   "metadata": {},
   "outputs": [],
   "source": [
    "def get_tokencount_per_document(doc_id, df):\n",
    "    cmpl_nouns = df[df['TA_TYPE']==\"noun\"]\n",
    "    cmpl_id = cmpl_nouns[cmpl_nouns['CMPLID'] == doc_id]\n",
    "    return cmpl_id['TA_TOKEN'].value_counts()"
   ]
  },
  {
   "cell_type": "code",
   "execution_count": 164,
   "metadata": {},
   "outputs": [
    {
     "data": {
      "text/plain": [
       "TEE       1\n",
       "SHIELD    1\n",
       "BUCKLE    1\n",
       "CHILD     1\n",
       "SEAT      1\n",
       "STICKS    1\n",
       "Name: TA_TOKEN, dtype: int64"
      ]
     },
     "execution_count": 164,
     "metadata": {},
     "output_type": "execute_result"
    }
   ],
   "source": [
    "get_tokencount_per_document(68, cmpl_data)"
   ]
  },
  {
   "cell_type": "markdown",
   "metadata": {},
   "source": [
    "## Aufgabe 2 "
   ]
  },
  {
   "cell_type": "markdown",
   "metadata": {},
   "source": [
    "### Size of Lexica"
   ]
  },
  {
   "cell_type": "code",
   "execution_count": null,
   "metadata": {},
   "outputs": [],
   "source": [
    "cmpl_data['TA_TOKEN'].nunique()"
   ]
  },
  {
   "cell_type": "code",
   "execution_count": null,
   "metadata": {},
   "outputs": [],
   "source": [
    "cmpl_data['TA_NORMALIZED'].nunique()"
   ]
  },
  {
   "cell_type": "markdown",
   "metadata": {},
   "source": [
    "### Size of Lexica without punctuation and stopwords"
   ]
  },
  {
   "cell_type": "code",
   "execution_count": null,
   "metadata": {},
   "outputs": [],
   "source": [
    "def remove_unneeded_token_types(data):\n",
    "    TA_TYPES_TO_REMOVE = set({'punctuation', 'number'})\n",
    "    return data[~data['TA_TYPE'].isin(TA_TYPES_TO_REMOVE)]\n",
    "\n",
    "def remove_stopwords(data):\n",
    "    nltk.download('stopwords')\n",
    "    english_stopwords = set(stopwords.words('english'))\n",
    "    data['TA_TOKEN_LOW'] = data['TA_TOKEN'].map(lambda row: str(row).lower())\n",
    "    return data[~data['TA_TOKEN_LOW'].isin(english_stopwords)]"
   ]
  },
  {
   "cell_type": "code",
   "execution_count": null,
   "metadata": {},
   "outputs": [],
   "source": [
    "cmpl_data_no_uneeded_tokens = remove_unneeded_token_types(cmpl_data)\n",
    "cmpl_data_no_uneeded_tokens['TA_TOKEN'].nunique()"
   ]
  },
  {
   "cell_type": "code",
   "execution_count": null,
   "metadata": {},
   "outputs": [],
   "source": [
    "cmpl_data_no_stopwords_no_uneeded_tokens = remove_stopwords(cmpl_data_no_uneeded_tokens)\n",
    "cmpl_data_no_stopwords_no_uneeded_tokens['TA_TOKEN'].nunique()"
   ]
  },
  {
   "cell_type": "markdown",
   "metadata": {},
   "source": [
    "### Size of Lexica after Stemming\n",
    "Das Anwenden von Stemming verringert die Größe des Lexikons von 71556 auf 63690, also um rund 11%."
   ]
  },
  {
   "cell_type": "code",
   "execution_count": null,
   "metadata": {},
   "outputs": [],
   "source": [
    "stemmer = Cistem()\n",
    "cmpl_data['TA_STEMMED'] = cmpl_data['TA_NORMALIZED'].map(lambda token: stemmer.stem(str(token)))\n",
    "cmpl_data['TA_STEMMED'].nunique()"
   ]
  },
  {
   "cell_type": "markdown",
   "metadata": {},
   "source": [
    "### Mean Document / Sentence length"
   ]
  },
  {
   "cell_type": "code",
   "execution_count": null,
   "metadata": {},
   "outputs": [],
   "source": [
    "mean_doc_length = cmpl_data[\"CMPLID\"].value_counts().mean()\n",
    "mean_doc_length"
   ]
  },
  {
   "cell_type": "code",
   "execution_count": null,
   "metadata": {},
   "outputs": [],
   "source": [
    "mean_sentence_length = cmpl_data.groupby(\"CMPLID\")[\"TA_SENTENCE\"].value_counts().mean()"
   ]
  },
  {
   "cell_type": "code",
   "execution_count": null,
   "metadata": {},
   "outputs": [],
   "source": [
    "mean_sentence_length"
   ]
  },
  {
   "cell_type": "markdown",
   "metadata": {},
   "source": [
    "# Tokenization (obsolete)"
   ]
  },
  {
   "cell_type": "code",
   "execution_count": null,
   "metadata": {
    "scrolled": true
   },
   "outputs": [],
   "source": [
    "nltk.download('punkt')"
   ]
  },
  {
   "cell_type": "code",
   "execution_count": null,
   "metadata": {
    "scrolled": true
   },
   "outputs": [],
   "source": [
    "t3n_data_tokenized = t3n_data\n",
    "t3n_data_tokenized['text'] = t3n_data_tokenized.apply(lambda row: nltk.word_tokenize(str(row['text'])), axis=1)\n",
    "t3n_data_tokenized['teaser'] = t3n_data_tokenized.apply(lambda row: nltk.word_tokenize(str(row['teaser'])), axis=1)\n",
    "t3n_data_tokenized['heading'] = t3n_data_tokenized.apply(lambda row: nltk.word_tokenize(str(row['heading'])), axis=1)"
   ]
  },
  {
   "cell_type": "code",
   "execution_count": null,
   "metadata": {
    "scrolled": true
   },
   "outputs": [],
   "source": [
    "for index, row in t3n_data.iterrows():\n",
    "    print(row['heading'])"
   ]
  }
 ],
 "metadata": {
  "kernelspec": {
   "display_name": "Python 3",
   "language": "python",
   "name": "python3"
  },
  "language_info": {
   "codemirror_mode": {
    "name": "ipython",
    "version": 3
   },
   "file_extension": ".py",
   "mimetype": "text/x-python",
   "name": "python",
   "nbconvert_exporter": "python",
   "pygments_lexer": "ipython3",
   "version": "3.7.4"
  }
 },
 "nbformat": 4,
 "nbformat_minor": 2
}
