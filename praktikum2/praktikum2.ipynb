{
 "cells": [
  {
   "cell_type": "code",
   "execution_count": 38,
   "metadata": {
    "scrolled": true
   },
   "outputs": [],
   "source": [
    "from hdbcli import dbapi\n",
    "import pandas as pd\n",
    "import nltk as nltk\n",
    "import seaborn as sns\n",
    "from nltk.corpus import stopwords\n",
    "from nltk.stem.cistem import Cistem\n",
    "from nltk.stem import WordNetLemmatizer\n",
    "from enum import Enum"
   ]
  },
  {
   "cell_type": "code",
   "execution_count": 2,
   "metadata": {
    "scrolled": true
   },
   "outputs": [
    {
     "data": {
      "text/plain": [
       "True"
      ]
     },
     "execution_count": 2,
     "metadata": {},
     "output_type": "execute_result"
    }
   ],
   "source": [
    "connection = dbapi.connect('34.255.100.176', 39015, 'SYSTEM', 'Glorp2018!')\n",
    "connection.isconnected()"
   ]
  },
  {
   "cell_type": "code",
   "execution_count": 3,
   "metadata": {
    "scrolled": true
   },
   "outputs": [],
   "source": [
    "cursor = connection.cursor()"
   ]
  },
  {
   "cell_type": "markdown",
   "metadata": {},
   "source": [
    "# Teil 2"
   ]
  },
  {
   "cell_type": "code",
   "execution_count": 4,
   "metadata": {
    "scrolled": false
   },
   "outputs": [
    {
     "name": "stderr",
     "output_type": "stream",
     "text": [
      "/usr/local/lib/python3.7/site-packages/IPython/core/interactiveshell.py:3058: DtypeWarning: Columns (7,8) have mixed types. Specify dtype option on import or set low_memory=False.\n",
      "  interactivity=interactivity, compiler=compiler, result=result)\n",
      "/usr/local/lib/python3.7/site-packages/IPython/core/interactiveshell.py:3058: DtypeWarning: Columns (8) have mixed types. Specify dtype option on import or set low_memory=False.\n",
      "  interactivity=interactivity, compiler=compiler, result=result)\n"
     ]
    }
   ],
   "source": [
    "cmpl_data = pd.read_csv('./_TA_CDESCRIND__201911271735.csv')\n",
    "t3n_data = pd.read_csv('./_TA_T3NTEXTIND__201912031756.csv')"
   ]
  },
  {
   "cell_type": "code",
   "execution_count": null,
   "metadata": {},
   "outputs": [],
   "source": [
    "t3n_data.head()"
   ]
  },
  {
   "cell_type": "markdown",
   "metadata": {},
   "source": [
    "## Aufgabe 1 - Nouns per Document"
   ]
  },
  {
   "cell_type": "markdown",
   "metadata": {},
   "source": [
    "### #Nouns per Document (Optional)"
   ]
  },
  {
   "cell_type": "code",
   "execution_count": null,
   "metadata": {
    "scrolled": true
   },
   "outputs": [],
   "source": [
    "t3n_nouns = t3n_data[t3n_data['TA_TYPE']==\"noun\"]\n",
    "nouns_per_doc = t3n_nouns[\"ID\"].value_counts()\n",
    "ax = sns.distplot(nouns_per_doc)\n",
    "ax.set(xlabel='#nouns per document')\n",
    "ax.set_title('Nouns per document')\n",
    "fig = ax.get_figure()"
   ]
  },
  {
   "cell_type": "markdown",
   "metadata": {},
   "source": [
    "### Using Pandas"
   ]
  },
  {
   "cell_type": "code",
   "execution_count": null,
   "metadata": {},
   "outputs": [],
   "source": [
    "cmpl_nouns = cmpl_data[cmpl_data['TA_TYPE']==\"noun\"]\n",
    "cmpl_nouns.groupby('CMPLID')['TA_TOKEN'].value_counts()\n",
    "\n",
    "def get_tokencount_per_document(doc_id, df):\n",
    "    cmpl_nouns = df[df['TA_TYPE']==\"noun\"]\n",
    "    cmpl_id = cmpl_nouns[cmpl_nouns['CMPLID'] == doc_id]\n",
    "    return cmpl_id['TA_TOKEN'].value_counts()"
   ]
  },
  {
   "cell_type": "markdown",
   "metadata": {},
   "source": [
    "### Using SQL-View"
   ]
  },
  {
   "cell_type": "code",
   "execution_count": null,
   "metadata": {},
   "outputs": [],
   "source": [
    "# drop SQL-View\n",
    "sql_drop_view = 'drop view COUNT_NOUNS'\n",
    "cursor.execute(sql_drop_view)"
   ]
  },
  {
   "cell_type": "code",
   "execution_count": null,
   "metadata": {},
   "outputs": [],
   "source": [
    "# nouns per document\n",
    "sql = 'create view COUNT_NOUNS as select ID, TA_TOKEN, count(*) as COUNT from \"$TA_T3NTEXTIND\" where TA_TYPE=\\'noun\\' group by ID, TA_TOKEN'\n",
    "cursor.execute(sql)"
   ]
  },
  {
   "cell_type": "code",
   "execution_count": null,
   "metadata": {},
   "outputs": [],
   "source": [
    "cursor.execute('select * from COUNT_NOUNS')\n",
    "nouns_list = cursor.fetchall()\n",
    "nouns_df = pd.DataFrame(nouns_list)\n",
    "nouns_df.head(20)"
   ]
  },
  {
   "cell_type": "markdown",
   "metadata": {},
   "source": [
    "## Aufgabe 2 Pandas Implementation "
   ]
  },
  {
   "cell_type": "markdown",
   "metadata": {},
   "source": [
    "### Size of Lexica before cleanup"
   ]
  },
  {
   "cell_type": "code",
   "execution_count": null,
   "metadata": {},
   "outputs": [],
   "source": [
    "cmpl_lexica_size = cmpl_data['TA_TOKEN'].nunique()\n",
    "t3n_lexica_size = t3n_data['TA_TOKEN'].nunique()\n",
    "cmpl_normalized_lexica_size = cmpl_data['TA_NORMALIZED'].nunique()\n",
    "t3n_normalized_lexica_size = t3n_data['TA_NORMALIZED'].nunique()"
   ]
  },
  {
   "cell_type": "markdown",
   "metadata": {},
   "source": [
    "### Size of Lexica without punctuation and stopwords"
   ]
  },
  {
   "cell_type": "code",
   "execution_count": 5,
   "metadata": {},
   "outputs": [],
   "source": [
    "def remove_unneeded_token_types(data):\n",
    "    TA_TYPES_TO_REMOVE = set({'punctuation', 'number'})\n",
    "    return data[~data['TA_TYPE'].isin(TA_TYPES_TO_REMOVE)]\n",
    "\n",
    "def remove_stopwords(data, language):\n",
    "    #nltk.download(language)\n",
    "    stopword_set = set(stopwords.words(language))\n",
    "    data['TA_TOKEN_LOW'] = data['TA_TOKEN'].map(lambda row: str(row).lower())\n",
    "    return data[~data['TA_TOKEN_LOW'].isin(stopword_set)]\n",
    "\n",
    "def remove_unique_tokens(data):\n",
    "    return data.groupby('TA_TOKEN').filter(lambda x: len(x) > 1)"
   ]
  },
  {
   "cell_type": "code",
   "execution_count": 6,
   "metadata": {},
   "outputs": [
    {
     "name": "stdout",
     "output_type": "stream",
     "text": [
      "size of cmpl lexica after punctuation and number removal: 63445\n"
     ]
    },
    {
     "name": "stderr",
     "output_type": "stream",
     "text": [
      "/usr/local/lib/python3.7/site-packages/ipykernel_launcher.py:8: SettingWithCopyWarning: \n",
      "A value is trying to be set on a copy of a slice from a DataFrame.\n",
      "Try using .loc[row_indexer,col_indexer] = value instead\n",
      "\n",
      "See the caveats in the documentation: http://pandas.pydata.org/pandas-docs/stable/user_guide/indexing.html#returning-a-view-versus-a-copy\n",
      "  \n"
     ]
    },
    {
     "name": "stdout",
     "output_type": "stream",
     "text": [
      "size of cmpl lexica after stopword removal: 63293\n",
      "size of cmpl lexica after removing unique words: 35902\n"
     ]
    }
   ],
   "source": [
    "cmpl_data_cleaned = remove_unneeded_token_types(cmpl_data)\n",
    "print(\"size of cmpl lexica after punctuation and number removal: \" + str(cmpl_data_cleaned['TA_TOKEN'].nunique()))\n",
    "cmpl_data_cleaned = remove_stopwords(cmpl_data_cleaned, 'english')\n",
    "print(\"size of cmpl lexica after stopword removal: \" + str(cmpl_data_cleaned['TA_TOKEN'].nunique()))\n",
    "cmpl_data_cleaned = remove_unique_tokens(cmpl_data_cleaned)\n",
    "print(\"size of cmpl lexica after removing unique words: \" + str(cmpl_data_cleaned['TA_TOKEN'].nunique()))"
   ]
  },
  {
   "cell_type": "code",
   "execution_count": 7,
   "metadata": {},
   "outputs": [
    {
     "name": "stdout",
     "output_type": "stream",
     "text": [
      "size of t3n lexica after punctuation and number removal: 37567\n"
     ]
    },
    {
     "name": "stderr",
     "output_type": "stream",
     "text": [
      "/usr/local/lib/python3.7/site-packages/ipykernel_launcher.py:8: SettingWithCopyWarning: \n",
      "A value is trying to be set on a copy of a slice from a DataFrame.\n",
      "Try using .loc[row_indexer,col_indexer] = value instead\n",
      "\n",
      "See the caveats in the documentation: http://pandas.pydata.org/pandas-docs/stable/user_guide/indexing.html#returning-a-view-versus-a-copy\n",
      "  \n"
     ]
    },
    {
     "name": "stdout",
     "output_type": "stream",
     "text": [
      "removing german stopwords. #Tokens left: 37153\n",
      "removing unique tokens. #Tokens left: 17606\n"
     ]
    }
   ],
   "source": [
    "t3n_data_cleaned = remove_unneeded_token_types(t3n_data)\n",
    "print(\"size of t3n lexica after punctuation and number removal: \" + str(t3n_data_cleaned['TA_TOKEN'].nunique()))\n",
    "t3n_data_cleaned = remove_stopwords(t3n_data_cleaned, 'german')\n",
    "print(\"removing german stopwords. #Tokens left: \" + str(t3n_data_cleaned['TA_TOKEN'].nunique()))\n",
    "t3n_data_cleaned = remove_unique_tokens(t3n_data_cleaned)\n",
    "print(\"removing unique tokens. #Tokens left: \" + str(t3n_data_cleaned['TA_TOKEN'].nunique()))"
   ]
  },
  {
   "cell_type": "markdown",
   "metadata": {},
   "source": [
    "### Size of Lexica after Stemming  / Lemmatizing"
   ]
  },
  {
   "cell_type": "code",
   "execution_count": 8,
   "metadata": {},
   "outputs": [
    {
     "name": "stdout",
     "output_type": "stream",
     "text": [
      "t3n lexica size before stemming: 17606\n",
      "t3n lexica size after stemming: 11166\n"
     ]
    }
   ],
   "source": [
    "stemmer = Cistem() # German language stemmer\n",
    "t3n_data_cleaned['TA_STEMMED'] = t3n_data_cleaned['TA_NORMALIZED'].map(lambda token: stemmer.stem(str(token)))\n",
    "print(\"t3n lexica size before stemming: \" + str(t3n_data_cleaned['TA_TOKEN'].nunique()))\n",
    "print(\"t3n lexica size after stemming: \" + str(t3n_data_cleaned['TA_STEMMED'].nunique())) "
   ]
  },
  {
   "cell_type": "code",
   "execution_count": 9,
   "metadata": {},
   "outputs": [
    {
     "name": "stderr",
     "output_type": "stream",
     "text": [
      "[nltk_data] Downloading package wordnet to /Users/tobi/nltk_data...\n",
      "[nltk_data]   Package wordnet is already up-to-date!\n"
     ]
    },
    {
     "name": "stdout",
     "output_type": "stream",
     "text": [
      "cmpl lexica size before stemming: 35902\n",
      "cmpl lexica size after stemming: 33056\n"
     ]
    }
   ],
   "source": [
    "lemmatizer = WordNetLemmatizer()\n",
    "nltk.download('wordnet')\n",
    "cmpl_data_cleaned['TA_STEMMED'] = cmpl_data_cleaned['TA_NORMALIZED'].map(lambda token: lemmatizer.lemmatize(str(token)))\n",
    "print(\"cmpl lexica size before stemming: \" + str(cmpl_data_cleaned['TA_TOKEN'].nunique()))\n",
    "print(\"cmpl lexica size after stemming: \" + str(cmpl_data_cleaned['TA_STEMMED'].nunique())) "
   ]
  },
  {
   "cell_type": "markdown",
   "metadata": {},
   "source": [
    "### Mean Document / Sentence length"
   ]
  },
  {
   "cell_type": "code",
   "execution_count": null,
   "metadata": {},
   "outputs": [],
   "source": [
    "mean_cmpl_doc_length = cmpl_data[\"CMPLID\"].value_counts().mean()\n",
    "mean_cmpl_sentence_length = cmpl_data.groupby(\"CMPLID\")[\"TA_SENTENCE\"].value_counts().mean()\n",
    "print(\"mean cmpl doc length: \" + str(mean_cmpl_doc_length))\n",
    "print(\"mean cmpl sentence length: \" + str(mean_cmpl_sentence_length))"
   ]
  },
  {
   "cell_type": "code",
   "execution_count": null,
   "metadata": {},
   "outputs": [],
   "source": [
    "mean_t3n_doc_length = t3n_data[\"ID\"].value_counts().mean()\n",
    "mean_t3n_sentence_length = t3n_data.groupby(\"ID\")[\"TA_SENTENCE\"].value_counts().mean()\n",
    "print(\"mean t3n doc length: \" + str(mean_t3n_doc_length))\n",
    "print(\"mean t3n sentence length: \" + str(mean_t3n_sentence_length))"
   ]
  },
  {
   "cell_type": "markdown",
   "metadata": {},
   "source": [
    "## Aufgabe 3"
   ]
  },
  {
   "cell_type": "code",
   "execution_count": 27,
   "metadata": {},
   "outputs": [],
   "source": [
    "t3n_data_cleaned['FREQUENCY'] = t3n_data_cleaned['TA_TOKEN'].map(t3n_data_cleaned['TA_TOKEN'].value_counts())"
   ]
  },
  {
   "cell_type": "code",
   "execution_count": 39,
   "metadata": {},
   "outputs": [
    {
     "data": {
      "text/html": [
       "<div>\n",
       "<style scoped>\n",
       "    .dataframe tbody tr th:only-of-type {\n",
       "        vertical-align: middle;\n",
       "    }\n",
       "\n",
       "    .dataframe tbody tr th {\n",
       "        vertical-align: top;\n",
       "    }\n",
       "\n",
       "    .dataframe thead th {\n",
       "        text-align: right;\n",
       "    }\n",
       "</style>\n",
       "<table border=\"1\" class=\"dataframe\">\n",
       "  <thead>\n",
       "    <tr style=\"text-align: right;\">\n",
       "      <th></th>\n",
       "      <th>ID</th>\n",
       "      <th>TA_RULE</th>\n",
       "      <th>TA_COUNTER</th>\n",
       "      <th>TA_TOKEN</th>\n",
       "      <th>TA_LANGUAGE</th>\n",
       "      <th>TA_TYPE</th>\n",
       "      <th>TA_TYPE_EXPANDED</th>\n",
       "      <th>TA_NORMALIZED</th>\n",
       "      <th>TA_STEM</th>\n",
       "      <th>TA_PARAGRAPH</th>\n",
       "      <th>TA_SENTENCE</th>\n",
       "      <th>TA_CREATED_AT</th>\n",
       "      <th>TA_OFFSET</th>\n",
       "      <th>TA_PARENT</th>\n",
       "      <th>TA_TOKEN_LOW</th>\n",
       "      <th>TA_STEMMED</th>\n",
       "      <th>FREQUENCY</th>\n",
       "    </tr>\n",
       "  </thead>\n",
       "  <tbody>\n",
       "    <tr>\n",
       "      <th>64532</th>\n",
       "      <td>eef9dbd4-5068-4a58-8d4a-b16324d2eab2</td>\n",
       "      <td>LXP</td>\n",
       "      <td>1</td>\n",
       "      <td>Wer</td>\n",
       "      <td>de</td>\n",
       "      <td>pronoun</td>\n",
       "      <td>NaN</td>\n",
       "      <td>wer</td>\n",
       "      <td>NaN</td>\n",
       "      <td>1</td>\n",
       "      <td>1</td>\n",
       "      <td>2019-11-29 22:51:51</td>\n",
       "      <td>0</td>\n",
       "      <td>NaN</td>\n",
       "      <td>wer</td>\n",
       "      <td>wer</td>\n",
       "      <td>379</td>\n",
       "    </tr>\n",
       "    <tr>\n",
       "      <th>64534</th>\n",
       "      <td>0cdf66f3-d716-4a4a-a1fc-b8809bf07c86</td>\n",
       "      <td>LXP</td>\n",
       "      <td>1</td>\n",
       "      <td>Neben</td>\n",
       "      <td>de</td>\n",
       "      <td>preposition</td>\n",
       "      <td>NaN</td>\n",
       "      <td>neben</td>\n",
       "      <td>NaN</td>\n",
       "      <td>1</td>\n",
       "      <td>1</td>\n",
       "      <td>2019-11-29 22:51:51</td>\n",
       "      <td>0</td>\n",
       "      <td>NaN</td>\n",
       "      <td>neben</td>\n",
       "      <td>neb</td>\n",
       "      <td>200</td>\n",
       "    </tr>\n",
       "    <tr>\n",
       "      <th>64537</th>\n",
       "      <td>bd546cf2-bbbe-4b5b-8674-590975935156</td>\n",
       "      <td>LXP</td>\n",
       "      <td>1</td>\n",
       "      <td>Cyber</td>\n",
       "      <td>de</td>\n",
       "      <td>noun</td>\n",
       "      <td>NaN</td>\n",
       "      <td>cyber</td>\n",
       "      <td>NaN</td>\n",
       "      <td>1</td>\n",
       "      <td>1</td>\n",
       "      <td>2019-11-29 22:51:51</td>\n",
       "      <td>0</td>\n",
       "      <td>NaN</td>\n",
       "      <td>cyber</td>\n",
       "      <td>cyber</td>\n",
       "      <td>24</td>\n",
       "    </tr>\n",
       "    <tr>\n",
       "      <th>64539</th>\n",
       "      <td>6dc301e3-1a07-44d1-b8c0-c46656884629</td>\n",
       "      <td>LXP</td>\n",
       "      <td>1</td>\n",
       "      <td>Joyn</td>\n",
       "      <td>de</td>\n",
       "      <td>noun</td>\n",
       "      <td>NaN</td>\n",
       "      <td>joyn</td>\n",
       "      <td>NaN</td>\n",
       "      <td>1</td>\n",
       "      <td>1</td>\n",
       "      <td>2019-11-29 22:51:51</td>\n",
       "      <td>0</td>\n",
       "      <td>NaN</td>\n",
       "      <td>joyn</td>\n",
       "      <td>joy</td>\n",
       "      <td>4</td>\n",
       "    </tr>\n",
       "    <tr>\n",
       "      <th>64540</th>\n",
       "      <td>480af0e8-de34-4895-90df-337c38a60815</td>\n",
       "      <td>LXP</td>\n",
       "      <td>1</td>\n",
       "      <td>Alexa</td>\n",
       "      <td>de</td>\n",
       "      <td>noun</td>\n",
       "      <td>NaN</td>\n",
       "      <td>alexa</td>\n",
       "      <td>NaN</td>\n",
       "      <td>1</td>\n",
       "      <td>1</td>\n",
       "      <td>2019-11-29 22:51:51</td>\n",
       "      <td>0</td>\n",
       "      <td>NaN</td>\n",
       "      <td>alexa</td>\n",
       "      <td>alexa</td>\n",
       "      <td>245</td>\n",
       "    </tr>\n",
       "  </tbody>\n",
       "</table>\n",
       "</div>"
      ],
      "text/plain": [
       "                                         ID TA_RULE  TA_COUNTER TA_TOKEN  \\\n",
       "64532  eef9dbd4-5068-4a58-8d4a-b16324d2eab2     LXP           1      Wer   \n",
       "64534  0cdf66f3-d716-4a4a-a1fc-b8809bf07c86     LXP           1    Neben   \n",
       "64537  bd546cf2-bbbe-4b5b-8674-590975935156     LXP           1    Cyber   \n",
       "64539  6dc301e3-1a07-44d1-b8c0-c46656884629     LXP           1     Joyn   \n",
       "64540  480af0e8-de34-4895-90df-337c38a60815     LXP           1    Alexa   \n",
       "\n",
       "      TA_LANGUAGE      TA_TYPE  TA_TYPE_EXPANDED TA_NORMALIZED TA_STEM  \\\n",
       "64532          de      pronoun               NaN           wer     NaN   \n",
       "64534          de  preposition               NaN         neben     NaN   \n",
       "64537          de         noun               NaN         cyber     NaN   \n",
       "64539          de         noun               NaN          joyn     NaN   \n",
       "64540          de         noun               NaN         alexa     NaN   \n",
       "\n",
       "       TA_PARAGRAPH  TA_SENTENCE        TA_CREATED_AT  TA_OFFSET  TA_PARENT  \\\n",
       "64532             1            1  2019-11-29 22:51:51          0        NaN   \n",
       "64534             1            1  2019-11-29 22:51:51          0        NaN   \n",
       "64537             1            1  2019-11-29 22:51:51          0        NaN   \n",
       "64539             1            1  2019-11-29 22:51:51          0        NaN   \n",
       "64540             1            1  2019-11-29 22:51:51          0        NaN   \n",
       "\n",
       "      TA_TOKEN_LOW TA_STEMMED  FREQUENCY  \n",
       "64532          wer        wer        379  \n",
       "64534        neben        neb        200  \n",
       "64537        cyber      cyber         24  \n",
       "64539         joyn        joy          4  \n",
       "64540        alexa      alexa        245  "
      ]
     },
     "execution_count": 39,
     "metadata": {},
     "output_type": "execute_result"
    }
   ],
   "source": [
    "t3n_data_cleaned.head()"
   ]
  },
  {
   "cell_type": "code",
   "execution_count": 36,
   "metadata": {},
   "outputs": [
    {
     "data": {
      "text/plain": [
       "<matplotlib.axes._subplots.AxesSubplot at 0x14b033110>"
      ]
     },
     "execution_count": 36,
     "metadata": {},
     "output_type": "execute_result"
    },
    {
     "data": {
      "image/png": "[encoded data removed]",
      "text/plain": [
       "<Figure size 1944x504 with 1 Axes>"
      ]
     },
     "metadata": {},
     "output_type": "display_data"
    }
   ],
   "source": [
    "# frequent words\n",
    "sns.set(rc={'figure.figsize':(27,7)})\n",
    "most_occuring_tokens = t3n_data_cleaned.drop_duplicates(subset='TA_TOKEN').nlargest(20, 'FREQUENCY')\n",
    "sns.barplot(x=\"TA_TOKEN\", y=\"FREQUENCY\", data=most_occuring_tokens)"
   ]
  },
  {
   "cell_type": "code",
   "execution_count": 42,
   "metadata": {},
   "outputs": [
    {
     "data": {
      "text/plain": [
       "<matplotlib.axes._subplots.AxesSubplot at 0x14ab59490>"
      ]
     },
     "execution_count": 42,
     "metadata": {},
     "output_type": "execute_result"
    },
    {
     "data": {
      "image/png": "[encoded data removed]",
      "text/plain": [
       "<Figure size 1944x504 with 1 Axes>"
      ]
     },
     "metadata": {},
     "output_type": "display_data"
    }
   ],
   "source": [
    "# frequent verbs\n",
    "sns.set(rc={'figure.figsize':(27,7)})\n",
    "most_occuring_tokens = t3n_data_cleaned[t3n_data_cleaned['TA_TYPE'] == 'verb'].drop_duplicates(subset='TA_TOKEN').nlargest(20, 'FREQUENCY')\n",
    "sns.barplot(x=\"TA_TOKEN\", y=\"FREQUENCY\", data=most_occuring_tokens)"
   ]
  },
  {
   "cell_type": "markdown",
   "metadata": {},
   "source": [
    "# Tokenization (obsolete)"
   ]
  },
  {
   "cell_type": "code",
   "execution_count": null,
   "metadata": {
    "scrolled": true
   },
   "outputs": [],
   "source": [
    "nltk.download('punkt')"
   ]
  },
  {
   "cell_type": "code",
   "execution_count": null,
   "metadata": {
    "scrolled": true
   },
   "outputs": [],
   "source": [
    "t3n_data_tokenized = t3n_data\n",
    "t3n_data_tokenized['text'] = t3n_data_tokenized.apply(lambda row: nltk.word_tokenize(str(row['text'])), axis=1)\n",
    "t3n_data_tokenized['teaser'] = t3n_data_tokenized.apply(lambda row: nltk.word_tokenize(str(row['teaser'])), axis=1)\n",
    "t3n_data_tokenized['heading'] = t3n_data_tokenized.apply(lambda row: nltk.word_tokenize(str(row['heading'])), axis=1)"
   ]
  },
  {
   "cell_type": "code",
   "execution_count": null,
   "metadata": {
    "scrolled": true
   },
   "outputs": [],
   "source": [
    "for index, row in t3n_data.iterrows():\n",
    "    print(row['heading'])"
   ]
  }
 ],
 "metadata": {
  "kernelspec": {
   "display_name": "Python 3",
   "language": "python",
   "name": "python3"
  },
  "language_info": {
   "codemirror_mode": {
    "name": "ipython",
    "version": 3
   },
   "file_extension": ".py",
   "mimetype": "text/x-python",
   "name": "python",
   "nbconvert_exporter": "python",
   "pygments_lexer": "ipython3",
   "version": "3.7.4"
  }
 },
 "nbformat": 4,
 "nbformat_minor": 2
}
