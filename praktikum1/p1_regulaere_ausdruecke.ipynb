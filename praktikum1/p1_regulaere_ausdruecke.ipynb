{
 "cells": [
  {
   "cell_type": "markdown",
   "metadata": {},
   "source": [
    "# Praktikum 1 - reguläre Ausdrücke"
   ]
  },
  {
   "cell_type": "code",
   "execution_count": null,
   "metadata": {},
   "outputs": [],
   "source": [
    "import numpy as np\n",
    "import pandas as pd\n",
    "import re"
   ]
  },
  {
   "cell_type": "markdown",
   "metadata": {},
   "source": [
    "# Pandas String Documentation"
   ]
  },
  {
   "cell_type": "code",
   "execution_count": null,
   "metadata": {},
   "outputs": [],
   "source": [
    "import webbrowser\n",
    "webbrowser.open_new_tab('http://pandas.pydata.org/pandas-docs/stable/text.html')"
   ]
  },
  {
   "cell_type": "markdown",
   "metadata": {},
   "source": [
    "# Regex Cheat Sheet\n",
    "\n",
    "```\n",
    "NAME                REGEX    WHAT IT DOES                                          \n",
    "Exception           [^X]     Match everything except `X`                        \n",
    "Dot                 .        Match any character                                \n",
    "Case Insensitive    (?i)     Matches irregardless of case; `Foo` & `foO` matched\n",
    "Digit               \\d       Match digits (i.e., [0-9])                         \n",
    "Non-Digit           \\D       Match non-digits (i.e., [^0-9])                    \n",
    "Word                \\w       Match words (i.e., [_a-zA-Z0-9])                   \n",
    "Non-Word            \\W       Match non-words (i.e., [^_a-zA-Z0-9])              \n",
    "Whitespace          \\s       Match whitespace (i.e., [ \\t\\r\\n\\f])           \n",
    "Non-Whitespace      \\S       Match non-whitespace (i.e., [^ \\t\\r\\n\\f])      \n",
    "Word Boundary       \\b       Match beginning/end of word                        \n",
    "Non-Word Boundary   \\B       Match not beginning/end of word                    \n",
    "0-1 (Greedy)        x?       Match 0-1 times greedy                             \n",
    "0-1 (Lazy)          x??      Match 0-1 times lazy                               \n",
    ">= 0 (Greedy)       x*       Match 0 or more times greedy                       \n",
    ">= 0 (Lazy)         x*?      Match 0 or more times lazy                         \n",
    ">= 1 (Greedy)       x+       Match 1 or more times greedy                       \n",
    ">= 1 (Lazy)         x+?      Match 1 or more times lazy                         \n",
    "Exactly N           x{4}     Match N times                                      \n",
    "Min-Max             x{4,8}   Match min-max times                                \n",
    "> N                 x{9,}    Match N or more times        \n",
    "```"
   ]
  },
  {
   "cell_type": "markdown",
   "metadata": {},
   "source": [
    "# Übungen"
   ]
  },
  {
   "cell_type": "markdown",
   "metadata": {},
   "source": [
    "## Ausgangsdaten"
   ]
  },
  {
   "cell_type": "code",
   "execution_count": null,
   "metadata": {
    "scrolled": true
   },
   "outputs": [],
   "source": [
    "textdata = [\n",
    "    \"A download file from the http://example.com\", \n",
    "    \"Another url ftp://www.example.com\",\n",
    "    \"And https://www.example.net\",\n",
    "    \"@hadley (Dr. Wickham) I like #rstats for #ggplot2 work.\",\n",
    "    \"Difference between #magrittr and #pipeR, both implement pipeline operators for #rstats: http://renkun.me/r/2014/07/26/difference-between-magrittr-and-pipeR.html @timelyportfolio\",\n",
    "    \"Is -2 an integer?\", \"-4.3 and 3.33 are not.\",\n",
    "    \"123,456 is 0 alot -123456 more than -.2\", \"and 3456789123 fg for 345.\",\n",
    "    \"There is $5.50 for me.\", \"that's 45.6% of the pizza\", \n",
    "    \"14% is $25.99\",\n",
    "    \"Mr. Bean bought 2 tickets 2-613-213-4567\",\n",
    "    \"43 Butter Rd, Brossard QC K0A 3P0 - 613 213 4567\", \n",
    "    \"The Rat Race, XX, 12345\",\n",
    "    \"Ignore phone numbers(613)2134567\",\n",
    "    \"Grab zips with dashes 12345-6789 or no space before12345-6789\",  \n",
    "    \"Grab zips with spaces 12345 6789 or no space before12345 6789\",\n",
    "    \"I like 1234567 dogs\",\n",
    "    \" There is ( $5.50 ) for , me and you (NAME HERE). \", \" that's [ 45.6% ] of! the pizza !\", \n",
    "    \"     14% is { $26  } or $25.99 ?\", \"Oh ;  here's colon : Yippee !\",\n",
    "    \"I love chicken [unintelligible]!\",\n",
    "    \"Me too Miss Jane! (laughter) It's so good.[interrupting]\",\n",
    "    \"Yep it's awesome {reading}.\", \"Agreed Ms. Jones. {is so much fun}\",\n",
    "    \"R uses 1:5 for 1, 2, 3, 4, 5.\", \n",
    "    \"At 3:00 we'll meet up , and we leave by 4:30:20\",\n",
    "    \"We'll meet at 6:33 , bring $20,000.\", \"He ran it in :22.34\"\n",
    "]\n",
    "x = pd.DataFrame(textdata, columns = ['textdata'])\n",
    "print(x)\n"
   ]
  },
  {
   "cell_type": "markdown",
   "metadata": {},
   "source": [
    "## Übung 0: Verstehen und dokumentieren Sie, was diese Funktion tut"
   ]
  },
  {
   "cell_type": "code",
   "execution_count": null,
   "metadata": {},
   "outputs": [],
   "source": [
    "tokencount = 0\n",
    "sumlength = 0\n",
    "def addMatches(rx):\n",
    "    \"\"\"\n",
    "    Die Funktion führt die RE aus und speichert die Anzahl der Matches Gesamt, sowie die Gesamtlänge aller Matches.\n",
    "    Außerdem werden die Resultate der RE ausgegeben.\n",
    "    \"\"\"\n",
    "    global tokencount\n",
    "    global sumlength\n",
    "    results = list(itertools.chain(*list(x.textdata.str.findall(rx))))\n",
    "    print(results)\n",
    "    tokencount += len(results)\n",
    "    sumlength += len(''.join(results))\n",
    "    print('New Tokencount: ' + str(tokencount))\n",
    "    print('New Length: ' + str(sumlength))\n",
    "    #return results"
   ]
  },
  {
   "cell_type": "markdown",
   "metadata": {},
   "source": [
    "## Übung 1: Sammeln Sie alle Twitter-Tags (#Tag)\n",
    "\n",
    " Genereller Hinweise: codieren Sie sicherheitshalber aller Regexps als Rohstring mir dem r Flag http://stackoverflow.com/a/3995242/1000343"
   ]
  },
  {
   "cell_type": "code",
   "execution_count": null,
   "metadata": {},
   "outputs": [],
   "source": [
    "import itertools\n",
    "addMatches(r'#\\w+')"
   ]
  },
  {
   "cell_type": "markdown",
   "metadata": {},
   "source": [
    "## Übung 2: Sammeln Sie alle Twitter Usernamen (@name)"
   ]
  },
  {
   "cell_type": "code",
   "execution_count": null,
   "metadata": {},
   "outputs": [],
   "source": [
    "addMatches(r'@\\w+')"
   ]
  },
  {
   "cell_type": "markdown",
   "metadata": {},
   "source": [
    "## Übung 3: Sammeln Sie alle positive/negative Zahlen sowie Dollarbeträge inklusive des Dollarzeichens und Dezimaltrennern. Durch Doppelpunkt getrennte Zahlen sollen getrennt behandelt werden."
   ]
  },
  {
   "cell_type": "code",
   "execution_count": null,
   "metadata": {},
   "outputs": [],
   "source": [
    "addMatches(r'\\$?-?\\d*[.,]?\\d+')"
   ]
  },
  {
   "cell_type": "markdown",
   "metadata": {},
   "source": [
    "## Übung 4: Sammeln Sie die Anzahl englischer Artikel (the, a, an). Ignorieren Sie groß/Kleinschreibung. Vorkommen innerhalb von Wörtern (\"the\" in \"they\") sollen natürlich nicht erfasst werden.   \n",
    "\n"
   ]
  },
  {
   "cell_type": "code",
   "execution_count": null,
   "metadata": {},
   "outputs": [],
   "source": [
    "addMatches(r'(?i)\\b(the|a|an)\\b')"
   ]
  },
  {
   "cell_type": "markdown",
   "metadata": {},
   "source": [
    "## Übung 5: Sammeln Sie 5 oder neunstellige Postleitzahlen."
   ]
  },
  {
   "cell_type": "code",
   "execution_count": null,
   "metadata": {},
   "outputs": [],
   "source": [
    "addMatches(r'\\b\\d{5}-\\d{4}')"
   ]
  },
  {
   "cell_type": "code",
   "execution_count": null,
   "metadata": {},
   "outputs": [],
   "source": [
    "addMatches(r'\\D(\\d{5}(?:-\\d{4})?)\\D')"
   ]
  },
  {
   "cell_type": "markdown",
   "metadata": {},
   "source": [
    "## Übung 6: Sammeln Sie alle Anreden (Mr., Ms., Mz., Miss, Dr.) gefolgt von einem Namen, der mit einem Großbuchstaben beginnt"
   ]
  },
  {
   "cell_type": "code",
   "execution_count": null,
   "metadata": {},
   "outputs": [],
   "source": [
    "addMatches(r'(?:Mr.|Ms.|Mz.|Dr.|Miss)\\s\\w+')"
   ]
  },
  {
   "cell_type": "markdown",
   "metadata": {},
   "source": [
    "## Übung 7: Sammeln Sie alle abschließenden Satzzeichen (? . !)"
   ]
  },
  {
   "cell_type": "code",
   "execution_count": null,
   "metadata": {},
   "outputs": [],
   "source": [
    "addMatches(r'[.!?]$')"
   ]
  },
  {
   "cell_type": "markdown",
   "metadata": {},
   "source": [
    "## Übung 8: Extrahieren Sie alle URLs (hier sollten Sie unbedingt googlen...)"
   ]
  },
  {
   "cell_type": "code",
   "execution_count": null,
   "metadata": {
    "scrolled": true
   },
   "outputs": [],
   "source": [
    "addMatches(r'\\w+:\\/\\/(?:\\w|\\.|\\/|\\-|\\+|\\?|\\=|\\@)+')"
   ]
  },
  {
   "cell_type": "code",
   "execution_count": null,
   "metadata": {},
   "outputs": [],
   "source": [
    "['http://example.com', 'ftp://www.example.com', 'https://www.example.net', 'http://renkun.me/r/2014/07/26/difference-between-magrittr-and-pipeR.html']"
   ]
  },
  {
   "cell_type": "markdown",
   "metadata": {},
   "source": [
    "## Übung 9: Entfernen Sie alle Zeichen, außer Buchstaben, Apostrophen und Leerzeichen: \n"
   ]
  },
  {
   "cell_type": "code",
   "execution_count": null,
   "metadata": {},
   "outputs": [],
   "source": [
    "x.textdata.str.replace(r'[^\\sA-Za-z\\']', \"\")"
   ]
  },
  {
   "cell_type": "code",
   "execution_count": null,
   "metadata": {},
   "outputs": [],
   "source": [
    "0               A download file from the httpexamplecom\n",
    "1                          Another url ftpwwwexamplecom\n",
    "2                                And httpswwwexamplenet\n",
    "3       hadley Dr Wickham I like rstats for ggplot work\n",
    "4     Difference between magrittr and pipeR both imp...\n",
    "5                                        Is  an integer\n",
    "6                                          and  are not\n",
    "7                                  is  alot  more than \n",
    "8                                          and  fg for \n",
    "9                                      There is  for me\n",
    "10                                 that's  of the pizza\n",
    "11                                                  is \n",
    "12                             Mr Bean bought  tickets \n",
    "13                       Butter Rd Brossard QC KA P    \n",
    "14                                     The Rat Race XX \n",
    "15                                 Ignore phone numbers\n",
    "16            Grab zips with dashes  or no space before\n",
    "17          Grab zips with spaces   or no space before \n",
    "18                                         I like  dogs\n",
    "19               There is    for  me and you NAME HERE \n",
    "20                              that's    of the pizza \n",
    "21                                          is     or  \n",
    "22                           Oh   here's colon  Yippee \n",
    "23                        I love chicken unintelligible\n",
    "24    Me too Miss Jane laughter It's so goodinterrup...\n",
    "25                             Yep it's awesome reading\n",
    "26                       Agreed Ms Jones is so much fun\n",
    "27                                     R uses  for     \n",
    "28                  At  we'll meet up  and we leave by \n",
    "29                               We'll meet at   bring \n",
    "30                                        He ran it in ()"
   ]
  },
  {
   "cell_type": "markdown",
   "metadata": {},
   "source": [
    "## Wie lässt sich die Folgende Ausgabe von Python erklären (spekulieren Sie zur Not)?"
   ]
  },
  {
   "cell_type": "code",
   "execution_count": null,
   "metadata": {},
   "outputs": [],
   "source": [
    "print(re.findall(\"(a(([be])+c))d\", \"abecd\"))\n",
    "'''\n",
    "In der Ausgabe sind die 3 Gruppen des RE-Ausdrucks zu sehen. \n",
    "Die 0. Gruppe, gekennzeichnet durch die äußerste Klammer,\n",
    "matcht 'abec'. \n",
    "Die 1. Gruppe, gekennzeichnet durch die 2. äußerste Klammer matcht 'bec'. \n",
    "Die innerste Gruppe matcht 'b' oder 'e'. Der '+' Quantor bezieht sich auf die Gruppe selbst, dadurch ist nur ein \n",
    "Character in der innersten Gruppe enthalten. \n",
    "'''\n",
    "\"\"\"\n",
    "Erklärung:\n",
    "Die Methode re.findall gibt nur die Matches für die Gruppen zurück, da es sich um capturing groups handelt. Man kann dies unterbinden, \n",
    "indem man ein Fragezeichen hinter die öffnenden Klammern gefolgt von einem Doppelpunkt (?:) stellt. Der Buchstabe d wird nicht gematcht, da er nicht zu einer\n",
    "Gruppe gehört. Die 1. Gruppe matcht abec. Die 2. Gruppe matcht bec und die 3. Gruppe matcht b oder e.\n",
    "\"\"\""
   ]
  },
  {
   "cell_type": "markdown",
   "metadata": {},
   "source": [
    "## Checksummen:"
   ]
  },
  {
   "cell_type": "code",
   "execution_count": null,
   "metadata": {},
   "outputs": [],
   "source": [
    "print('Tokencount: ' + str(tokencount))\n",
    "print('Length: ' + str(sumlength))"
   ]
  },
  {
   "cell_type": "code",
   "execution_count": null,
   "metadata": {},
   "outputs": [],
   "source": []
  },
  {
   "cell_type": "code",
   "execution_count": null,
   "metadata": {},
   "outputs": [],
   "source": []
  }
 ],
 "metadata": {
  "kernelspec": {
   "display_name": "Python 3",
   "language": "python",
   "name": "python3"
  },
  "language_info": {
   "codemirror_mode": {
    "name": "ipython",
    "version": 3
   },
   "file_extension": ".py",
   "mimetype": "text/x-python",
   "name": "python",
   "nbconvert_exporter": "python",
   "pygments_lexer": "ipython3",
   "version": "3.7.4"
  }
 },
 "nbformat": 4,
 "nbformat_minor": 4
}
