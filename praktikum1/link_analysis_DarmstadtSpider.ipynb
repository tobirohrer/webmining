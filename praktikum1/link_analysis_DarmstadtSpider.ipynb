{
 "cells": [
  {
   "cell_type": "code",
   "execution_count": null,
   "metadata": {},
   "outputs": [],
   "source": [
    "import pandas as pd\n",
    "from tld import get_tld\n",
    "import seaborn as sns\n",
    "from pprint import pprint"
   ]
  },
  {
   "cell_type": "code",
   "execution_count": null,
   "metadata": {},
   "outputs": [],
   "source": [
    "darmstadt_spider = pd.read_csv('DarmstadtSpider.csv')"
   ]
  },
  {
   "cell_type": "code",
   "execution_count": null,
   "metadata": {},
   "outputs": [],
   "source": [
    "darmstadt_spider"
   ]
  },
  {
   "cell_type": "markdown",
   "metadata": {},
   "source": [
    "# Data Preprocessing"
   ]
  },
  {
   "cell_type": "code",
   "execution_count": null,
   "metadata": {},
   "outputs": [],
   "source": [
    "#getting rid of all entries with contrast information etc. We only want every url once, independent of contrast settings.\n",
    "darmstadt_spider_cleaned = darmstadt_spider.loc[~darmstadt_spider['from'].str.contains('(\\?|\\&)(tx_contrast|type=97)')]"
   ]
  },
  {
   "cell_type": "code",
   "execution_count": null,
   "metadata": {},
   "outputs": [],
   "source": [
    "darmstadt_spider_cleaned"
   ]
  },
  {
   "cell_type": "markdown",
   "metadata": {},
   "source": [
    "# Stats"
   ]
  },
  {
   "cell_type": "code",
   "execution_count": null,
   "metadata": {},
   "outputs": [],
   "source": [
    "darmstadt_spider_cleaned['tld'] = darmstadt_spider_cleaned.url.map(lambda url:  get_tld(url, fail_silently=True))\n",
    "#create new column tld which contains the output of get_tld()\n",
    "sns.countplot(x='tld',\n",
    "              data=darmstadt_spider_cleaned, \n",
    "              order=darmstadt_spider_cleaned.tld.value_counts().iloc[:5].index).set_title('Count of high level domains of URLs')\n",
    "darmstadt_spider_cleaned['tld'].value_counts()"
   ]
  },
  {
   "cell_type": "code",
   "execution_count": null,
   "metadata": {},
   "outputs": [],
   "source": [
    "ax = sns.distplot(darmstadt_spider_cleaned['from'].value_counts())\n",
    "ax.set(xlabel='#outgoing links')\n",
    "ax.set_title('Distribution of outgoing links per page')\n",
    "\n",
    "darmstadt_spider_cleaned['from'].value_counts().describe()"
   ]
  },
  {
   "cell_type": "code",
   "execution_count": null,
   "metadata": {},
   "outputs": [],
   "source": [
    "ax = sns.countplot(darmstadt_spider_cleaned['url'].value_counts())\n",
    "ax.set(xlabel='#incoming links')\n",
    "ax.set_title('Distribution of incoming links per page')\n",
    "\n",
    "darmstadt_spider_cleaned['url'].value_counts().describe()"
   ]
  },
  {
   "cell_type": "code",
   "execution_count": null,
   "metadata": {},
   "outputs": [],
   "source": [
    "darmstadt_spider_cleaned['url'].value_counts()\n",
    "#Top URls are present on all pages. For example in the `Oft gesucht` menu."
   ]
  },
  {
   "cell_type": "code",
   "execution_count": null,
   "metadata": {},
   "outputs": [],
   "source": [
    "#Get all sites which reference the MATCH_TARGET\n",
    "MATCH_TARGET = 'http://www.iv-senioren-darmstadt.de/home.html'\n",
    "pd.options.display.max_colwidth = 200\n",
    "darmstadt_spider_cleaned[darmstadt_spider_cleaned.url == MATCH_TARGET]['from']"
   ]
  }
 ],
 "metadata": {
  "kernelspec": {
   "display_name": "Python 3",
   "language": "python",
   "name": "python3"
  },
  "language_info": {
   "codemirror_mode": {
    "name": "ipython",
    "version": 3
   },
   "file_extension": ".py",
   "mimetype": "text/x-python",
   "name": "python",
   "nbconvert_exporter": "python",
   "pygments_lexer": "ipython3",
   "version": "3.7.4"
  }
 },
 "nbformat": 4,
 "nbformat_minor": 2
}
