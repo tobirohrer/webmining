{
 "cells": [
  {
   "cell_type": "code",
   "execution_count": null,
   "metadata": {},
   "outputs": [],
   "source": [
    "import pandas as pd\n",
    "from tld import get_tld\n",
    "import seaborn as sns\n",
    "from pprint import pprint"
   ]
  },
  {
   "cell_type": "code",
   "execution_count": null,
   "metadata": {},
   "outputs": [],
   "source": [
    "t3n = pd.read_csv('t3nspider.csv')"
   ]
  },
  {
   "cell_type": "code",
   "execution_count": null,
   "metadata": {},
   "outputs": [],
   "source": [
    "t3n['tld'] = t3n.url.map(lambda url:  get_tld(url, fail_silently=True))\n",
    "sns.countplot(x='tld',data=t3n).set_title('Count of high level domains of URLs')\n",
    "t3n['tld'].value_counts()"
   ]
  },
  {
   "cell_type": "code",
   "execution_count": null,
   "metadata": {},
   "outputs": [],
   "source": [
    "ax = sns.distplot(t3n['from'].value_counts())\n",
    "ax.set(xlabel='#outgoing links')\n",
    "ax.set_title('Distribution of outgoing links per page')\n",
    "\n",
    "t3n['from'].value_counts()"
   ]
  },
  {
   "cell_type": "code",
   "execution_count": null,
   "metadata": {},
   "outputs": [],
   "source": [
    "ax = sns.distplot(t3n['url'].value_counts()[t3n['url'].value_counts() > 10])\n",
    "ax.set(xlabel='#incoming links')\n",
    "ax.set_title('Distribution of incoming links per page')\n",
    "\n",
    "t3n['url'].value_counts()"
   ]
  }
 ],
 "metadata": {
  "kernelspec": {
   "display_name": "Python 3",
   "language": "python",
   "name": "python3"
  },
  "language_info": {
   "codemirror_mode": {
    "name": "ipython",
    "version": 3
   },
   "file_extension": ".py",
   "mimetype": "text/x-python",
   "name": "python",
   "nbconvert_exporter": "python",
   "pygments_lexer": "ipython3",
   "version": "3.7.4"
  }
 },
 "nbformat": 4,
 "nbformat_minor": 2
}
