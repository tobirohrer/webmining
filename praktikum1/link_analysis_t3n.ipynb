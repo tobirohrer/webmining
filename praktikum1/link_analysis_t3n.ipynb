{
 "cells": [
  {
   "cell_type": "code",
   "execution_count": null,
   "metadata": {},
   "outputs": [],
   "source": [
    "import pandas as pd\n",
    "from tld import get_tld\n",
    "import seaborn as sns\n",
    "from pprint import pprint\n",
    "import matplotlib.pyplot as plt\n",
    "import numpy as np\n",
    "import networkx as nx\n",
    "from urllib.parse import urlparse\n",
    "import re\n",
    "import tldextract"
   ]
  },
  {
   "cell_type": "code",
   "execution_count": null,
   "metadata": {},
   "outputs": [],
   "source": [
    "t3n = pd.read_csv('t3n_url_spiderall_domains.csv')"
   ]
  },
  {
   "cell_type": "code",
   "execution_count": null,
   "metadata": {},
   "outputs": [],
   "source": [
    "t3n['tld'] = t3n.url.map(lambda url:  get_tld(url, fail_silently=True))\n",
    "#create new column tld which contains the output of get_tld()\n",
    "ax = sns.countplot(x='tld',data=t3n, order=t3n.tld.value_counts().iloc[:5].index).set_title('Count of 5 most occuring high level domains of URLs')\n",
    "#plot only 10 most occuring\n",
    "t3n['tld'].value_counts()\n",
    "fig = ax.get_figure()\n",
    "fig.savefig('plots/tld_t3n.png')"
   ]
  },
  {
   "cell_type": "code",
   "execution_count": null,
   "metadata": {
    "scrolled": false
   },
   "outputs": [],
   "source": [
    "ax = sns.distplot(t3n['from'].value_counts())\n",
    "ax.set(xlabel='#outgoing links')\n",
    "ax.set_title('Distribution of outgoing links per page')\n",
    "fig = ax.get_figure()\n",
    "fig.savefig('plots/outgoing_links_t3n.png')\n",
    "t3n['from'].value_counts()"
   ]
  },
  {
   "cell_type": "code",
   "execution_count": null,
   "metadata": {},
   "outputs": [],
   "source": [
    "ax = sns.distplot(t3n['url'].value_counts()[t3n['url'].value_counts() > 10]) #Plot only Urls which occure at least 10 times\n",
    "ax.set(xlabel='#incoming links')\n",
    "ax.set_title('Distribution of incoming links per page')\n",
    "fig = ax.get_figure()\n",
    "fig.savefig('plots/incoming_links_t3n.png')\n",
    "t3n['url'].value_counts()"
   ]
  },
  {
   "cell_type": "code",
   "execution_count": null,
   "metadata": {},
   "outputs": [],
   "source": [
    "num_external_urls = t3n[~t3n['url'].str.contains('//(.*\\.)?t3n\\.de')].url.count()\n",
    "num_internal_urls = t3n[t3n['url'].str.contains('//(.*\\.)?t3n\\.de')].url.count()"
   ]
  },
  {
   "cell_type": "code",
   "execution_count": null,
   "metadata": {},
   "outputs": [],
   "source": [
    "plt.bar([0,1], height= [num_internal_urls,num_external_urls], color=['red', 'blue'])\n",
    "plt.xticks([0,1],['# t3n URLs','# external URLs'])\n",
    "plt.title('Number of outgoing internal vs. external URLs')\n",
    "plt.savefig('plots/distribution_internal_external_links_t3n.png')"
   ]
  },
  {
   "cell_type": "code",
   "execution_count": null,
   "metadata": {},
   "outputs": [],
   "source": [
    "graph = pd.DataFrame()\n",
    "graph['to'] = t3n.url.map(lambda url:  tldextract.extract(url).domain)\n",
    "graph['from'] = t3n['from'].map(lambda url:  tldextract.extract(url).domain)\n",
    "graph = graph.groupby(['to', 'from']).size().reset_index(name='weight')\n",
    "\n",
    "G = nx.DiGraph()\n",
    "\n",
    "for index, row in graph.iterrows():\n",
    "    if(row['weight'] > 10):\n",
    "        G.add_edge(row['from'], row['to'], weight=row['weight'])\n",
    "        \n",
    "nx.write_gexf(G, '05_pos-mat.gexf')"
   ]
  },
  {
   "cell_type": "code",
   "execution_count": null,
   "metadata": {},
   "outputs": [],
   "source": [
    "G = nx.DiGraph()\n",
    "for index, row in graph.iterrows():\n",
    "    if(row['weight'] > 10):\n",
    "        G.add_edge(row['from'], row['to'], weight=row['weight'])\n",
    "nx.write_gexf(G, '05_pos-mat.gexf')"
   ]
  },
  {
   "cell_type": "code",
   "execution_count": null,
   "metadata": {},
   "outputs": [],
   "source": [
    "nx.draw(G,with_labels=True)\n",
    "plt.title('Sites > 10 Outgoing t3n Links')\n",
    "plt.savefig(\"plots/graph_t3n.png\", format=\"PNG\")"
   ]
  }
 ],
 "metadata": {
  "kernelspec": {
   "display_name": "Python 3",
   "language": "python",
   "name": "python3"
  },
  "language_info": {
   "codemirror_mode": {
    "name": "ipython",
    "version": 3
   },
   "file_extension": ".py",
   "mimetype": "text/x-python",
   "name": "python",
   "nbconvert_exporter": "python",
   "pygments_lexer": "ipython3",
   "version": "3.7.4"
  }
 },
 "nbformat": 4,
 "nbformat_minor": 2
}
