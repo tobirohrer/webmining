{
 "cells": [
  {
   "cell_type": "code",
   "execution_count": 1,
   "metadata": {
    "scrolled": true
   },
   "outputs": [],
   "source": [
    "from hdbcli import dbapi\n",
    "import pandas as pd\n",
    "import seaborn as sns\n",
    "import matplotlib.pyplot as plt\n",
    "import numpy as np"
   ]
  },
  {
   "cell_type": "markdown",
   "metadata": {},
   "source": [
    "# Connection database"
   ]
  },
  {
   "cell_type": "code",
   "execution_count": 2,
   "metadata": {
    "scrolled": true
   },
   "outputs": [
    {
     "data": {
      "text/plain": [
       "True"
      ]
     },
     "execution_count": 2,
     "metadata": {},
     "output_type": "execute_result"
    }
   ],
   "source": [
    "connection = dbapi.connect('34.240.190.174', 39015, 'SYSTEM', 'Glorp2018!')\n",
    "connection.isconnected()"
   ]
  },
  {
   "cell_type": "code",
   "execution_count": 5,
   "metadata": {
    "scrolled": true
   },
   "outputs": [],
   "source": [
    "cursor = connection.cursor()"
   ]
  },
  {
   "cell_type": "markdown",
   "metadata": {},
   "source": [
    "# Import data"
   ]
  },
  {
   "cell_type": "code",
   "execution_count": 4,
   "metadata": {
    "scrolled": true
   },
   "outputs": [
    {
     "name": "stderr",
     "output_type": "stream",
     "text": [
      "/Users/jatinz/anaconda3/envs/webmining_python/lib/python3.7/site-packages/IPython/core/interactiveshell.py:3058: DtypeWarning: Columns (8) have mixed types. Specify dtype option on import or set low_memory=False.\n",
      "  interactivity=interactivity, compiler=compiler, result=result)\n"
     ]
    }
   ],
   "source": [
    "# import data\n",
    "t3n_text_index_df = pd.read_csv('data/T3NTEXTIND.csv')\n",
    "t3n_df = pd.read_csv('data/T3N.csv')"
   ]
  },
  {
   "cell_type": "markdown",
   "metadata": {},
   "source": [
    "# Teil 1"
   ]
  },
  {
   "cell_type": "markdown",
   "metadata": {},
   "source": [
    "## 1. Ermitteln Sie die häufigsten Folgen von Adjektiv-Nomen Bigrammen im Corpus (Hinweis: wenn Sie mit SQL arbeiten, können Sie einen non-equi auto-join verwenden)"
   ]
  },
  {
   "cell_type": "code",
   "execution_count": 19,
   "metadata": {
    "scrolled": true
   },
   "outputs": [
    {
     "data": {
      "text/html": [
       "<div>\n",
       "<style scoped>\n",
       "    .dataframe tbody tr th:only-of-type {\n",
       "        vertical-align: middle;\n",
       "    }\n",
       "\n",
       "    .dataframe tbody tr th {\n",
       "        vertical-align: top;\n",
       "    }\n",
       "\n",
       "    .dataframe thead th {\n",
       "        text-align: right;\n",
       "    }\n",
       "</style>\n",
       "<table border=\"1\" class=\"dataframe\">\n",
       "  <thead>\n",
       "    <tr style=\"text-align: right;\">\n",
       "      <th></th>\n",
       "      <th>adjective</th>\n",
       "      <th>noun</th>\n",
       "      <th>count</th>\n",
       "    </tr>\n",
       "  </thead>\n",
       "  <tbody>\n",
       "    <tr>\n",
       "      <th>0</th>\n",
       "      <td>REAR</td>\n",
       "      <td>TIRE</td>\n",
       "      <td>4569</td>\n",
       "    </tr>\n",
       "    <tr>\n",
       "      <th>1</th>\n",
       "      <td>STEERING</td>\n",
       "      <td>WHEEL</td>\n",
       "      <td>3154</td>\n",
       "    </tr>\n",
       "    <tr>\n",
       "      <th>2</th>\n",
       "      <td>FRONT</td>\n",
       "      <td>TIRE</td>\n",
       "      <td>2901</td>\n",
       "    </tr>\n",
       "    <tr>\n",
       "      <th>3</th>\n",
       "      <td>APPROXIMATE</td>\n",
       "      <td>FAILURE</td>\n",
       "      <td>2412</td>\n",
       "    </tr>\n",
       "    <tr>\n",
       "      <th>4</th>\n",
       "      <td>SIDE</td>\n",
       "      <td>TIRE</td>\n",
       "      <td>2353</td>\n",
       "    </tr>\n",
       "    <tr>\n",
       "      <th>5</th>\n",
       "      <td>SAME</td>\n",
       "      <td>PROBLEM</td>\n",
       "      <td>2143</td>\n",
       "    </tr>\n",
       "    <tr>\n",
       "      <th>6</th>\n",
       "      <td>ORIGINAL</td>\n",
       "      <td>EQUIPMENT</td>\n",
       "      <td>2121</td>\n",
       "    </tr>\n",
       "    <tr>\n",
       "      <th>7</th>\n",
       "      <td>FRONT</td>\n",
       "      <td>END</td>\n",
       "      <td>1962</td>\n",
       "    </tr>\n",
       "    <tr>\n",
       "      <th>8</th>\n",
       "      <td>SEVERAL</td>\n",
       "      <td>TIMES</td>\n",
       "      <td>1887</td>\n",
       "    </tr>\n",
       "    <tr>\n",
       "      <th>9</th>\n",
       "      <td>NEW</td>\n",
       "      <td>TIRES</td>\n",
       "      <td>1861</td>\n",
       "    </tr>\n",
       "  </tbody>\n",
       "</table>\n",
       "</div>"
      ],
      "text/plain": [
       "     adjective       noun  count\n",
       "0         REAR       TIRE   4569\n",
       "1     STEERING      WHEEL   3154\n",
       "2        FRONT       TIRE   2901\n",
       "3  APPROXIMATE    FAILURE   2412\n",
       "4         SIDE       TIRE   2353\n",
       "5         SAME    PROBLEM   2143\n",
       "6     ORIGINAL  EQUIPMENT   2121\n",
       "7        FRONT        END   1962\n",
       "8      SEVERAL      TIMES   1887\n",
       "9          NEW      TIRES   1861"
      ]
     },
     "execution_count": 19,
     "metadata": {},
     "output_type": "execute_result"
    }
   ],
   "source": [
    "sql = 'select top 10 t1.TA_TOKEN, t2.TA_TOKEN, count(*) from \"SYSTEM\".\"$TA_CDESCRIND\" as t1, \"SYSTEM\".\"$TA_CDESCRIND\" as t2 where t1.cmplid=t2.cmplid and t1.TA_COUNTER=t2.TA_COUNTER-1 and t1.TA_SENTENCE=t2.TA_SENTENCE and t1.TA_TYPE=\\'adjective\\' and t2.TA_TYPE=\\'noun\\' group by t1.TA_TOKEN, t2.TA_TOKEN order by count(*) desc'\n",
    "cursor.execute(sql)\n",
    "adjective_noun = cursor.fetchall()\n",
    "adjective_noun_df = pd.DataFrame(adjective_noun)\n",
    "adjective_noun_df.columns = ['adjective', 'noun', 'count']\n",
    "adjective_noun_df"
   ]
  },
  {
   "cell_type": "markdown",
   "metadata": {},
   "source": [
    "## 2. Ermitteln Sie die häufigsten Co-occurrences von Adjektiven innerhalb eines Satzes (Position egal)."
   ]
  },
  {
   "cell_type": "code",
   "execution_count": null,
   "metadata": {},
   "outputs": [],
   "source": [
    "sql = 'select top 10 t1.TA_TOKEN as adjective, t2.TA_TOKEN as adjective2, count(*) from \"SYSTEM\".\"$TA_CDESCRIND\" as t1, \"SYSTEM\".\"$TA_CDESCRIND\" as t2 where t1.cmplid=t2.cmplid and t1.TA_COUNTER<t2.TA_COUNTER and t1.TA_SENTENCE=t2.TA_SENTENCE and t1.TA_TYPE=\\'adjective\\' and t2.TA_TYPE=\\'adjective\\' group by t1.TA_TOKEN, t2.TA_TOKEN order by count(*) desc'\n",
    "cursor.execute(sql)\n",
    "adj_adj = cursor.fetchall()\n",
    "adj_adj_df = pd.DataFrame(adj_adj)\n",
    "adj_adj_df.columns = ['adjective', 'adjective 2', 'count']\n",
    "adj_adj_df"
   ]
  },
  {
   "cell_type": "markdown",
   "metadata": {},
   "source": [
    "## 3. Berechnen Sie die top-3 tf-idf (ntn nach der SMART Notation) Werte von Nomen im Corpus. Schauen Sie sich die entsprechenden Dokumente und die jeweiligen tf bzw. idf Wertkomponenten an."
   ]
  },
  {
   "cell_type": "markdown",
   "metadata": {},
   "source": [
    "### tf"
   ]
  },
  {
   "cell_type": "code",
   "execution_count": null,
   "metadata": {},
   "outputs": [],
   "source": [
    "# create SQL-View MAX_FREQ_NOUN\n",
    "sql = 'create view MAX_FREQ_NOUN as select top 1 t1.TA_TOKEN as noun, count(*) as maxfreq from \"SYSTEM\".\"$TA_CDESCRIND\" as t1 where t1.TA_TYPE=\\'noun\\' group by t1.TA_TOKEN order by count(*) desc'\n",
    "cursor.execute(sql)"
   ]
  },
  {
   "cell_type": "code",
   "execution_count": null,
   "metadata": {},
   "outputs": [],
   "source": [
    "# drop SQL-View MAX_FREQ_NOUN\n",
    "sql_drop_view = 'drop view MAX_FREQ_NOUN'\n",
    "cursor.execute(sql_drop_view)"
   ]
  },
  {
   "cell_type": "code",
   "execution_count": null,
   "metadata": {},
   "outputs": [],
   "source": [
    "# tf\n",
    "sql = 'select top 3 t1.TA_TOKEN, (count(*)/t2.maxfreq) from \"SYSTEM\".\"$TA_CDESCRIND\" as t1, \"SYSTEM\".\"MAX_FREQ_NOUN\" as t2 where t1.TA_TYPE=\\'noun\\' group by t1.TA_TOKEN, t2.maxfreq order by count(*) desc'\n",
    "cursor.execute(sql)\n",
    "tf = cursor.fetchall()\n",
    "tf_df = pd.DataFrame(tf)\n",
    "tf_df.columns = ['noun', 'tf']\n",
    "tf_df"
   ]
  },
  {
   "cell_type": "markdown",
   "metadata": {},
   "source": [
    "### idf"
   ]
  },
  {
   "cell_type": "code",
   "execution_count": null,
   "metadata": {},
   "outputs": [],
   "source": [
    "# create SQL-View MAX_COUNT_NOUNS\n",
    "sql = 'create view MAX_COUNT_NOUNS as select top 3 t1.TA_TOKEN as noun from \"SYSTEM\".\"$TA_CDESCRIND\" as t1 where t1.TA_TYPE=\\'noun\\' group by t1.TA_TOKEN order by count(*) desc'\n",
    "cursor.execute(sql)"
   ]
  },
  {
   "cell_type": "code",
   "execution_count": null,
   "metadata": {},
   "outputs": [],
   "source": [
    "# create SQL-View COUNT_DOCS\n",
    "sql = 'create view COUNT_DOCS as select count(DISTINCT cmplid) as n_total from \"SYSTEM\".\"$TA_CDESCRIND\"'\n",
    "cursor.execute(sql)"
   ]
  },
  {
   "cell_type": "code",
   "execution_count": null,
   "metadata": {},
   "outputs": [],
   "source": [
    "# create SQL-View VALUES_IDF\n",
    "sql = 'create view VALUES_IDF as select t1.TA_TOKEN, count(DISTINCT cmplid) as count_docs_term, t3.n_total from \"SYSTEM\".\"$TA_CDESCRIND\" as t1, MAX_COUNT_NOUNS as t2, COUNT_DOCS as t3 where TA_TOKEN=t2.noun group by t1.TA_TOKEN, t3.n_total'\n",
    "cursor.execute(sql)"
   ]
  },
  {
   "cell_type": "code",
   "execution_count": null,
   "metadata": {},
   "outputs": [],
   "source": [
    "# drop SQL-Views\n",
    "sql_drop_view = 'drop view <view_name>'\n",
    "cursor.execute(sql_drop_view)"
   ]
  },
  {
   "cell_type": "code",
   "execution_count": null,
   "metadata": {},
   "outputs": [],
   "source": [
    "# idf\n",
    "sql = 'select TA_TOKEN, count_docs_term, n_total, LOG(10,(n_total/count_docs_term)) as idf from VALUES_IDF'\n",
    "cursor.execute(sql)\n",
    "idf = cursor.fetchall()\n",
    "idf_df = pd.DataFrame(idf)\n",
    "idf_df.columns = ['Token', 'count_docs_term', 'n_total', 'idf']\n",
    "idf_df"
   ]
  },
  {
   "cell_type": "markdown",
   "metadata": {},
   "source": [
    "## 4. Berücksichtigen Sie nur Adjektiv-Nomen Bigramme in Dokumenten mit der ID<1000000. Ermitteln Sie anhand des Chi2 Tests die 3 statistisch signifikantesten und die 3 am wenigsten signifikant zusammenhängenden Bigramme mit w1=* (beliebig) und w2=Tire."
   ]
  },
  {
   "cell_type": "code",
   "execution_count": null,
   "metadata": {},
   "outputs": [],
   "source": [
    "# create view\n",
    "# all adjective-noun bigrams with ID < 1000000 and w1=* and w2=Tire\n",
    "sql = 'create view adjective_noun_bigram as select t1.TA_TOKEN as adjective, t2.TA_TOKEN as noun, count(*) as  w1_and_w2 from \"SYSTEM\".\"$TA_CDESCRIND\" as t1, \"SYSTEM\".\"$TA_CDESCRIND\" as t2 where t1.cmplid=t2.cmplid and t1.TA_COUNTER=t2.TA_COUNTER-1 and t1.TA_SENTENCE=t2.TA_SENTENCE and t1.TA_TYPE=\\'adjective\\' and t2.TA_TYPE=\\'noun\\' and t1.cmplid<1000000 and t2.TA_TOKEN=\\'TIRE\\' group by t1.TA_TOKEN, t2.TA_TOKEN order by count(*) desc'\n",
    "cursor.execute(sql)"
   ]
  },
  {
   "cell_type": "code",
   "execution_count": null,
   "metadata": {},
   "outputs": [],
   "source": [
    "# create view\n",
    "# all adjective-noun bigrams with ID < 1000000 and w1=* and w2=not_Tire\n",
    "sql = 'create view adjective_noun_bigram_not_tire as select t1.TA_TOKEN as adjective, t2.TA_TOKEN as noun, count(*) as  w1_and_not_w2 from \"SYSTEM\".\"$TA_CDESCRIND\" as t1, \"SYSTEM\".\"$TA_CDESCRIND\" as t2 where t1.cmplid=t2.cmplid and t1.TA_COUNTER=t2.TA_COUNTER-1 and t1.TA_SENTENCE=t2.TA_SENTENCE and t1.TA_TYPE=\\'adjective\\' and t2.TA_TYPE=\\'noun\\' and t1.cmplid<1000000 and t2.TA_TOKEN!=\\'TIRE\\' group by t1.TA_TOKEN, t2.TA_TOKEN order by count(*) desc'\n",
    "cursor.execute(sql)"
   ]
  },
  {
   "cell_type": "code",
   "execution_count": null,
   "metadata": {},
   "outputs": [],
   "source": [
    "# drop SQL-Views\n",
    "sql_drop_view = 'drop view <view_name>'\n",
    "cursor.execute(sql_drop_view)"
   ]
  },
  {
   "cell_type": "code",
   "execution_count": null,
   "metadata": {
    "scrolled": true
   },
   "outputs": [],
   "source": [
    "cursor.execute(\"\"\"\n",
    "select adjective, noun, o11, o12, o21, o22 from \n",
    "(\n",
    "select t1.adjective, t1.noun, w1_and_w2 as o11, (sum_w1_and_w2-SUM(w1_and_w2)) as o12, t3.sum_w1_and_not_w2 as o21, (sum_NOT_w2 - t3.sum_w1_and_not_w2) as o22 from \n",
    "\"SYSTEM\".\"ADJECTIVE_NOUN_BIGRAM\" as t1, \n",
    "(select SUM(w1_and_w2) as sum_w1_and_w2 from \"SYSTEM\".\"ADJECTIVE_NOUN_BIGRAM\") as t2,\n",
    "(select adjective, SUM(w1_and_not_w2) as sum_w1_and_not_w2 from \"SYSTEM\".\"ADJECTIVE_NOUN_BIGRAM_NOT_TIRE\" group by adjective) as t3,\n",
    "(select SUM(w1_and_not_w2) as sum_NOT_w2 from \"SYSTEM\".\"ADJECTIVE_NOUN_BIGRAM_NOT_TIRE\" order by sum_NOT_w2 desc) as t4 where t3.adjective=t1.adjective group by t1.adjective, t1.noun, w1_and_w2, t2.sum_w1_and_w2, t3.sum_w1_and_not_w2, t4.sum_NOT_w2\n",
    ")\n",
    "\"\"\");\n",
    "data = cursor.fetchall();"
   ]
  },
  {
   "cell_type": "code",
   "execution_count": null,
   "metadata": {},
   "outputs": [],
   "source": [
    "values_list = []\n",
    "header = [\"adjective\", \"noun\", \"o11\", \"o12\", \"o21\", \"o22\", \"chi_square\"];\n",
    "for item in data:\n",
    "    o11=item[2]\n",
    "    o12=item[3]\n",
    "    o21= item[4]\n",
    "    o22=item[5]\n",
    "    chi_square = ((102848 * (o11 * o22 - o12 * o21)**2) / ((o11 + o12) * (o11 + o21) * (o12 + o22) * (o21 + o22)))\n",
    "    values_list.append((item[0], item[1], item[2], item[3], item[4], item[5], chi_square))\n",
    "\n",
    "values_list.sort(key=lambda x: x[6], reverse=True);\n",
    "df = pd.DataFrame(values_list)\n",
    "df.columns = [header]\n",
    "df"
   ]
  },
  {
   "cell_type": "markdown",
   "metadata": {},
   "source": [
    "## 5. Implementieren Sie eine Ähnlichkeitsanfrage, die für einen gegebenen Anfragevektor (egal ob existierendes Dokument oder eigene Suchanfrage) die gerankten top n Dokumente anhand der Wortvektoren (nur Nomen ohne IDF-Gewichtung!) zurückgibt mit Hilfe von \n",
    "## a. Skalarprodukt (nnn nach SMART Notation)\n"
   ]
  },
  {
   "cell_type": "code",
   "execution_count": null,
   "metadata": {
    "scrolled": true
   },
   "outputs": [],
   "source": [
    "def scalar_product(id):\n",
    "    sql = 'SELECT CMPLID, sum(PROD) AS SCALARPRODUCT FROM (SELECT a.CMPLID, a.WORD, a.TERM * b.CountReq AS PROD FROM TERMS_NHTSA AS a, (SELECT TA_TOKEN, count(*) AS CountReq FROM \"SYSTEM\".\"$TA_CDESCRIND\" WHERE CMPLID = '+id+' GROUP BY TA_TOKEN) AS b WHERE a.WORD = b.TA_TOKEN) GROUP BY CMPLID ORDER BY SCALARPRODUCT desc LIMIT 10;'\n",
    "    cursor.execute(sql)\n",
    "    idf = cursor.fetchall()\n",
    "    idf_df = pd.DataFrame(idf)\n",
    "    print(idf_df)"
   ]
  },
  {
   "cell_type": "code",
   "execution_count": null,
   "metadata": {},
   "outputs": [],
   "source": [
    "# create view TERMS_NHTSA\n",
    "sql = 'create view TERMS_NHTSA as SELECT CMPLID, TA_TOKEN AS WORD, count(*) AS TERM, POWER(count(*),2) AS TERMSQR FROM \"SYSTEM\".\"$TA_CDESCRIND\" WHERE TA_TYPE=\\'noun\\' GROUP BY CMPLID, TA_TOKEN'\n",
    "cursor.execute(sql)"
   ]
  },
  {
   "cell_type": "code",
   "execution_count": null,
   "metadata": {},
   "outputs": [],
   "source": [
    "# drop SQL-View\n",
    "sql_drop_view = 'drop view TERMS_NHTSA'\n",
    "cursor.execute(sql_drop_view)"
   ]
  },
  {
   "cell_type": "markdown",
   "metadata": {},
   "source": [
    "## b. Kosinus Ähnlichkeit (nnc nach SMART Notation)"
   ]
  },
  {
   "cell_type": "code",
   "execution_count": null,
   "metadata": {
    "scrolled": true
   },
   "outputs": [],
   "source": [
    "def cosinus(id):\n",
    "    sql = 'SELECT CMPLID, SCALARPRODUCT / (Cos * (SELECT SQRT(sum(coutsqr)) FROM (SELECT TA_TOKEN, POWER(count(*),2) AS coutsqr FROM \"SYSTEM\".\"$TA_CDESCRIND\" WHERE CMPLID = '+id+' AND TA_TYPE = \\'noun\\' GROUP BY TA_TOKEN))) AS COSINUS FROM COS_NHTSA ORDER BY COSINUS DESC LIMIT 10'\n",
    "    cursor.execute(sql)\n",
    "    idf = cursor.fetchall()\n",
    "    idf_df = pd.DataFrame(idf)\n",
    "    print(idf_df)"
   ]
  },
  {
   "cell_type": "code",
   "execution_count": null,
   "metadata": {},
   "outputs": [],
   "source": [
    "# create view COS_NHTSA\n",
    "sql = 'create view COS_NHTSA as SELECT x.CMPLID AS CMPLID, x.SCALARPRODUCT AS SCALARPRODUCT, y.Cos AS Cos From (SELECT CMPLID, sum(PROD) AS SCALARPRODUCT FROM (SELECT a.CMPLID, a.WORD, a.TERM * b.CountReq AS PROD FROM TERMS_NHTSA AS a, (SELECT TA_TOKEN, count(*) AS CountReq FROM \"SYSTEM\".\"$TA_CDESCRIND\" WHERE CMPLID = 119408 GROUP BY TA_TOKEN) AS b WHERE a.WORD = b.TA_TOKEN) GROUP BY CMPLID) AS x, (SELECT CMPLID, SQRT(SUM(TERMSQR)) AS Cos FROM TERMS_NHTSA GROUP BY CMPLID) AS y WHERE x.CMPLID = y.CMPLID'\n",
    "cursor.execute(sql)"
   ]
  },
  {
   "cell_type": "code",
   "execution_count": null,
   "metadata": {},
   "outputs": [],
   "source": [
    "# drop SQL-View\n",
    "sql_drop_view = 'drop view COS_NHTSA'\n",
    "cursor.execute(sql_drop_view)"
   ]
  },
  {
   "cell_type": "markdown",
   "metadata": {},
   "source": [
    "## 6. Welches sind die jeweils ähnlichsten Dokumente für Complaint 119408? Wie unterscheiden sich die Ergebnisse grundsätzlich?"
   ]
  },
  {
   "cell_type": "code",
   "execution_count": null,
   "metadata": {
    "scrolled": true
   },
   "outputs": [],
   "source": [
    "scalar_product('119408');"
   ]
  },
  {
   "cell_type": "code",
   "execution_count": null,
   "metadata": {},
   "outputs": [],
   "source": [
    "cosinus('119408');"
   ]
  },
  {
   "cell_type": "markdown",
   "metadata": {},
   "source": [
    "## 7.  Aufgaben 1-6 auf den eigenen Datensatz (T3N-Daten)"
   ]
  },
  {
   "cell_type": "markdown",
   "metadata": {},
   "source": [
    "### 1. Ermitteln Sie die häufigsten Folgen von Adjektiv-Nomen Bigrammen im Corpus (Hinweis: wenn Sie mit SQL arbeiten, können Sie einen non-equi auto-join verwenden)"
   ]
  },
  {
   "cell_type": "code",
   "execution_count": 6,
   "metadata": {},
   "outputs": [
    {
     "data": {
      "text/html": [
       "<div>\n",
       "<style scoped>\n",
       "    .dataframe tbody tr th:only-of-type {\n",
       "        vertical-align: middle;\n",
       "    }\n",
       "\n",
       "    .dataframe tbody tr th {\n",
       "        vertical-align: top;\n",
       "    }\n",
       "\n",
       "    .dataframe thead th {\n",
       "        text-align: right;\n",
       "    }\n",
       "</style>\n",
       "<table border=\"1\" class=\"dataframe\">\n",
       "  <thead>\n",
       "    <tr style=\"text-align: right;\">\n",
       "      <th></th>\n",
       "      <th>adjective</th>\n",
       "      <th>noun</th>\n",
       "      <th>count</th>\n",
       "    </tr>\n",
       "  </thead>\n",
       "  <tbody>\n",
       "    <tr>\n",
       "      <th>0</th>\n",
       "      <td>vergangenen</td>\n",
       "      <td>Jahr</td>\n",
       "      <td>49</td>\n",
       "    </tr>\n",
       "    <tr>\n",
       "      <th>1</th>\n",
       "      <td>erster</td>\n",
       "      <td>Linie</td>\n",
       "      <td>48</td>\n",
       "    </tr>\n",
       "    <tr>\n",
       "      <th>2</th>\n",
       "      <td>ersten</td>\n",
       "      <td>Blick</td>\n",
       "      <td>39</td>\n",
       "    </tr>\n",
       "    <tr>\n",
       "      <th>3</th>\n",
       "      <td>Sublime</td>\n",
       "      <td>Text</td>\n",
       "      <td>34</td>\n",
       "    </tr>\n",
       "    <tr>\n",
       "      <th>4</th>\n",
       "      <td>letzten</td>\n",
       "      <td>Jahr</td>\n",
       "      <td>33</td>\n",
       "    </tr>\n",
       "    <tr>\n",
       "      <th>5</th>\n",
       "      <td>eigenen</td>\n",
       "      <td>Angaben</td>\n",
       "      <td>30</td>\n",
       "    </tr>\n",
       "    <tr>\n",
       "      <th>6</th>\n",
       "      <td>Virtual</td>\n",
       "      <td>Reality</td>\n",
       "      <td>29</td>\n",
       "    </tr>\n",
       "    <tr>\n",
       "      <th>7</th>\n",
       "      <td>vergangenen</td>\n",
       "      <td>Jahren</td>\n",
       "      <td>27</td>\n",
       "    </tr>\n",
       "    <tr>\n",
       "      <th>8</th>\n",
       "      <td>letzten</td>\n",
       "      <td>Jahren</td>\n",
       "      <td>26</td>\n",
       "    </tr>\n",
       "    <tr>\n",
       "      <th>9</th>\n",
       "      <td>neuen</td>\n",
       "      <td>Modelle</td>\n",
       "      <td>25</td>\n",
       "    </tr>\n",
       "  </tbody>\n",
       "</table>\n",
       "</div>"
      ],
      "text/plain": [
       "     adjective     noun  count\n",
       "0  vergangenen     Jahr     49\n",
       "1       erster    Linie     48\n",
       "2       ersten    Blick     39\n",
       "3      Sublime     Text     34\n",
       "4      letzten     Jahr     33\n",
       "5      eigenen  Angaben     30\n",
       "6      Virtual  Reality     29\n",
       "7  vergangenen   Jahren     27\n",
       "8      letzten   Jahren     26\n",
       "9        neuen  Modelle     25"
      ]
     },
     "execution_count": 6,
     "metadata": {},
     "output_type": "execute_result"
    }
   ],
   "source": [
    "sql = 'select top 10 t1.TA_TOKEN, t2.TA_TOKEN, count(*) from \"SYSTEM\".\"$TA_T3NTEXTIND\" as t1, \"SYSTEM\".\"$TA_T3NTEXTIND\" as t2 where t1.ID=t2.ID and t1.TA_COUNTER=t2.TA_COUNTER-1 and t1.TA_SENTENCE=t2.TA_SENTENCE and t1.TA_TYPE=\\'adjective\\' and t2.TA_TYPE=\\'noun\\' group by t1.TA_TOKEN, t2.TA_TOKEN order by count(*) desc'\n",
    "cursor.execute(sql)\n",
    "adjective_noun = cursor.fetchall()\n",
    "adjective_noun_df = pd.DataFrame(adjective_noun)\n",
    "adjective_noun_df.columns = ['adjective', 'noun', 'count']\n",
    "adjective_noun_df"
   ]
  },
  {
   "cell_type": "markdown",
   "metadata": {},
   "source": [
    "### 2. Ermitteln Sie die häufigsten Co-occurrences von Adjektiven innerhalb eines Satzes (Position egal)."
   ]
  },
  {
   "cell_type": "code",
   "execution_count": 7,
   "metadata": {},
   "outputs": [
    {
     "data": {
      "text/html": [
       "<div>\n",
       "<style scoped>\n",
       "    .dataframe tbody tr th:only-of-type {\n",
       "        vertical-align: middle;\n",
       "    }\n",
       "\n",
       "    .dataframe tbody tr th {\n",
       "        vertical-align: top;\n",
       "    }\n",
       "\n",
       "    .dataframe thead th {\n",
       "        text-align: right;\n",
       "    }\n",
       "</style>\n",
       "<table border=\"1\" class=\"dataframe\">\n",
       "  <thead>\n",
       "    <tr style=\"text-align: right;\">\n",
       "      <th></th>\n",
       "      <th>adjective</th>\n",
       "      <th>adjective 2</th>\n",
       "      <th>count</th>\n",
       "    </tr>\n",
       "  </thead>\n",
       "  <tbody>\n",
       "    <tr>\n",
       "      <th>0</th>\n",
       "      <td>neue</td>\n",
       "      <td>neuen</td>\n",
       "      <td>39</td>\n",
       "    </tr>\n",
       "    <tr>\n",
       "      <th>1</th>\n",
       "      <td>neuen</td>\n",
       "      <td>neuen</td>\n",
       "      <td>38</td>\n",
       "    </tr>\n",
       "    <tr>\n",
       "      <th>2</th>\n",
       "      <td>neuen</td>\n",
       "      <td>neue</td>\n",
       "      <td>23</td>\n",
       "    </tr>\n",
       "    <tr>\n",
       "      <th>3</th>\n",
       "      <td>neue</td>\n",
       "      <td>neue</td>\n",
       "      <td>23</td>\n",
       "    </tr>\n",
       "    <tr>\n",
       "      <th>4</th>\n",
       "      <td>neue</td>\n",
       "      <td>ersten</td>\n",
       "      <td>16</td>\n",
       "    </tr>\n",
       "    <tr>\n",
       "      <th>5</th>\n",
       "      <td>ersten</td>\n",
       "      <td>ersten</td>\n",
       "      <td>15</td>\n",
       "    </tr>\n",
       "    <tr>\n",
       "      <th>6</th>\n",
       "      <td>eigenen</td>\n",
       "      <td>eigenen</td>\n",
       "      <td>14</td>\n",
       "    </tr>\n",
       "    <tr>\n",
       "      <th>7</th>\n",
       "      <td>ersten</td>\n",
       "      <td>neuen</td>\n",
       "      <td>14</td>\n",
       "    </tr>\n",
       "    <tr>\n",
       "      <th>8</th>\n",
       "      <td>weitere</td>\n",
       "      <td>neue</td>\n",
       "      <td>13</td>\n",
       "    </tr>\n",
       "    <tr>\n",
       "      <th>9</th>\n",
       "      <td>ersten</td>\n",
       "      <td>neue</td>\n",
       "      <td>12</td>\n",
       "    </tr>\n",
       "  </tbody>\n",
       "</table>\n",
       "</div>"
      ],
      "text/plain": [
       "  adjective adjective 2  count\n",
       "0      neue       neuen     39\n",
       "1     neuen       neuen     38\n",
       "2     neuen        neue     23\n",
       "3      neue        neue     23\n",
       "4      neue      ersten     16\n",
       "5    ersten      ersten     15\n",
       "6   eigenen     eigenen     14\n",
       "7    ersten       neuen     14\n",
       "8   weitere        neue     13\n",
       "9    ersten        neue     12"
      ]
     },
     "execution_count": 7,
     "metadata": {},
     "output_type": "execute_result"
    }
   ],
   "source": [
    "sql = 'select top 10 t1.TA_TOKEN as adjective, t2.TA_TOKEN as adjective2, count(*) from \"SYSTEM\".\"$TA_T3NTEXTIND\" as t1, \"SYSTEM\".\"$TA_T3NTEXTIND\" as t2 where t1.ID=t2.ID and t1.TA_COUNTER<t2.TA_COUNTER and t1.TA_SENTENCE=t2.TA_SENTENCE and t1.TA_TYPE=\\'adjective\\' and t2.TA_TYPE=\\'adjective\\' group by t1.TA_TOKEN, t2.TA_TOKEN order by count(*) desc'\n",
    "cursor.execute(sql)\n",
    "adj_adj = cursor.fetchall()\n",
    "adj_adj_df = pd.DataFrame(adj_adj)\n",
    "adj_adj_df.columns = ['adjective', 'adjective 2', 'count']\n",
    "adj_adj_df"
   ]
  },
  {
   "cell_type": "markdown",
   "metadata": {},
   "source": [
    "#### Without SQL"
   ]
  },
  {
   "cell_type": "code",
   "execution_count": null,
   "metadata": {},
   "outputs": [],
   "source": [
    "t3n_df = pd.read_csv('../praktikum2/t3n_data_cleaned.csv')\n",
    "t3n_df"
   ]
  },
  {
   "cell_type": "code",
   "execution_count": null,
   "metadata": {},
   "outputs": [],
   "source": [
    "t3n_adjectives = t3n_df[t3n_df['TA_TYPE']=='adjective']"
   ]
  },
  {
   "cell_type": "code",
   "execution_count": null,
   "metadata": {},
   "outputs": [],
   "source": [
    "grouped_coocurrencies = t3n_adjectives.groupby(['ID','TA_SENTENCE'])['TA_TOKEN_LOW']"
   ]
  },
  {
   "cell_type": "code",
   "execution_count": null,
   "metadata": {},
   "outputs": [],
   "source": [
    "coocurrencies = {}\n",
    "\n",
    "#generate \"matrix\" with coocurrencies. we count the coocurrencies of each adverb per sentence. \n",
    "for name, group in grouped_coocurrencies:\n",
    "    for index_i, token_i in group.iteritems():\n",
    "        type(token_i)\n",
    "        if token_i not in coocurrencies:\n",
    "            coocurrencies[token_i] = {}\n",
    "            \n",
    "        for index_j, token_j in group.iteritems():\n",
    "            if token_j not in coocurrencies[token_i]:\n",
    "                coocurrencies[token_i][token_j] = 0\n",
    "            else:\n",
    "                coocurrencies[token_i][token_j]+=1 "
   ]
  },
  {
   "cell_type": "code",
   "execution_count": null,
   "metadata": {},
   "outputs": [],
   "source": [
    "ordered_coocurrencies = {}\n",
    "\n",
    "for coocurrency in coocurrencies:\n",
    "    coocurrencies_for_this_token = coocurrencies[coocurrency]\n",
    "    for coocurrency_for_this_token in coocurrencies_for_this_token:\n",
    "        if(coocurrency != coocurrency_for_this_token):\n",
    "            ordered_coocurrencies[coocurrency + '-' + coocurrency_for_this_token] = coocurrencies_for_this_token[coocurrency_for_this_token] \n",
    "            \n",
    "ordered_coocurrencies = {k: v for k, v in sorted(ordered_coocurrencies.items(), key=lambda item: item[1],reverse=True)}        \n",
    "    "
   ]
  },
  {
   "cell_type": "code",
   "execution_count": null,
   "metadata": {},
   "outputs": [],
   "source": [
    "def drop_dublicates(ordered_coocurrencies):\n",
    "    for occurency in ordered_coocurrencies.copy():\n",
    "        split_occurency = occurency.split('-')\n",
    "        dublicate_occurency = split_occurency[1] + '-' + split_occurency[0]\n",
    "        if dublicate_occurency in ordered_coocurrencies and occurency in ordered_coocurrencies:\n",
    "            ordered_coocurrencies.pop(dublicate_occurency)\n",
    "    return ordered_coocurrencies"
   ]
  },
  {
   "cell_type": "code",
   "execution_count": null,
   "metadata": {},
   "outputs": [],
   "source": [
    "drop_dublicates(ordered_coocurrencies)"
   ]
  },
  {
   "cell_type": "markdown",
   "metadata": {},
   "source": [
    "### 3. Berechnen Sie die top-3 tf-idf (ntn nach der SMART Notation) Werte von Nomen im Corpus. Schauen Sie sich die entsprechenden Dokumente und die jeweiligen tf bzw. idf Wertkomponenten an."
   ]
  },
  {
   "cell_type": "markdown",
   "metadata": {},
   "source": [
    "### tf"
   ]
  },
  {
   "cell_type": "code",
   "execution_count": 9,
   "metadata": {},
   "outputs": [
    {
     "data": {
      "text/plain": [
       "True"
      ]
     },
     "execution_count": 9,
     "metadata": {},
     "output_type": "execute_result"
    }
   ],
   "source": [
    "# create SQL-View MAX_FREQ_NOUN_T3N\n",
    "sql = 'create view MAX_FREQ_NOUN_T3N as select top 1 t1.TA_TOKEN as noun, count(*) as maxfreq from \"SYSTEM\".\"$TA_T3NTEXTIND\" as t1 where t1.TA_TYPE=\\'noun\\' group by t1.TA_TOKEN order by count(*) desc'\n",
    "cursor.execute(sql)"
   ]
  },
  {
   "cell_type": "code",
   "execution_count": null,
   "metadata": {},
   "outputs": [],
   "source": [
    "# drop SQL-View MAX_FREQ_NOUN_T3N\n",
    "sql_drop_view = 'drop view MAX_FREQ_NOUN_T3N'\n",
    "cursor.execute(sql_drop_view)"
   ]
  },
  {
   "cell_type": "code",
   "execution_count": 10,
   "metadata": {},
   "outputs": [
    {
     "data": {
      "text/html": [
       "<div>\n",
       "<style scoped>\n",
       "    .dataframe tbody tr th:only-of-type {\n",
       "        vertical-align: middle;\n",
       "    }\n",
       "\n",
       "    .dataframe tbody tr th {\n",
       "        vertical-align: top;\n",
       "    }\n",
       "\n",
       "    .dataframe thead th {\n",
       "        text-align: right;\n",
       "    }\n",
       "</style>\n",
       "<table border=\"1\" class=\"dataframe\">\n",
       "  <thead>\n",
       "    <tr style=\"text-align: right;\">\n",
       "      <th></th>\n",
       "      <th>noun</th>\n",
       "      <th>tf</th>\n",
       "    </tr>\n",
       "  </thead>\n",
       "  <tbody>\n",
       "    <tr>\n",
       "      <th>0</th>\n",
       "      <td>Google</td>\n",
       "      <td>1</td>\n",
       "    </tr>\n",
       "    <tr>\n",
       "      <th>1</th>\n",
       "      <td>Apple</td>\n",
       "      <td>0.87931</td>\n",
       "    </tr>\n",
       "    <tr>\n",
       "      <th>2</th>\n",
       "      <td>Unternehmen</td>\n",
       "      <td>0.634482</td>\n",
       "    </tr>\n",
       "  </tbody>\n",
       "</table>\n",
       "</div>"
      ],
      "text/plain": [
       "          noun        tf\n",
       "0       Google         1\n",
       "1        Apple   0.87931\n",
       "2  Unternehmen  0.634482"
      ]
     },
     "execution_count": 10,
     "metadata": {},
     "output_type": "execute_result"
    }
   ],
   "source": [
    "# tf\n",
    "sql = 'select top 3 t1.TA_TOKEN, (count(*)/t2.maxfreq) from \"SYSTEM\".\"$TA_T3NTEXTIND\" as t1, \"SYSTEM\".\"MAX_FREQ_NOUN_T3N\" as t2 where t1.TA_TYPE=\\'noun\\' group by t1.TA_TOKEN, t2.maxfreq order by count(*) desc'\n",
    "cursor.execute(sql)\n",
    "tf = cursor.fetchall()\n",
    "tf_df = pd.DataFrame(tf)\n",
    "tf_df.columns = ['noun', 'tf']\n",
    "tf_df"
   ]
  },
  {
   "cell_type": "markdown",
   "metadata": {},
   "source": [
    "### idf"
   ]
  },
  {
   "cell_type": "code",
   "execution_count": 8,
   "metadata": {},
   "outputs": [
    {
     "data": {
      "text/plain": [
       "True"
      ]
     },
     "execution_count": 8,
     "metadata": {},
     "output_type": "execute_result"
    }
   ],
   "source": [
    "# create SQL-View MAX_COUNT_NOUNS_T3N\n",
    "sql = 'create view MAX_COUNT_NOUNS_T3N as select top 3 t1.TA_TOKEN as noun from \"SYSTEM\".\"$TA_T3NTEXTIND\" as t1 where t1.TA_TYPE=\\'noun\\' group by t1.TA_TOKEN order by count(*) desc'\n",
    "cursor.execute(sql)"
   ]
  },
  {
   "cell_type": "code",
   "execution_count": 11,
   "metadata": {},
   "outputs": [
    {
     "data": {
      "text/plain": [
       "True"
      ]
     },
     "execution_count": 11,
     "metadata": {},
     "output_type": "execute_result"
    }
   ],
   "source": [
    "# create SQL-View COUNT_DOCS_T3N\n",
    "sql = 'create view COUNT_DOCS_T3N as select count(DISTINCT ID) as n_total from \"SYSTEM\".\"$TA_T3NTEXTIND\"'\n",
    "cursor.execute(sql)"
   ]
  },
  {
   "cell_type": "code",
   "execution_count": 17,
   "metadata": {},
   "outputs": [
    {
     "data": {
      "text/plain": [
       "True"
      ]
     },
     "execution_count": 17,
     "metadata": {},
     "output_type": "execute_result"
    }
   ],
   "source": [
    "# create SQL-View VALUES_IDF_T3N\n",
    "sql = 'create view VALUES_IDF_T3N as select t1.TA_TOKEN, count(DISTINCT ID) as count_docs_term, t3.n_total from \"SYSTEM\".\"$TA_T3NTEXTIND\" as t1, MAX_COUNT_NOUNS_T3N as t2, COUNT_DOCS_T3N as t3 where TA_TOKEN=t2.noun group by t1.TA_TOKEN, t3.n_total'\n",
    "cursor.execute(sql)"
   ]
  },
  {
   "cell_type": "code",
   "execution_count": 16,
   "metadata": {},
   "outputs": [
    {
     "data": {
      "text/plain": [
       "True"
      ]
     },
     "execution_count": 16,
     "metadata": {},
     "output_type": "execute_result"
    }
   ],
   "source": [
    "# drop SQL-Views\n",
    "sql_drop_view = 'drop view VALUES_IDF_T3N'\n",
    "cursor.execute(sql_drop_view)"
   ]
  },
  {
   "cell_type": "code",
   "execution_count": 18,
   "metadata": {},
   "outputs": [
    {
     "data": {
      "text/html": [
       "<div>\n",
       "<style scoped>\n",
       "    .dataframe tbody tr th:only-of-type {\n",
       "        vertical-align: middle;\n",
       "    }\n",
       "\n",
       "    .dataframe tbody tr th {\n",
       "        vertical-align: top;\n",
       "    }\n",
       "\n",
       "    .dataframe thead th {\n",
       "        text-align: right;\n",
       "    }\n",
       "</style>\n",
       "<table border=\"1\" class=\"dataframe\">\n",
       "  <thead>\n",
       "    <tr style=\"text-align: right;\">\n",
       "      <th></th>\n",
       "      <th>Token</th>\n",
       "      <th>count_docs_term</th>\n",
       "      <th>n_total</th>\n",
       "      <th>idf</th>\n",
       "    </tr>\n",
       "  </thead>\n",
       "  <tbody>\n",
       "    <tr>\n",
       "      <th>0</th>\n",
       "      <td>Google</td>\n",
       "      <td>311</td>\n",
       "      <td>994</td>\n",
       "      <td>0.504626</td>\n",
       "    </tr>\n",
       "    <tr>\n",
       "      <th>1</th>\n",
       "      <td>Apple</td>\n",
       "      <td>274</td>\n",
       "      <td>994</td>\n",
       "      <td>0.559636</td>\n",
       "    </tr>\n",
       "    <tr>\n",
       "      <th>2</th>\n",
       "      <td>Unternehmen</td>\n",
       "      <td>409</td>\n",
       "      <td>994</td>\n",
       "      <td>0.385663</td>\n",
       "    </tr>\n",
       "  </tbody>\n",
       "</table>\n",
       "</div>"
      ],
      "text/plain": [
       "         Token  count_docs_term  n_total       idf\n",
       "0       Google              311      994  0.504626\n",
       "1        Apple              274      994  0.559636\n",
       "2  Unternehmen              409      994  0.385663"
      ]
     },
     "execution_count": 18,
     "metadata": {},
     "output_type": "execute_result"
    }
   ],
   "source": [
    "# idf\n",
    "sql = 'select TA_TOKEN, count_docs_term, n_total, LOG(10,(n_total/count_docs_term)) as idf from VALUES_IDF_T3N'\n",
    "cursor.execute(sql)\n",
    "idf = cursor.fetchall()\n",
    "idf_df = pd.DataFrame(idf)\n",
    "idf_df.columns = ['Token', 'count_docs_term', 'n_total', 'idf']\n",
    "idf_df"
   ]
  },
  {
   "cell_type": "markdown",
   "metadata": {},
   "source": [
    "### 4. Berücksichtigen Sie alle Adjektiv-Nomen Bigramme in Dokumenten. Ermitteln Sie anhand des Chi2 Tests die 3 statistisch signifikantesten und die 3 am wenigsten signifikant zusammenhängenden Bigramme mit w1=* (beliebig) und w2=Text."
   ]
  },
  {
   "cell_type": "code",
   "execution_count": 22,
   "metadata": {},
   "outputs": [
    {
     "data": {
      "text/plain": [
       "True"
      ]
     },
     "execution_count": 22,
     "metadata": {},
     "output_type": "execute_result"
    }
   ],
   "source": [
    "# create view\n",
    "# all adjective-noun bigrams and w1=* and w2=Text\n",
    "sql = 'create view adjective_noun_bigram_T3N as select t1.TA_TOKEN as adjective, t2.TA_TOKEN as noun, count(*) as  w1_and_w2 from \"SYSTEM\".\"$TA_T3NTEXTIND\" as t1, \"SYSTEM\".\"$TA_T3NTEXTIND\" as t2 where t1.ID=t2.ID and t1.TA_COUNTER=t2.TA_COUNTER-1 and t1.TA_SENTENCE=t2.TA_SENTENCE and t1.TA_TYPE=\\'adjective\\' and t2.TA_TYPE=\\'noun\\' and t2.TA_TOKEN=\\'Text\\' group by t1.TA_TOKEN, t2.TA_TOKEN order by count(*) desc'\n",
    "cursor.execute(sql)"
   ]
  },
  {
   "cell_type": "code",
   "execution_count": 23,
   "metadata": {},
   "outputs": [
    {
     "data": {
      "text/plain": [
       "True"
      ]
     },
     "execution_count": 23,
     "metadata": {},
     "output_type": "execute_result"
    }
   ],
   "source": [
    "# create view\n",
    "# all adjective-noun bigrams and w1=* and w2=not_Text\n",
    "sql = 'create view adjective_noun_bigram_not_text as select t1.TA_TOKEN as adjective, t2.TA_TOKEN as noun, count(*) as  w1_and_not_w2 from \"SYSTEM\".\"$TA_T3NTEXTIND\" as t1, \"SYSTEM\".\"$TA_T3NTEXTIND\" as t2 where t1.ID=t2.ID and t1.TA_COUNTER=t2.TA_COUNTER-1 and t1.TA_SENTENCE=t2.TA_SENTENCE and t1.TA_TYPE=\\'adjective\\' and t2.TA_TYPE=\\'noun\\' and t2.TA_TOKEN!=\\'Text\\' group by t1.TA_TOKEN, t2.TA_TOKEN order by count(*) desc'\n",
    "cursor.execute(sql)"
   ]
  },
  {
   "cell_type": "code",
   "execution_count": 21,
   "metadata": {},
   "outputs": [
    {
     "data": {
      "text/plain": [
       "True"
      ]
     },
     "execution_count": 21,
     "metadata": {},
     "output_type": "execute_result"
    }
   ],
   "source": [
    "# drop SQL-Views\n",
    "sql_drop_view = 'drop view adjective_noun_bigram_T3N'\n",
    "cursor.execute(sql_drop_view)"
   ]
  },
  {
   "cell_type": "code",
   "execution_count": 26,
   "metadata": {},
   "outputs": [],
   "source": [
    "cursor.execute(\"\"\"\n",
    "select adjective, noun, o11, o12, o21, o22 from \n",
    "(\n",
    "select t1.adjective, t1.noun, w1_and_w2 as o11, (sum_w1_and_w2-SUM(w1_and_w2)) as o12, t3.sum_w1_and_not_w2 as o21, (sum_NOT_w2 - t3.sum_w1_and_not_w2) as o22 from \n",
    "\"SYSTEM\".\"ADJECTIVE_NOUN_BIGRAM_T3N\" as t1, \n",
    "(select SUM(w1_and_w2) as sum_w1_and_w2 from \"SYSTEM\".\"ADJECTIVE_NOUN_BIGRAM_T3N\") as t2,\n",
    "(select adjective, SUM(w1_and_not_w2) as sum_w1_and_not_w2 from \"SYSTEM\".\"ADJECTIVE_NOUN_BIGRAM_NOT_TEXT\" group by adjective) as t3,\n",
    "(select SUM(w1_and_not_w2) as sum_NOT_w2 from \"SYSTEM\".\"ADJECTIVE_NOUN_BIGRAM_NOT_TEXT\" order by sum_NOT_w2 desc) as t4 where t3.adjective=t1.adjective group by t1.adjective, t1.noun, w1_and_w2, t2.sum_w1_and_w2, t3.sum_w1_and_not_w2, t4.sum_NOT_w2\n",
    ")\n",
    "\"\"\");\n",
    "data = cursor.fetchall();"
   ]
  },
  {
   "cell_type": "code",
   "execution_count": 27,
   "metadata": {},
   "outputs": [
    {
     "data": {
      "text/html": [
       "<div>\n",
       "<style scoped>\n",
       "    .dataframe tbody tr th:only-of-type {\n",
       "        vertical-align: middle;\n",
       "    }\n",
       "\n",
       "    .dataframe tbody tr th {\n",
       "        vertical-align: top;\n",
       "    }\n",
       "\n",
       "    .dataframe thead tr th {\n",
       "        text-align: left;\n",
       "    }\n",
       "</style>\n",
       "<table border=\"1\" class=\"dataframe\">\n",
       "  <thead>\n",
       "    <tr>\n",
       "      <th></th>\n",
       "      <th>adjective</th>\n",
       "      <th>noun</th>\n",
       "      <th>o11</th>\n",
       "      <th>o12</th>\n",
       "      <th>o21</th>\n",
       "      <th>o22</th>\n",
       "      <th>chi_square</th>\n",
       "    </tr>\n",
       "  </thead>\n",
       "  <tbody>\n",
       "    <tr>\n",
       "      <th>0</th>\n",
       "      <td>prägnanten</td>\n",
       "      <td>Text</td>\n",
       "      <td>1</td>\n",
       "      <td>46</td>\n",
       "      <td>1</td>\n",
       "      <td>23507</td>\n",
       "      <td>1087.674939</td>\n",
       "    </tr>\n",
       "    <tr>\n",
       "      <th>1</th>\n",
       "      <td>eingegebenen</td>\n",
       "      <td>Text</td>\n",
       "      <td>1</td>\n",
       "      <td>46</td>\n",
       "      <td>1</td>\n",
       "      <td>23507</td>\n",
       "      <td>1087.674939</td>\n",
       "    </tr>\n",
       "    <tr>\n",
       "      <th>2</th>\n",
       "      <td>markierten</td>\n",
       "      <td>Text</td>\n",
       "      <td>1</td>\n",
       "      <td>46</td>\n",
       "      <td>2</td>\n",
       "      <td>23506</td>\n",
       "      <td>722.244913</td>\n",
       "    </tr>\n",
       "    <tr>\n",
       "      <th>3</th>\n",
       "      <td>kompletten</td>\n",
       "      <td>Text</td>\n",
       "      <td>1</td>\n",
       "      <td>46</td>\n",
       "      <td>16</td>\n",
       "      <td>23492</td>\n",
       "      <td>120.463557</td>\n",
       "    </tr>\n",
       "    <tr>\n",
       "      <th>4</th>\n",
       "      <td>normalen</td>\n",
       "      <td>Text</td>\n",
       "      <td>1</td>\n",
       "      <td>46</td>\n",
       "      <td>18</td>\n",
       "      <td>23490</td>\n",
       "      <td>106.903648</td>\n",
       "    </tr>\n",
       "    <tr>\n",
       "      <th>5</th>\n",
       "      <td>kurzen</td>\n",
       "      <td>Text</td>\n",
       "      <td>1</td>\n",
       "      <td>46</td>\n",
       "      <td>31</td>\n",
       "      <td>23477</td>\n",
       "      <td>60.130692</td>\n",
       "    </tr>\n",
       "    <tr>\n",
       "      <th>6</th>\n",
       "      <td>richtigen</td>\n",
       "      <td>Text</td>\n",
       "      <td>1</td>\n",
       "      <td>46</td>\n",
       "      <td>39</td>\n",
       "      <td>23469</td>\n",
       "      <td>46.493854</td>\n",
       "    </tr>\n",
       "    <tr>\n",
       "      <th>7</th>\n",
       "      <td>Smart</td>\n",
       "      <td>Text</td>\n",
       "      <td>1</td>\n",
       "      <td>46</td>\n",
       "      <td>41</td>\n",
       "      <td>23467</td>\n",
       "      <td>43.900362</td>\n",
       "    </tr>\n",
       "    <tr>\n",
       "      <th>8</th>\n",
       "      <td>folgenden</td>\n",
       "      <td>Text</td>\n",
       "      <td>1</td>\n",
       "      <td>46</td>\n",
       "      <td>46</td>\n",
       "      <td>23462</td>\n",
       "      <td>38.388556</td>\n",
       "    </tr>\n",
       "  </tbody>\n",
       "</table>\n",
       "</div>"
      ],
      "text/plain": [
       "      adjective  noun o11 o12 o21    o22   chi_square\n",
       "0    prägnanten  Text   1  46   1  23507  1087.674939\n",
       "1  eingegebenen  Text   1  46   1  23507  1087.674939\n",
       "2    markierten  Text   1  46   2  23506   722.244913\n",
       "3    kompletten  Text   1  46  16  23492   120.463557\n",
       "4      normalen  Text   1  46  18  23490   106.903648\n",
       "5        kurzen  Text   1  46  31  23477    60.130692\n",
       "6     richtigen  Text   1  46  39  23469    46.493854\n",
       "7         Smart  Text   1  46  41  23467    43.900362\n",
       "8     folgenden  Text   1  46  46  23462    38.388556"
      ]
     },
     "execution_count": 27,
     "metadata": {},
     "output_type": "execute_result"
    }
   ],
   "source": [
    "values_list = []\n",
    "header = [\"adjective\", \"noun\", \"o11\", \"o12\", \"o21\", \"o22\", \"chi_square\"];\n",
    "for item in data:\n",
    "    o11=item[2]\n",
    "    o12=item[3]\n",
    "    o21= item[4]\n",
    "    o22=item[5]\n",
    "    chi_square = ((102848 * (o11 * o22 - o12 * o21)**2) / ((o11 + o12) * (o11 + o21) * (o12 + o22) * (o21 + o22)))\n",
    "    values_list.append((item[0], item[1], item[2], item[3], item[4], item[5], chi_square))\n",
    "\n",
    "values_list.sort(key=lambda x: x[6], reverse=True);\n",
    "df = pd.DataFrame(values_list)\n",
    "df.columns = [header]\n",
    "df"
   ]
  },
  {
   "cell_type": "markdown",
   "metadata": {},
   "source": [
    "### 5. Implementieren Sie eine Ähnlichkeitsanfrage, die für einen gegebenen Anfragevektor (egal ob existierendes Dokument oder eigene Suchanfrage) die gerankten top n Dokumente anhand der Wortvektoren (nur Nomen ohne IDF-Gewichtung!) zurückgibt mit Hilfe von \n",
    "#### a. Skalarprodukt (nnn nach SMART Notation)"
   ]
  },
  {
   "cell_type": "code",
   "execution_count": null,
   "metadata": {},
   "outputs": [],
   "source": []
  },
  {
   "cell_type": "markdown",
   "metadata": {},
   "source": [
    "#### b. Kosinus Ähnlichkeit (nnc nach SMART Notation)"
   ]
  },
  {
   "cell_type": "code",
   "execution_count": null,
   "metadata": {},
   "outputs": [],
   "source": []
  },
  {
   "cell_type": "markdown",
   "metadata": {},
   "source": [
    "### 6. Welches sind die jeweils ähnlichsten Dokumente für Complaint 119408? Wie unterscheiden sich die Ergebnisse grundsätzlich?"
   ]
  },
  {
   "cell_type": "code",
   "execution_count": null,
   "metadata": {},
   "outputs": [],
   "source": []
  },
  {
   "cell_type": "markdown",
   "metadata": {},
   "source": [
    "### 7. Testen Sie die Ähnlichkeitsanfragen für Ihren eigenen Datensatz"
   ]
  },
  {
   "cell_type": "code",
   "execution_count": null,
   "metadata": {},
   "outputs": [],
   "source": []
  },
  {
   "cell_type": "markdown",
   "metadata": {},
   "source": [
    "# Teil 2\n",
    "## 1. Implementieren oder wrappen Sie eine Python-Funktion (gerne mit Hilfe üblicher Bibliotheken wie sklearn.metrics.precision_recall_curve), die für Ihre vorbereiteten Anfragevektoren und die mit der Kosinus-Ähnlichkeit ermittelten Dokumente die Precision-Recall Plots zeichnet (Interpolation ist nicht nötig)."
   ]
  },
  {
   "cell_type": "code",
   "execution_count": null,
   "metadata": {},
   "outputs": [],
   "source": []
  },
  {
   "cell_type": "code",
   "execution_count": null,
   "metadata": {},
   "outputs": [],
   "source": []
  },
  {
   "cell_type": "markdown",
   "metadata": {},
   "source": [
    "## 2. Wie interpretieren Sie die Retrieval-Ergebnisse und die Plots (für Ihre eigenen Anfragen und mindestens für die Anfrage {'AIR': 2, 'BAG': 2, 'DEPLOYMENT':2, 'ACCIDENT':2} an NHTSA?"
   ]
  },
  {
   "cell_type": "code",
   "execution_count": null,
   "metadata": {
    "scrolled": true
   },
   "outputs": [],
   "source": []
  }
 ],
 "metadata": {
  "kernelspec": {
   "display_name": "Python 3",
   "language": "python",
   "name": "python3"
  },
  "language_info": {
   "codemirror_mode": {
    "name": "ipython",
    "version": 3
   },
   "file_extension": ".py",
   "mimetype": "text/x-python",
   "name": "python",
   "nbconvert_exporter": "python",
   "pygments_lexer": "ipython3",
   "version": "3.7.4"
  }
 },
 "nbformat": 4,
 "nbformat_minor": 4
}
