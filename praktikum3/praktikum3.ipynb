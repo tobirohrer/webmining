{
 "cells": [
  {
   "cell_type": "code",
   "execution_count": 1,
   "metadata": {
    "scrolled": true
   },
   "outputs": [],
   "source": [
    "from hdbcli import dbapi\n",
    "import pandas as pd\n",
    "import seaborn as sns\n",
    "import matplotlib.pyplot as plt\n",
    "import numpy as np"
   ]
  },
  {
   "cell_type": "markdown",
   "metadata": {},
   "source": [
    "# Connection database"
   ]
  },
  {
   "cell_type": "code",
   "execution_count": 2,
   "metadata": {
    "scrolled": true
   },
   "outputs": [
    {
     "data": {
      "text/plain": [
       "True"
      ]
     },
     "execution_count": 2,
     "metadata": {},
     "output_type": "execute_result"
    }
   ],
   "source": [
    "connection = dbapi.connect('34.240.190.174', 39015, 'SYSTEM', 'Glorp2018!')\n",
    "connection.isconnected()"
   ]
  },
  {
   "cell_type": "code",
   "execution_count": 3,
   "metadata": {
    "scrolled": true
   },
   "outputs": [],
   "source": [
    "cursor = connection.cursor()"
   ]
  },
  {
   "cell_type": "markdown",
   "metadata": {},
   "source": [
    "# Teil 1"
   ]
  },
  {
   "cell_type": "markdown",
   "metadata": {},
   "source": [
    "## 1. Ermitteln Sie die häufigsten Folgen von Adjektiv-Nomen Bigrammen im Corpus (Hinweis: wenn Sie mit SQL arbeiten, können Sie einen non-equi auto-join verwenden)"
   ]
  },
  {
   "cell_type": "code",
   "execution_count": 4,
   "metadata": {
    "scrolled": true
   },
   "outputs": [
    {
     "data": {
      "text/html": [
       "<div>\n",
       "<style scoped>\n",
       "    .dataframe tbody tr th:only-of-type {\n",
       "        vertical-align: middle;\n",
       "    }\n",
       "\n",
       "    .dataframe tbody tr th {\n",
       "        vertical-align: top;\n",
       "    }\n",
       "\n",
       "    .dataframe thead th {\n",
       "        text-align: right;\n",
       "    }\n",
       "</style>\n",
       "<table border=\"1\" class=\"dataframe\">\n",
       "  <thead>\n",
       "    <tr style=\"text-align: right;\">\n",
       "      <th></th>\n",
       "      <th>adjective</th>\n",
       "      <th>noun</th>\n",
       "      <th>count</th>\n",
       "    </tr>\n",
       "  </thead>\n",
       "  <tbody>\n",
       "    <tr>\n",
       "      <th>0</th>\n",
       "      <td>REAR</td>\n",
       "      <td>TIRE</td>\n",
       "      <td>4569</td>\n",
       "    </tr>\n",
       "    <tr>\n",
       "      <th>1</th>\n",
       "      <td>STEERING</td>\n",
       "      <td>WHEEL</td>\n",
       "      <td>3154</td>\n",
       "    </tr>\n",
       "    <tr>\n",
       "      <th>2</th>\n",
       "      <td>FRONT</td>\n",
       "      <td>TIRE</td>\n",
       "      <td>2901</td>\n",
       "    </tr>\n",
       "    <tr>\n",
       "      <th>3</th>\n",
       "      <td>APPROXIMATE</td>\n",
       "      <td>FAILURE</td>\n",
       "      <td>2412</td>\n",
       "    </tr>\n",
       "    <tr>\n",
       "      <th>4</th>\n",
       "      <td>SIDE</td>\n",
       "      <td>TIRE</td>\n",
       "      <td>2353</td>\n",
       "    </tr>\n",
       "    <tr>\n",
       "      <th>5</th>\n",
       "      <td>SAME</td>\n",
       "      <td>PROBLEM</td>\n",
       "      <td>2143</td>\n",
       "    </tr>\n",
       "    <tr>\n",
       "      <th>6</th>\n",
       "      <td>ORIGINAL</td>\n",
       "      <td>EQUIPMENT</td>\n",
       "      <td>2121</td>\n",
       "    </tr>\n",
       "    <tr>\n",
       "      <th>7</th>\n",
       "      <td>FRONT</td>\n",
       "      <td>END</td>\n",
       "      <td>1962</td>\n",
       "    </tr>\n",
       "    <tr>\n",
       "      <th>8</th>\n",
       "      <td>SEVERAL</td>\n",
       "      <td>TIMES</td>\n",
       "      <td>1887</td>\n",
       "    </tr>\n",
       "    <tr>\n",
       "      <th>9</th>\n",
       "      <td>NEW</td>\n",
       "      <td>TIRES</td>\n",
       "      <td>1861</td>\n",
       "    </tr>\n",
       "  </tbody>\n",
       "</table>\n",
       "</div>"
      ],
      "text/plain": [
       "     adjective       noun  count\n",
       "0         REAR       TIRE   4569\n",
       "1     STEERING      WHEEL   3154\n",
       "2        FRONT       TIRE   2901\n",
       "3  APPROXIMATE    FAILURE   2412\n",
       "4         SIDE       TIRE   2353\n",
       "5         SAME    PROBLEM   2143\n",
       "6     ORIGINAL  EQUIPMENT   2121\n",
       "7        FRONT        END   1962\n",
       "8      SEVERAL      TIMES   1887\n",
       "9          NEW      TIRES   1861"
      ]
     },
     "execution_count": 4,
     "metadata": {},
     "output_type": "execute_result"
    }
   ],
   "source": [
    "sql = 'select top 10 t1.TA_TOKEN, t2.TA_TOKEN, count(*) from \"SYSTEM\".\"$TA_CDESCRIND\" as t1, \"SYSTEM\".\"$TA_CDESCRIND\" as t2 where t1.cmplid=t2.cmplid and t1.TA_COUNTER=t2.TA_COUNTER-1 and t1.TA_SENTENCE=t2.TA_SENTENCE and t1.TA_TYPE=\\'adjective\\' and t2.TA_TYPE=\\'noun\\' group by t1.TA_TOKEN, t2.TA_TOKEN order by count(*) desc'\n",
    "cursor.execute(sql)\n",
    "adjective_noun = cursor.fetchall()\n",
    "adjective_noun_df = pd.DataFrame(adjective_noun)\n",
    "adjective_noun_df.columns = ['adjective', 'noun', 'count']\n",
    "adjective_noun_df"
   ]
  },
  {
   "cell_type": "markdown",
   "metadata": {},
   "source": [
    "## 2. Ermitteln Sie die häufigsten Co-occurrences von Adjektiven innerhalb eines Satzes (Position egal)."
   ]
  },
  {
   "cell_type": "code",
   "execution_count": 5,
   "metadata": {},
   "outputs": [
    {
     "data": {
      "text/html": [
       "<div>\n",
       "<style scoped>\n",
       "    .dataframe tbody tr th:only-of-type {\n",
       "        vertical-align: middle;\n",
       "    }\n",
       "\n",
       "    .dataframe tbody tr th {\n",
       "        vertical-align: top;\n",
       "    }\n",
       "\n",
       "    .dataframe thead th {\n",
       "        text-align: right;\n",
       "    }\n",
       "</style>\n",
       "<table border=\"1\" class=\"dataframe\">\n",
       "  <thead>\n",
       "    <tr style=\"text-align: right;\">\n",
       "      <th></th>\n",
       "      <th>adjective</th>\n",
       "      <th>adjective 2</th>\n",
       "      <th>count</th>\n",
       "    </tr>\n",
       "  </thead>\n",
       "  <tbody>\n",
       "    <tr>\n",
       "      <th>0</th>\n",
       "      <td>RIGHT</td>\n",
       "      <td>REAR</td>\n",
       "      <td>1858</td>\n",
       "    </tr>\n",
       "    <tr>\n",
       "      <th>1</th>\n",
       "      <td>FRONT</td>\n",
       "      <td>SIDE</td>\n",
       "      <td>1752</td>\n",
       "    </tr>\n",
       "    <tr>\n",
       "      <th>2</th>\n",
       "      <td>REAR</td>\n",
       "      <td>SIDE</td>\n",
       "      <td>1641</td>\n",
       "    </tr>\n",
       "    <tr>\n",
       "      <th>3</th>\n",
       "      <td>LEFT</td>\n",
       "      <td>REAR</td>\n",
       "      <td>1627</td>\n",
       "    </tr>\n",
       "    <tr>\n",
       "      <th>4</th>\n",
       "      <td>RIGHT</td>\n",
       "      <td>FRONT</td>\n",
       "      <td>1496</td>\n",
       "    </tr>\n",
       "    <tr>\n",
       "      <th>5</th>\n",
       "      <td>OTHER</td>\n",
       "      <td>SAME</td>\n",
       "      <td>1440</td>\n",
       "    </tr>\n",
       "    <tr>\n",
       "      <th>6</th>\n",
       "      <td>LEFT</td>\n",
       "      <td>FRONT</td>\n",
       "      <td>1200</td>\n",
       "    </tr>\n",
       "    <tr>\n",
       "      <th>7</th>\n",
       "      <td>FRONT</td>\n",
       "      <td>FRONT</td>\n",
       "      <td>1131</td>\n",
       "    </tr>\n",
       "    <tr>\n",
       "      <th>8</th>\n",
       "      <td>REAR</td>\n",
       "      <td>REAR</td>\n",
       "      <td>1105</td>\n",
       "    </tr>\n",
       "    <tr>\n",
       "      <th>9</th>\n",
       "      <td>SAME</td>\n",
       "      <td>SAME</td>\n",
       "      <td>1053</td>\n",
       "    </tr>\n",
       "  </tbody>\n",
       "</table>\n",
       "</div>"
      ],
      "text/plain": [
       "  adjective adjective 2  count\n",
       "0     RIGHT        REAR   1858\n",
       "1     FRONT        SIDE   1752\n",
       "2      REAR        SIDE   1641\n",
       "3      LEFT        REAR   1627\n",
       "4     RIGHT       FRONT   1496\n",
       "5     OTHER        SAME   1440\n",
       "6      LEFT       FRONT   1200\n",
       "7     FRONT       FRONT   1131\n",
       "8      REAR        REAR   1105\n",
       "9      SAME        SAME   1053"
      ]
     },
     "execution_count": 5,
     "metadata": {},
     "output_type": "execute_result"
    }
   ],
   "source": [
    "sql = 'select top 10 t1.TA_TOKEN as adjective, t2.TA_TOKEN as adjective2, count(*) from \"SYSTEM\".\"$TA_CDESCRIND\" as t1, \"SYSTEM\".\"$TA_CDESCRIND\" as t2 where t1.cmplid=t2.cmplid and t1.TA_COUNTER<t2.TA_COUNTER and t1.TA_SENTENCE=t2.TA_SENTENCE and t1.TA_TYPE=\\'adjective\\' and t2.TA_TYPE=\\'adjective\\' group by t1.TA_TOKEN, t2.TA_TOKEN order by count(*) desc'\n",
    "cursor.execute(sql)\n",
    "adj_adj = cursor.fetchall()\n",
    "adj_adj_df = pd.DataFrame(adj_adj)\n",
    "adj_adj_df.columns = ['adjective', 'adjective 2', 'count']\n",
    "adj_adj_df"
   ]
  },
  {
   "cell_type": "markdown",
   "metadata": {},
   "source": [
    "## 3. Berechnen Sie die top-3 tf-idf (ntn nach der SMART Notation) Werte von Nomen im Corpus. Schauen Sie sich die entsprechenden Dokumente und die jeweiligen tf bzw. idf Wertkomponenten an."
   ]
  },
  {
   "cell_type": "markdown",
   "metadata": {},
   "source": [
    "### tf"
   ]
  },
  {
   "cell_type": "code",
   "execution_count": null,
   "metadata": {},
   "outputs": [],
   "source": [
    "# create SQL-View MAX_FREQ_NOUN\n",
    "sql = 'create view MAX_FREQ_NOUN as select top 1 t1.TA_TOKEN as noun, count(*) as maxfreq from \"SYSTEM\".\"$TA_CDESCRIND\" as t1 where t1.TA_TYPE=\\'noun\\' group by t1.TA_TOKEN order by count(*) desc'\n",
    "cursor.execute(sql)"
   ]
  },
  {
   "cell_type": "code",
   "execution_count": null,
   "metadata": {},
   "outputs": [],
   "source": [
    "# drop SQL-View MAX_FREQ_NOUN\n",
    "sql_drop_view = 'drop view MAX_FREQ_NOUN'\n",
    "cursor.execute(sql_drop_view)"
   ]
  },
  {
   "cell_type": "code",
   "execution_count": 6,
   "metadata": {},
   "outputs": [
    {
     "data": {
      "text/html": [
       "<div>\n",
       "<style scoped>\n",
       "    .dataframe tbody tr th:only-of-type {\n",
       "        vertical-align: middle;\n",
       "    }\n",
       "\n",
       "    .dataframe tbody tr th {\n",
       "        vertical-align: top;\n",
       "    }\n",
       "\n",
       "    .dataframe thead th {\n",
       "        text-align: right;\n",
       "    }\n",
       "</style>\n",
       "<table border=\"1\" class=\"dataframe\">\n",
       "  <thead>\n",
       "    <tr style=\"text-align: right;\">\n",
       "      <th></th>\n",
       "      <th>noun</th>\n",
       "      <th>tf</th>\n",
       "    </tr>\n",
       "  </thead>\n",
       "  <tbody>\n",
       "    <tr>\n",
       "      <th>0</th>\n",
       "      <td>VEHICLE</td>\n",
       "      <td>1</td>\n",
       "    </tr>\n",
       "    <tr>\n",
       "      <th>1</th>\n",
       "      <td>CAR</td>\n",
       "      <td>0.826885</td>\n",
       "    </tr>\n",
       "    <tr>\n",
       "      <th>2</th>\n",
       "      <td>TIRE</td>\n",
       "      <td>0.798524</td>\n",
       "    </tr>\n",
       "  </tbody>\n",
       "</table>\n",
       "</div>"
      ],
      "text/plain": [
       "      noun        tf\n",
       "0  VEHICLE         1\n",
       "1      CAR  0.826885\n",
       "2     TIRE  0.798524"
      ]
     },
     "execution_count": 6,
     "metadata": {},
     "output_type": "execute_result"
    }
   ],
   "source": [
    "# tf\n",
    "sql = 'select top 3 t1.TA_TOKEN, (count(*)/t2.maxfreq) from \"SYSTEM\".\"$TA_CDESCRIND\" as t1, \"SYSTEM\".\"MAX_FREQ_NOUN\" as t2 where t1.TA_TYPE=\\'noun\\' group by t1.TA_TOKEN, t2.maxfreq order by count(*) desc'\n",
    "cursor.execute(sql)\n",
    "tf = cursor.fetchall()\n",
    "tf_df = pd.DataFrame(tf)\n",
    "tf_df.columns = ['noun', 'tf']\n",
    "tf_df"
   ]
  },
  {
   "cell_type": "markdown",
   "metadata": {},
   "source": [
    "### idf"
   ]
  },
  {
   "cell_type": "code",
   "execution_count": null,
   "metadata": {},
   "outputs": [],
   "source": [
    "# create SQL-View MAX_COUNT_NOUNS\n",
    "sql = 'create view MAX_COUNT_NOUNS as select top 3 t1.TA_TOKEN as noun from \"SYSTEM\".\"$TA_CDESCRIND\" as t1 where t1.TA_TYPE=\\'noun\\' group by t1.TA_TOKEN order by count(*) desc'\n",
    "cursor.execute(sql)"
   ]
  },
  {
   "cell_type": "code",
   "execution_count": null,
   "metadata": {},
   "outputs": [],
   "source": [
    "# create SQL-View COUNT_DOCS\n",
    "sql = 'create view COUNT_DOCS as select count(DISTINCT cmplid) as n_total from \"SYSTEM\".\"$TA_CDESCRIND\"'\n",
    "cursor.execute(sql)"
   ]
  },
  {
   "cell_type": "code",
   "execution_count": null,
   "metadata": {},
   "outputs": [],
   "source": [
    "# create SQL-View VALUES_IDF\n",
    "sql = 'create view VALUES_IDF as select t1.TA_TOKEN, count(DISTINCT cmplid) as count_docs_term, t3.n_total from \"SYSTEM\".\"$TA_CDESCRIND\" as t1, MAX_COUNT_NOUNS as t2, COUNT_DOCS as t3 where TA_TOKEN=t2.noun group by t1.TA_TOKEN, t3.n_total'\n",
    "cursor.execute(sql)"
   ]
  },
  {
   "cell_type": "code",
   "execution_count": null,
   "metadata": {},
   "outputs": [],
   "source": [
    "# drop SQL-Views\n",
    "sql_drop_view = 'drop view <view_name>'\n",
    "cursor.execute(sql_drop_view)"
   ]
  },
  {
   "cell_type": "code",
   "execution_count": 7,
   "metadata": {},
   "outputs": [
    {
     "data": {
      "text/html": [
       "<div>\n",
       "<style scoped>\n",
       "    .dataframe tbody tr th:only-of-type {\n",
       "        vertical-align: middle;\n",
       "    }\n",
       "\n",
       "    .dataframe tbody tr th {\n",
       "        vertical-align: top;\n",
       "    }\n",
       "\n",
       "    .dataframe thead th {\n",
       "        text-align: right;\n",
       "    }\n",
       "</style>\n",
       "<table border=\"1\" class=\"dataframe\">\n",
       "  <thead>\n",
       "    <tr style=\"text-align: right;\">\n",
       "      <th></th>\n",
       "      <th>Token</th>\n",
       "      <th>count_docs_term</th>\n",
       "      <th>n_total</th>\n",
       "      <th>idf</th>\n",
       "    </tr>\n",
       "  </thead>\n",
       "  <tbody>\n",
       "    <tr>\n",
       "      <th>0</th>\n",
       "      <td>TIRE</td>\n",
       "      <td>28150</td>\n",
       "      <td>102848</td>\n",
       "      <td>0.562717</td>\n",
       "    </tr>\n",
       "    <tr>\n",
       "      <th>1</th>\n",
       "      <td>VEHICLE</td>\n",
       "      <td>40399</td>\n",
       "      <td>102848</td>\n",
       "      <td>0.405825</td>\n",
       "    </tr>\n",
       "    <tr>\n",
       "      <th>2</th>\n",
       "      <td>CAR</td>\n",
       "      <td>27254</td>\n",
       "      <td>102848</td>\n",
       "      <td>0.576766</td>\n",
       "    </tr>\n",
       "  </tbody>\n",
       "</table>\n",
       "</div>"
      ],
      "text/plain": [
       "     Token  count_docs_term  n_total       idf\n",
       "0     TIRE            28150   102848  0.562717\n",
       "1  VEHICLE            40399   102848  0.405825\n",
       "2      CAR            27254   102848  0.576766"
      ]
     },
     "execution_count": 7,
     "metadata": {},
     "output_type": "execute_result"
    }
   ],
   "source": [
    "# idf\n",
    "sql = 'select TA_TOKEN, count_docs_term, n_total, LOG(10,(n_total/count_docs_term)) as idf from VALUES_IDF'\n",
    "cursor.execute(sql)\n",
    "idf = cursor.fetchall()\n",
    "idf_df = pd.DataFrame(idf)\n",
    "idf_df.columns = ['Token', 'count_docs_term', 'n_total', 'idf']\n",
    "idf_df"
   ]
  },
  {
   "cell_type": "markdown",
   "metadata": {},
   "source": [
    "## 4. Berücksichtigen Sie nur Adjektiv-Nomen Bigramme in Dokumenten mit der ID<1000000. Ermitteln Sie anhand des Chi2 Tests die 3 statistisch signifikantesten und die 3 am wenigsten signifikant zusammenhängenden Bigramme mit w1=* (beliebig) und w2=Tire."
   ]
  },
  {
   "cell_type": "code",
   "execution_count": null,
   "metadata": {},
   "outputs": [],
   "source": [
    "# create view\n",
    "# all adjective-noun bigrams with ID < 1000000 and w1=* and w2=Tire\n",
    "sql = 'create view adjective_noun_bigram as select t1.TA_TOKEN as adjective, t2.TA_TOKEN as noun, count(*) as  w1_and_w2 from \"SYSTEM\".\"$TA_CDESCRIND\" as t1, \"SYSTEM\".\"$TA_CDESCRIND\" as t2 where t1.cmplid=t2.cmplid and t1.TA_COUNTER=t2.TA_COUNTER-1 and t1.TA_SENTENCE=t2.TA_SENTENCE and t1.TA_TYPE=\\'adjective\\' and t2.TA_TYPE=\\'noun\\' and t1.cmplid<1000000 and t2.TA_TOKEN=\\'TIRE\\' group by t1.TA_TOKEN, t2.TA_TOKEN order by count(*) desc'\n",
    "cursor.execute(sql)"
   ]
  },
  {
   "cell_type": "code",
   "execution_count": null,
   "metadata": {},
   "outputs": [],
   "source": [
    "# create view\n",
    "# all adjective-noun bigrams with ID < 1000000 and w1=* and w2=not_Tire\n",
    "sql = 'create view adjective_noun_bigram_not_tire as select t1.TA_TOKEN as adjective, t2.TA_TOKEN as noun, count(*) as  w1_and_not_w2 from \"SYSTEM\".\"$TA_CDESCRIND\" as t1, \"SYSTEM\".\"$TA_CDESCRIND\" as t2 where t1.cmplid=t2.cmplid and t1.TA_COUNTER=t2.TA_COUNTER-1 and t1.TA_SENTENCE=t2.TA_SENTENCE and t1.TA_TYPE=\\'adjective\\' and t2.TA_TYPE=\\'noun\\' and t1.cmplid<1000000 and t2.TA_TOKEN!=\\'TIRE\\' group by t1.TA_TOKEN, t2.TA_TOKEN order by count(*) desc'\n",
    "cursor.execute(sql)"
   ]
  },
  {
   "cell_type": "code",
   "execution_count": null,
   "metadata": {},
   "outputs": [],
   "source": [
    "# drop SQL-Views\n",
    "sql_drop_view = 'drop view <view_name>'\n",
    "cursor.execute(sql_drop_view)"
   ]
  },
  {
   "cell_type": "code",
   "execution_count": 8,
   "metadata": {
    "scrolled": true
   },
   "outputs": [],
   "source": [
    "cursor.execute(\"\"\"\n",
    "select adjective, noun, o11, o12, o21, o22 from \n",
    "(\n",
    "select t1.adjective, t1.noun, w1_and_w2 as o11, (sum_w1_and_w2-SUM(w1_and_w2)) as o12, t3.sum_w1_and_not_w2 as o21, (sum_NOT_w2 - t3.sum_w1_and_not_w2) as o22 from \n",
    "\"SYSTEM\".\"ADJECTIVE_NOUN_BIGRAM\" as t1, \n",
    "(select SUM(w1_and_w2) as sum_w1_and_w2 from \"SYSTEM\".\"ADJECTIVE_NOUN_BIGRAM\") as t2,\n",
    "(select adjective, SUM(w1_and_not_w2) as sum_w1_and_not_w2 from \"SYSTEM\".\"ADJECTIVE_NOUN_BIGRAM_NOT_TIRE\" group by adjective) as t3,\n",
    "(select SUM(w1_and_not_w2) as sum_NOT_w2 from \"SYSTEM\".\"ADJECTIVE_NOUN_BIGRAM_NOT_TIRE\" order by sum_NOT_w2 desc) as t4 where t3.adjective=t1.adjective group by t1.adjective, t1.noun, w1_and_w2, t2.sum_w1_and_w2, t3.sum_w1_and_not_w2, t4.sum_NOT_w2\n",
    ")\n",
    "\"\"\");\n",
    "data = cursor.fetchall();"
   ]
  },
  {
   "cell_type": "code",
   "execution_count": 9,
   "metadata": {},
   "outputs": [
    {
     "data": {
      "text/html": [
       "<div>\n",
       "<style scoped>\n",
       "    .dataframe tbody tr th:only-of-type {\n",
       "        vertical-align: middle;\n",
       "    }\n",
       "\n",
       "    .dataframe tbody tr th {\n",
       "        vertical-align: top;\n",
       "    }\n",
       "\n",
       "    .dataframe thead tr th {\n",
       "        text-align: left;\n",
       "    }\n",
       "</style>\n",
       "<table border=\"1\" class=\"dataframe\">\n",
       "  <thead>\n",
       "    <tr>\n",
       "      <th></th>\n",
       "      <th>adjective</th>\n",
       "      <th>noun</th>\n",
       "      <th>o11</th>\n",
       "      <th>o12</th>\n",
       "      <th>o21</th>\n",
       "      <th>o22</th>\n",
       "      <th>chi_square</th>\n",
       "    </tr>\n",
       "  </thead>\n",
       "  <tbody>\n",
       "    <tr>\n",
       "      <th>0</th>\n",
       "      <td>REAR</td>\n",
       "      <td>TIRE</td>\n",
       "      <td>4206</td>\n",
       "      <td>13796</td>\n",
       "      <td>5806</td>\n",
       "      <td>143638</td>\n",
       "      <td>6660.536074</td>\n",
       "    </tr>\n",
       "    <tr>\n",
       "      <th>1</th>\n",
       "      <td>SPARE</td>\n",
       "      <td>TIRE</td>\n",
       "      <td>828</td>\n",
       "      <td>17174</td>\n",
       "      <td>63</td>\n",
       "      <td>149381</td>\n",
       "      <td>3872.408630</td>\n",
       "    </tr>\n",
       "    <tr>\n",
       "      <th>2</th>\n",
       "      <td>SIDE</td>\n",
       "      <td>TIRE</td>\n",
       "      <td>1673</td>\n",
       "      <td>16329</td>\n",
       "      <td>2049</td>\n",
       "      <td>147395</td>\n",
       "      <td>2849.785685</td>\n",
       "    </tr>\n",
       "    <tr>\n",
       "      <th>3</th>\n",
       "      <td>FRONT</td>\n",
       "      <td>TIRE</td>\n",
       "      <td>2590</td>\n",
       "      <td>15412</td>\n",
       "      <td>6153</td>\n",
       "      <td>143291</td>\n",
       "      <td>2103.259287</td>\n",
       "    </tr>\n",
       "    <tr>\n",
       "      <th>4</th>\n",
       "      <td>FLAT</td>\n",
       "      <td>TIRE</td>\n",
       "      <td>480</td>\n",
       "      <td>17522</td>\n",
       "      <td>569</td>\n",
       "      <td>148875</td>\n",
       "      <td>828.103007</td>\n",
       "    </tr>\n",
       "    <tr>\n",
       "      <th>...</th>\n",
       "      <td>...</td>\n",
       "      <td>...</td>\n",
       "      <td>...</td>\n",
       "      <td>...</td>\n",
       "      <td>...</td>\n",
       "      <td>...</td>\n",
       "      <td>...</td>\n",
       "    </tr>\n",
       "    <tr>\n",
       "      <th>523</th>\n",
       "      <td>READ</td>\n",
       "      <td>TIRE</td>\n",
       "      <td>1</td>\n",
       "      <td>18001</td>\n",
       "      <td>8</td>\n",
       "      <td>149436</td>\n",
       "      <td>0.000747</td>\n",
       "    </tr>\n",
       "    <tr>\n",
       "      <th>524</th>\n",
       "      <td>TOXIC</td>\n",
       "      <td>TIRE</td>\n",
       "      <td>1</td>\n",
       "      <td>18001</td>\n",
       "      <td>8</td>\n",
       "      <td>149436</td>\n",
       "      <td>0.000747</td>\n",
       "    </tr>\n",
       "    <tr>\n",
       "      <th>525</th>\n",
       "      <td>TWIN</td>\n",
       "      <td>TIRE</td>\n",
       "      <td>2</td>\n",
       "      <td>18000</td>\n",
       "      <td>17</td>\n",
       "      <td>149427</td>\n",
       "      <td>0.000614</td>\n",
       "    </tr>\n",
       "    <tr>\n",
       "      <th>526</th>\n",
       "      <td>BROUGHT</td>\n",
       "      <td>TIRE</td>\n",
       "      <td>5</td>\n",
       "      <td>17997</td>\n",
       "      <td>41</td>\n",
       "      <td>149403</td>\n",
       "      <td>0.000415</td>\n",
       "    </tr>\n",
       "    <tr>\n",
       "      <th>527</th>\n",
       "      <td>TANDEM</td>\n",
       "      <td>TIRE</td>\n",
       "      <td>3</td>\n",
       "      <td>17999</td>\n",
       "      <td>25</td>\n",
       "      <td>149419</td>\n",
       "      <td>0.000024</td>\n",
       "    </tr>\n",
       "  </tbody>\n",
       "</table>\n",
       "<p>528 rows × 7 columns</p>\n",
       "</div>"
      ],
      "text/plain": [
       "    adjective  noun   o11    o12   o21     o22   chi_square\n",
       "0        REAR  TIRE  4206  13796  5806  143638  6660.536074\n",
       "1       SPARE  TIRE   828  17174    63  149381  3872.408630\n",
       "2        SIDE  TIRE  1673  16329  2049  147395  2849.785685\n",
       "3       FRONT  TIRE  2590  15412  6153  143291  2103.259287\n",
       "4        FLAT  TIRE   480  17522   569  148875   828.103007\n",
       "..        ...   ...   ...    ...   ...     ...          ...\n",
       "523      READ  TIRE     1  18001     8  149436     0.000747\n",
       "524     TOXIC  TIRE     1  18001     8  149436     0.000747\n",
       "525      TWIN  TIRE     2  18000    17  149427     0.000614\n",
       "526   BROUGHT  TIRE     5  17997    41  149403     0.000415\n",
       "527    TANDEM  TIRE     3  17999    25  149419     0.000024\n",
       "\n",
       "[528 rows x 7 columns]"
      ]
     },
     "execution_count": 9,
     "metadata": {},
     "output_type": "execute_result"
    }
   ],
   "source": [
    "values_list = []\n",
    "header = [\"adjective\", \"noun\", \"o11\", \"o12\", \"o21\", \"o22\", \"chi_square\"];\n",
    "for item in data:\n",
    "    o11=item[2]\n",
    "    o12=item[3]\n",
    "    o21= item[4]\n",
    "    o22=item[5]\n",
    "    chi_square = ((102848 * (o11 * o22 - o12 * o21)**2) / ((o11 + o12) * (o11 + o21) * (o12 + o22) * (o21 + o22)))\n",
    "    values_list.append((item[0], item[1], item[2], item[3], item[4], item[5], chi_square))\n",
    "\n",
    "values_list.sort(key=lambda x: x[6], reverse=True);\n",
    "df = pd.DataFrame(values_list)\n",
    "df.columns = [header]\n",
    "df"
   ]
  },
  {
   "cell_type": "markdown",
   "metadata": {},
   "source": [
    "## 5. Implementieren Sie eine Ähnlichkeitsanfrage, die für einen gegebenen Anfragevektor (egal ob existierendes Dokument oder eigene Suchanfrage) die gerankten top n Dokumente anhand der Wortvektoren (nur Nomen ohne IDF-Gewichtung!) zurückgibt mit Hilfe von \n",
    "## a. Skalarprodukt (nnn nach SMART Notation)\n"
   ]
  },
  {
   "cell_type": "code",
   "execution_count": 10,
   "metadata": {
    "scrolled": true
   },
   "outputs": [],
   "source": [
    "def scalar_product(id):\n",
    "    sql = 'SELECT CMPLID, sum(PROD) AS SCALARPRODUCT FROM (SELECT a.CMPLID, a.WORD, a.TERM * b.CountReq AS PROD FROM TERMS_NHTSA AS a, (SELECT TA_TOKEN, count(*) AS CountReq FROM \"SYSTEM\".\"$TA_CDESCRIND\" WHERE CMPLID = '+id+' GROUP BY TA_TOKEN) AS b WHERE a.WORD = b.TA_TOKEN) GROUP BY CMPLID ORDER BY SCALARPRODUCT desc LIMIT 10;'\n",
    "    cursor.execute(sql)\n",
    "    idf = cursor.fetchall()\n",
    "    idf_df = pd.DataFrame(idf)\n",
    "    print(idf_df)"
   ]
  },
  {
   "cell_type": "code",
   "execution_count": null,
   "metadata": {},
   "outputs": [],
   "source": [
    "# create view TERMS_NHTSA\n",
    "sql = 'create view TERMS_NHTSA as SELECT CMPLID, TA_TOKEN AS WORD, count(*) AS TERM, POWER(count(*),2) AS TERMSQR FROM \"SYSTEM\".\"$TA_CDESCRIND\" WHERE TA_TYPE=\\'noun\\' GROUP BY CMPLID, TA_TOKEN'\n",
    "cursor.execute(sql)"
   ]
  },
  {
   "cell_type": "code",
   "execution_count": null,
   "metadata": {},
   "outputs": [],
   "source": [
    "# drop SQL-View\n",
    "sql_drop_view = 'drop view TERMS_NHTSA'\n",
    "cursor.execute(sql_drop_view)"
   ]
  },
  {
   "cell_type": "markdown",
   "metadata": {},
   "source": [
    "## b. Kosinus Ähnlichkeit (nnc nach SMART Notation)"
   ]
  },
  {
   "cell_type": "code",
   "execution_count": 11,
   "metadata": {
    "scrolled": true
   },
   "outputs": [],
   "source": [
    "def cosinus(id):\n",
    "    sql = 'SELECT CMPLID, SCALARPRODUCT / (Cos * (SELECT SQRT(sum(coutsqr)) FROM (SELECT TA_TOKEN, POWER(count(*),2) AS coutsqr FROM \"SYSTEM\".\"$TA_CDESCRIND\" WHERE CMPLID = '+id+' AND TA_TYPE = \\'noun\\' GROUP BY TA_TOKEN))) AS COSINUS FROM COS_NHTSA ORDER BY COSINUS DESC LIMIT 10'\n",
    "    cursor.execute(sql)\n",
    "    idf = cursor.fetchall()\n",
    "    idf_df = pd.DataFrame(idf)\n",
    "    print(idf_df)"
   ]
  },
  {
   "cell_type": "code",
   "execution_count": null,
   "metadata": {},
   "outputs": [],
   "source": [
    "# create view COS_NHTSA\n",
    "sql = 'create view COS_NHTSA as SELECT x.CMPLID AS CMPLID, x.SCALARPRODUCT AS SCALARPRODUCT, y.Cos AS Cos From (SELECT CMPLID, sum(PROD) AS SCALARPRODUCT FROM (SELECT a.CMPLID, a.WORD, a.TERM * b.CountReq AS PROD FROM TERMS_NHTSA AS a, (SELECT TA_TOKEN, count(*) AS CountReq FROM \"SYSTEM\".\"$TA_CDESCRIND\" WHERE CMPLID = 119408 GROUP BY TA_TOKEN) AS b WHERE a.WORD = b.TA_TOKEN) GROUP BY CMPLID) AS x, (SELECT CMPLID, SQRT(SUM(TERMSQR)) AS Cos FROM TERMS_NHTSA GROUP BY CMPLID) AS y WHERE x.CMPLID = y.CMPLID'\n",
    "cursor.execute(sql)"
   ]
  },
  {
   "cell_type": "code",
   "execution_count": null,
   "metadata": {},
   "outputs": [],
   "source": [
    "# drop SQL-View\n",
    "sql_drop_view = 'drop view COS_NHTSA'\n",
    "cursor.execute(sql_drop_view)"
   ]
  },
  {
   "cell_type": "markdown",
   "metadata": {},
   "source": [
    "## 6. Welches sind die jeweils ähnlichsten Dokumente für Complaint 119408? Wie unterscheiden sich die Ergebnisse grundsätzlich?"
   ]
  },
  {
   "cell_type": "code",
   "execution_count": 12,
   "metadata": {
    "scrolled": true
   },
   "outputs": [
    {
     "name": "stdout",
     "output_type": "stream",
     "text": [
      "         0   1\n",
      "0  1279795  37\n",
      "1   765755  31\n",
      "2   431818  28\n",
      "3  1219041  27\n",
      "4  1266333  26\n",
      "5  1362301  26\n",
      "6  1282926  26\n",
      "7  1453481  25\n",
      "8  1305599  25\n",
      "9  1245452  24\n"
     ]
    }
   ],
   "source": [
    "scalar_product('119408');"
   ]
  },
  {
   "cell_type": "code",
   "execution_count": 13,
   "metadata": {},
   "outputs": [
    {
     "name": "stdout",
     "output_type": "stream",
     "text": [
      "         0                                     1\n",
      "0   119408                                     1\n",
      "1   119409                                     1\n",
      "2  1456180  0.8819171036881968635005385845464203\n",
      "3  1426915  0.8728715609439695250643899416624782\n",
      "4   442989  0.8641585652180931092236424027892403\n",
      "5  1282926  0.8081708338082719302178786999304682\n",
      "6  1209040   0.778289642116024569758635772967109\n",
      "7  1283670  0.7647191129018725530240319269929149\n",
      "8  1362301  0.7630574521488739735565932174873452\n",
      "9   406176  0.7570332986102251781009008187750827\n"
     ]
    }
   ],
   "source": [
    "cosinus('119408');"
   ]
  },
  {
   "cell_type": "markdown",
   "metadata": {},
   "source": [
    "## 7.  Aufgaben 1-6 auf den eigenen Datensatz (T3N-Daten)"
   ]
  },
  {
   "cell_type": "markdown",
   "metadata": {},
   "source": [
    "### 1. Ermitteln Sie die häufigsten Folgen von Adjektiv-Nomen Bigrammen im Corpus (Hinweis: wenn Sie mit SQL arbeiten, können Sie einen non-equi auto-join verwenden)"
   ]
  },
  {
   "cell_type": "code",
   "execution_count": 14,
   "metadata": {},
   "outputs": [
    {
     "data": {
      "text/html": [
       "<div>\n",
       "<style scoped>\n",
       "    .dataframe tbody tr th:only-of-type {\n",
       "        vertical-align: middle;\n",
       "    }\n",
       "\n",
       "    .dataframe tbody tr th {\n",
       "        vertical-align: top;\n",
       "    }\n",
       "\n",
       "    .dataframe thead th {\n",
       "        text-align: right;\n",
       "    }\n",
       "</style>\n",
       "<table border=\"1\" class=\"dataframe\">\n",
       "  <thead>\n",
       "    <tr style=\"text-align: right;\">\n",
       "      <th></th>\n",
       "      <th>adjective</th>\n",
       "      <th>noun</th>\n",
       "      <th>count</th>\n",
       "    </tr>\n",
       "  </thead>\n",
       "  <tbody>\n",
       "    <tr>\n",
       "      <th>0</th>\n",
       "      <td>vergangenen</td>\n",
       "      <td>Jahr</td>\n",
       "      <td>49</td>\n",
       "    </tr>\n",
       "    <tr>\n",
       "      <th>1</th>\n",
       "      <td>erster</td>\n",
       "      <td>Linie</td>\n",
       "      <td>48</td>\n",
       "    </tr>\n",
       "    <tr>\n",
       "      <th>2</th>\n",
       "      <td>ersten</td>\n",
       "      <td>Blick</td>\n",
       "      <td>39</td>\n",
       "    </tr>\n",
       "    <tr>\n",
       "      <th>3</th>\n",
       "      <td>Sublime</td>\n",
       "      <td>Text</td>\n",
       "      <td>34</td>\n",
       "    </tr>\n",
       "    <tr>\n",
       "      <th>4</th>\n",
       "      <td>letzten</td>\n",
       "      <td>Jahr</td>\n",
       "      <td>33</td>\n",
       "    </tr>\n",
       "    <tr>\n",
       "      <th>5</th>\n",
       "      <td>eigenen</td>\n",
       "      <td>Angaben</td>\n",
       "      <td>30</td>\n",
       "    </tr>\n",
       "    <tr>\n",
       "      <th>6</th>\n",
       "      <td>Virtual</td>\n",
       "      <td>Reality</td>\n",
       "      <td>29</td>\n",
       "    </tr>\n",
       "    <tr>\n",
       "      <th>7</th>\n",
       "      <td>vergangenen</td>\n",
       "      <td>Jahren</td>\n",
       "      <td>27</td>\n",
       "    </tr>\n",
       "    <tr>\n",
       "      <th>8</th>\n",
       "      <td>letzten</td>\n",
       "      <td>Jahren</td>\n",
       "      <td>26</td>\n",
       "    </tr>\n",
       "    <tr>\n",
       "      <th>9</th>\n",
       "      <td>neuen</td>\n",
       "      <td>Modelle</td>\n",
       "      <td>25</td>\n",
       "    </tr>\n",
       "  </tbody>\n",
       "</table>\n",
       "</div>"
      ],
      "text/plain": [
       "     adjective     noun  count\n",
       "0  vergangenen     Jahr     49\n",
       "1       erster    Linie     48\n",
       "2       ersten    Blick     39\n",
       "3      Sublime     Text     34\n",
       "4      letzten     Jahr     33\n",
       "5      eigenen  Angaben     30\n",
       "6      Virtual  Reality     29\n",
       "7  vergangenen   Jahren     27\n",
       "8      letzten   Jahren     26\n",
       "9        neuen  Modelle     25"
      ]
     },
     "execution_count": 14,
     "metadata": {},
     "output_type": "execute_result"
    }
   ],
   "source": [
    "sql = 'select top 10 t1.TA_TOKEN, t2.TA_TOKEN, count(*) from \"SYSTEM\".\"$TA_T3NTEXTIND\" as t1, \"SYSTEM\".\"$TA_T3NTEXTIND\" as t2 where t1.ID=t2.ID and t1.TA_COUNTER=t2.TA_COUNTER-1 and t1.TA_SENTENCE=t2.TA_SENTENCE and t1.TA_TYPE=\\'adjective\\' and t2.TA_TYPE=\\'noun\\' group by t1.TA_TOKEN, t2.TA_TOKEN order by count(*) desc'\n",
    "cursor.execute(sql)\n",
    "adjective_noun = cursor.fetchall()\n",
    "adjective_noun_df = pd.DataFrame(adjective_noun)\n",
    "adjective_noun_df.columns = ['adjective', 'noun', 'count']\n",
    "adjective_noun_df"
   ]
  },
  {
   "cell_type": "markdown",
   "metadata": {},
   "source": [
    "### 2. Ermitteln Sie die häufigsten Co-occurrences von Adjektiven innerhalb eines Satzes (Position egal)."
   ]
  },
  {
   "cell_type": "code",
   "execution_count": 15,
   "metadata": {},
   "outputs": [
    {
     "data": {
      "text/html": [
       "<div>\n",
       "<style scoped>\n",
       "    .dataframe tbody tr th:only-of-type {\n",
       "        vertical-align: middle;\n",
       "    }\n",
       "\n",
       "    .dataframe tbody tr th {\n",
       "        vertical-align: top;\n",
       "    }\n",
       "\n",
       "    .dataframe thead th {\n",
       "        text-align: right;\n",
       "    }\n",
       "</style>\n",
       "<table border=\"1\" class=\"dataframe\">\n",
       "  <thead>\n",
       "    <tr style=\"text-align: right;\">\n",
       "      <th></th>\n",
       "      <th>adjective</th>\n",
       "      <th>adjective 2</th>\n",
       "      <th>count</th>\n",
       "    </tr>\n",
       "  </thead>\n",
       "  <tbody>\n",
       "    <tr>\n",
       "      <th>0</th>\n",
       "      <td>neue</td>\n",
       "      <td>neuen</td>\n",
       "      <td>39</td>\n",
       "    </tr>\n",
       "    <tr>\n",
       "      <th>1</th>\n",
       "      <td>neuen</td>\n",
       "      <td>neuen</td>\n",
       "      <td>38</td>\n",
       "    </tr>\n",
       "    <tr>\n",
       "      <th>2</th>\n",
       "      <td>neuen</td>\n",
       "      <td>neue</td>\n",
       "      <td>23</td>\n",
       "    </tr>\n",
       "    <tr>\n",
       "      <th>3</th>\n",
       "      <td>neue</td>\n",
       "      <td>neue</td>\n",
       "      <td>23</td>\n",
       "    </tr>\n",
       "    <tr>\n",
       "      <th>4</th>\n",
       "      <td>neue</td>\n",
       "      <td>ersten</td>\n",
       "      <td>16</td>\n",
       "    </tr>\n",
       "    <tr>\n",
       "      <th>5</th>\n",
       "      <td>ersten</td>\n",
       "      <td>ersten</td>\n",
       "      <td>15</td>\n",
       "    </tr>\n",
       "    <tr>\n",
       "      <th>6</th>\n",
       "      <td>eigenen</td>\n",
       "      <td>eigenen</td>\n",
       "      <td>14</td>\n",
       "    </tr>\n",
       "    <tr>\n",
       "      <th>7</th>\n",
       "      <td>ersten</td>\n",
       "      <td>neuen</td>\n",
       "      <td>14</td>\n",
       "    </tr>\n",
       "    <tr>\n",
       "      <th>8</th>\n",
       "      <td>weitere</td>\n",
       "      <td>neue</td>\n",
       "      <td>13</td>\n",
       "    </tr>\n",
       "    <tr>\n",
       "      <th>9</th>\n",
       "      <td>ersten</td>\n",
       "      <td>neue</td>\n",
       "      <td>12</td>\n",
       "    </tr>\n",
       "  </tbody>\n",
       "</table>\n",
       "</div>"
      ],
      "text/plain": [
       "  adjective adjective 2  count\n",
       "0      neue       neuen     39\n",
       "1     neuen       neuen     38\n",
       "2     neuen        neue     23\n",
       "3      neue        neue     23\n",
       "4      neue      ersten     16\n",
       "5    ersten      ersten     15\n",
       "6   eigenen     eigenen     14\n",
       "7    ersten       neuen     14\n",
       "8   weitere        neue     13\n",
       "9    ersten        neue     12"
      ]
     },
     "execution_count": 15,
     "metadata": {},
     "output_type": "execute_result"
    }
   ],
   "source": [
    "sql = 'select top 10 t1.TA_TOKEN as adjective, t2.TA_TOKEN as adjective2, count(*) from \"SYSTEM\".\"$TA_T3NTEXTIND\" as t1, \"SYSTEM\".\"$TA_T3NTEXTIND\" as t2 where t1.ID=t2.ID and t1.TA_COUNTER<t2.TA_COUNTER and t1.TA_SENTENCE=t2.TA_SENTENCE and t1.TA_TYPE=\\'adjective\\' and t2.TA_TYPE=\\'adjective\\' group by t1.TA_TOKEN, t2.TA_TOKEN order by count(*) desc'\n",
    "cursor.execute(sql)\n",
    "adj_adj = cursor.fetchall()\n",
    "adj_adj_df = pd.DataFrame(adj_adj)\n",
    "adj_adj_df.columns = ['adjective', 'adjective 2', 'count']\n",
    "adj_adj_df"
   ]
  },
  {
   "cell_type": "markdown",
   "metadata": {},
   "source": [
    "#### Without SQL"
   ]
  },
  {
   "cell_type": "code",
   "execution_count": null,
   "metadata": {},
   "outputs": [],
   "source": [
    "t3n_df = pd.read_csv('../praktikum2/t3n_data_cleaned.csv')\n",
    "t3n_df"
   ]
  },
  {
   "cell_type": "code",
   "execution_count": null,
   "metadata": {},
   "outputs": [],
   "source": [
    "t3n_adjectives = t3n_df[t3n_df['TA_TYPE']=='adjective']"
   ]
  },
  {
   "cell_type": "code",
   "execution_count": null,
   "metadata": {},
   "outputs": [],
   "source": [
    "grouped_coocurrencies = t3n_adjectives.groupby(['ID','TA_SENTENCE'])['TA_TOKEN_LOW']"
   ]
  },
  {
   "cell_type": "code",
   "execution_count": null,
   "metadata": {},
   "outputs": [],
   "source": [
    "coocurrencies = {}\n",
    "\n",
    "#generate \"matrix\" with coocurrencies. we count the coocurrencies of each adverb per sentence. \n",
    "for name, group in grouped_coocurrencies:\n",
    "    for index_i, token_i in group.iteritems():\n",
    "        type(token_i)\n",
    "        if token_i not in coocurrencies:\n",
    "            coocurrencies[token_i] = {}\n",
    "            \n",
    "        for index_j, token_j in group.iteritems():\n",
    "            if token_j not in coocurrencies[token_i]:\n",
    "                coocurrencies[token_i][token_j] = 0\n",
    "            else:\n",
    "                coocurrencies[token_i][token_j]+=1 "
   ]
  },
  {
   "cell_type": "code",
   "execution_count": null,
   "metadata": {},
   "outputs": [],
   "source": [
    "ordered_coocurrencies = {}\n",
    "\n",
    "for coocurrency in coocurrencies:\n",
    "    coocurrencies_for_this_token = coocurrencies[coocurrency]\n",
    "    for coocurrency_for_this_token in coocurrencies_for_this_token:\n",
    "        if(coocurrency != coocurrency_for_this_token):\n",
    "            ordered_coocurrencies[coocurrency + '-' + coocurrency_for_this_token] = coocurrencies_for_this_token[coocurrency_for_this_token] \n",
    "            \n",
    "ordered_coocurrencies = {k: v for k, v in sorted(ordered_coocurrencies.items(), key=lambda item: item[1],reverse=True)}        \n",
    "    "
   ]
  },
  {
   "cell_type": "code",
   "execution_count": null,
   "metadata": {},
   "outputs": [],
   "source": [
    "def drop_dublicates(ordered_coocurrencies):\n",
    "    for occurency in ordered_coocurrencies.copy():\n",
    "        split_occurency = occurency.split('-')\n",
    "        dublicate_occurency = split_occurency[1] + '-' + split_occurency[0]\n",
    "        if dublicate_occurency in ordered_coocurrencies and occurency in ordered_coocurrencies:\n",
    "            ordered_coocurrencies.pop(dublicate_occurency)\n",
    "    return ordered_coocurrencies"
   ]
  },
  {
   "cell_type": "code",
   "execution_count": null,
   "metadata": {},
   "outputs": [],
   "source": [
    "drop_dublicates(ordered_coocurrencies)"
   ]
  },
  {
   "cell_type": "markdown",
   "metadata": {},
   "source": [
    "### 3. Berechnen Sie die top-3 tf-idf (ntn nach der SMART Notation) Werte von Nomen im Corpus. Schauen Sie sich die entsprechenden Dokumente und die jeweiligen tf bzw. idf Wertkomponenten an."
   ]
  },
  {
   "cell_type": "markdown",
   "metadata": {},
   "source": [
    "### tf"
   ]
  },
  {
   "cell_type": "code",
   "execution_count": null,
   "metadata": {},
   "outputs": [],
   "source": [
    "# create SQL-View MAX_FREQ_NOUN_T3N\n",
    "sql = 'create view MAX_FREQ_NOUN_T3N as select top 1 t1.TA_TOKEN as noun, count(*) as maxfreq from \"SYSTEM\".\"$TA_T3NTEXTIND\" as t1 where t1.TA_TYPE=\\'noun\\' group by t1.TA_TOKEN order by count(*) desc'\n",
    "cursor.execute(sql)"
   ]
  },
  {
   "cell_type": "code",
   "execution_count": null,
   "metadata": {},
   "outputs": [],
   "source": [
    "# drop SQL-View MAX_FREQ_NOUN_T3N\n",
    "sql_drop_view = 'drop view MAX_FREQ_NOUN_T3N'\n",
    "cursor.execute(sql_drop_view)"
   ]
  },
  {
   "cell_type": "code",
   "execution_count": 16,
   "metadata": {},
   "outputs": [
    {
     "data": {
      "text/html": [
       "<div>\n",
       "<style scoped>\n",
       "    .dataframe tbody tr th:only-of-type {\n",
       "        vertical-align: middle;\n",
       "    }\n",
       "\n",
       "    .dataframe tbody tr th {\n",
       "        vertical-align: top;\n",
       "    }\n",
       "\n",
       "    .dataframe thead th {\n",
       "        text-align: right;\n",
       "    }\n",
       "</style>\n",
       "<table border=\"1\" class=\"dataframe\">\n",
       "  <thead>\n",
       "    <tr style=\"text-align: right;\">\n",
       "      <th></th>\n",
       "      <th>noun</th>\n",
       "      <th>tf</th>\n",
       "    </tr>\n",
       "  </thead>\n",
       "  <tbody>\n",
       "    <tr>\n",
       "      <th>0</th>\n",
       "      <td>Google</td>\n",
       "      <td>1</td>\n",
       "    </tr>\n",
       "    <tr>\n",
       "      <th>1</th>\n",
       "      <td>Apple</td>\n",
       "      <td>0.87931</td>\n",
       "    </tr>\n",
       "    <tr>\n",
       "      <th>2</th>\n",
       "      <td>Unternehmen</td>\n",
       "      <td>0.634482</td>\n",
       "    </tr>\n",
       "  </tbody>\n",
       "</table>\n",
       "</div>"
      ],
      "text/plain": [
       "          noun        tf\n",
       "0       Google         1\n",
       "1        Apple   0.87931\n",
       "2  Unternehmen  0.634482"
      ]
     },
     "execution_count": 16,
     "metadata": {},
     "output_type": "execute_result"
    }
   ],
   "source": [
    "# tf\n",
    "sql = 'select top 3 t1.TA_TOKEN, (count(*)/t2.maxfreq) from \"SYSTEM\".\"$TA_T3NTEXTIND\" as t1, \"SYSTEM\".\"MAX_FREQ_NOUN_T3N\" as t2 where t1.TA_TYPE=\\'noun\\' group by t1.TA_TOKEN, t2.maxfreq order by count(*) desc'\n",
    "cursor.execute(sql)\n",
    "tf = cursor.fetchall()\n",
    "tf_df = pd.DataFrame(tf)\n",
    "tf_df.columns = ['noun', 'tf']\n",
    "tf_df"
   ]
  },
  {
   "cell_type": "markdown",
   "metadata": {},
   "source": [
    "### idf"
   ]
  },
  {
   "cell_type": "code",
   "execution_count": null,
   "metadata": {},
   "outputs": [],
   "source": [
    "# create SQL-View MAX_COUNT_NOUNS_T3N\n",
    "sql = 'create view MAX_COUNT_NOUNS_T3N as select top 3 t1.TA_TOKEN as noun from \"SYSTEM\".\"$TA_T3NTEXTIND\" as t1 where t1.TA_TYPE=\\'noun\\' group by t1.TA_TOKEN order by count(*) desc'\n",
    "cursor.execute(sql)"
   ]
  },
  {
   "cell_type": "code",
   "execution_count": null,
   "metadata": {},
   "outputs": [],
   "source": [
    "# create SQL-View COUNT_DOCS_T3N\n",
    "sql = 'create view COUNT_DOCS_T3N as select count(DISTINCT ID) as n_total from \"SYSTEM\".\"$TA_T3NTEXTIND\"'\n",
    "cursor.execute(sql)"
   ]
  },
  {
   "cell_type": "code",
   "execution_count": null,
   "metadata": {},
   "outputs": [],
   "source": [
    "# create SQL-View VALUES_IDF_T3N\n",
    "sql = 'create view VALUES_IDF_T3N as select t1.TA_TOKEN, count(DISTINCT ID) as count_docs_term, t3.n_total from \"SYSTEM\".\"$TA_T3NTEXTIND\" as t1, MAX_COUNT_NOUNS_T3N as t2, COUNT_DOCS_T3N as t3 where TA_TOKEN=t2.noun group by t1.TA_TOKEN, t3.n_total'\n",
    "cursor.execute(sql)"
   ]
  },
  {
   "cell_type": "code",
   "execution_count": null,
   "metadata": {},
   "outputs": [],
   "source": [
    "# drop SQL-Views\n",
    "sql_drop_view = 'drop view VALUES_IDF_T3N'\n",
    "cursor.execute(sql_drop_view)"
   ]
  },
  {
   "cell_type": "code",
   "execution_count": 17,
   "metadata": {},
   "outputs": [
    {
     "data": {
      "text/html": [
       "<div>\n",
       "<style scoped>\n",
       "    .dataframe tbody tr th:only-of-type {\n",
       "        vertical-align: middle;\n",
       "    }\n",
       "\n",
       "    .dataframe tbody tr th {\n",
       "        vertical-align: top;\n",
       "    }\n",
       "\n",
       "    .dataframe thead th {\n",
       "        text-align: right;\n",
       "    }\n",
       "</style>\n",
       "<table border=\"1\" class=\"dataframe\">\n",
       "  <thead>\n",
       "    <tr style=\"text-align: right;\">\n",
       "      <th></th>\n",
       "      <th>Token</th>\n",
       "      <th>count_docs_term</th>\n",
       "      <th>n_total</th>\n",
       "      <th>idf</th>\n",
       "    </tr>\n",
       "  </thead>\n",
       "  <tbody>\n",
       "    <tr>\n",
       "      <th>0</th>\n",
       "      <td>Google</td>\n",
       "      <td>311</td>\n",
       "      <td>994</td>\n",
       "      <td>0.504626</td>\n",
       "    </tr>\n",
       "    <tr>\n",
       "      <th>1</th>\n",
       "      <td>Apple</td>\n",
       "      <td>274</td>\n",
       "      <td>994</td>\n",
       "      <td>0.559636</td>\n",
       "    </tr>\n",
       "    <tr>\n",
       "      <th>2</th>\n",
       "      <td>Unternehmen</td>\n",
       "      <td>409</td>\n",
       "      <td>994</td>\n",
       "      <td>0.385663</td>\n",
       "    </tr>\n",
       "  </tbody>\n",
       "</table>\n",
       "</div>"
      ],
      "text/plain": [
       "         Token  count_docs_term  n_total       idf\n",
       "0       Google              311      994  0.504626\n",
       "1        Apple              274      994  0.559636\n",
       "2  Unternehmen              409      994  0.385663"
      ]
     },
     "execution_count": 17,
     "metadata": {},
     "output_type": "execute_result"
    }
   ],
   "source": [
    "# idf\n",
    "sql = 'select TA_TOKEN, count_docs_term, n_total, LOG(10,(n_total/count_docs_term)) as idf from VALUES_IDF_T3N'\n",
    "cursor.execute(sql)\n",
    "idf = cursor.fetchall()\n",
    "idf_df = pd.DataFrame(idf)\n",
    "idf_df.columns = ['Token', 'count_docs_term', 'n_total', 'idf']\n",
    "idf_df"
   ]
  },
  {
   "cell_type": "markdown",
   "metadata": {},
   "source": [
    "### 4. Berücksichtigen Sie alle Adjektiv-Nomen Bigramme in Dokumenten. Ermitteln Sie anhand des Chi2 Tests die 3 statistisch signifikantesten und die 3 am wenigsten signifikant zusammenhängenden Bigramme mit w1=* (beliebig) und w2=Text."
   ]
  },
  {
   "cell_type": "code",
   "execution_count": null,
   "metadata": {},
   "outputs": [],
   "source": [
    "# create view\n",
    "# all adjective-noun bigrams and w1=* and w2=Text\n",
    "sql = 'create view adjective_noun_bigram_T3N as select t1.TA_TOKEN as adjective, t2.TA_TOKEN as noun, count(*) as  w1_and_w2 from \"SYSTEM\".\"$TA_T3NTEXTIND\" as t1, \"SYSTEM\".\"$TA_T3NTEXTIND\" as t2 where t1.ID=t2.ID and t1.TA_COUNTER=t2.TA_COUNTER-1 and t1.TA_SENTENCE=t2.TA_SENTENCE and t1.TA_TYPE=\\'adjective\\' and t2.TA_TYPE=\\'noun\\' and t2.TA_TOKEN=\\'Text\\' group by t1.TA_TOKEN, t2.TA_TOKEN order by count(*) desc'\n",
    "cursor.execute(sql)"
   ]
  },
  {
   "cell_type": "code",
   "execution_count": null,
   "metadata": {},
   "outputs": [],
   "source": [
    "# create view\n",
    "# all adjective-noun bigrams and w1=* and w2=not_Text\n",
    "sql = 'create view adjective_noun_bigram_not_text as select t1.TA_TOKEN as adjective, t2.TA_TOKEN as noun, count(*) as  w1_and_not_w2 from \"SYSTEM\".\"$TA_T3NTEXTIND\" as t1, \"SYSTEM\".\"$TA_T3NTEXTIND\" as t2 where t1.ID=t2.ID and t1.TA_COUNTER=t2.TA_COUNTER-1 and t1.TA_SENTENCE=t2.TA_SENTENCE and t1.TA_TYPE=\\'adjective\\' and t2.TA_TYPE=\\'noun\\' and t2.TA_TOKEN!=\\'Text\\' group by t1.TA_TOKEN, t2.TA_TOKEN order by count(*) desc'\n",
    "cursor.execute(sql)"
   ]
  },
  {
   "cell_type": "code",
   "execution_count": null,
   "metadata": {},
   "outputs": [],
   "source": [
    "# drop SQL-Views\n",
    "sql_drop_view = 'drop view adjective_noun_bigram_T3N'\n",
    "cursor.execute(sql_drop_view)"
   ]
  },
  {
   "cell_type": "code",
   "execution_count": 18,
   "metadata": {},
   "outputs": [],
   "source": [
    "cursor.execute(\"\"\"\n",
    "select adjective, noun, o11, o12, o21, o22 from \n",
    "(\n",
    "select t1.adjective, t1.noun, w1_and_w2 as o11, (sum_w1_and_w2-SUM(w1_and_w2)) as o12, t3.sum_w1_and_not_w2 as o21, (sum_NOT_w2 - t3.sum_w1_and_not_w2) as o22 from \n",
    "\"SYSTEM\".\"ADJECTIVE_NOUN_BIGRAM_T3N\" as t1, \n",
    "(select SUM(w1_and_w2) as sum_w1_and_w2 from \"SYSTEM\".\"ADJECTIVE_NOUN_BIGRAM_T3N\") as t2,\n",
    "(select adjective, SUM(w1_and_not_w2) as sum_w1_and_not_w2 from \"SYSTEM\".\"ADJECTIVE_NOUN_BIGRAM_NOT_TEXT\" group by adjective) as t3,\n",
    "(select SUM(w1_and_not_w2) as sum_NOT_w2 from \"SYSTEM\".\"ADJECTIVE_NOUN_BIGRAM_NOT_TEXT\" order by sum_NOT_w2 desc) as t4 where t3.adjective=t1.adjective group by t1.adjective, t1.noun, w1_and_w2, t2.sum_w1_and_w2, t3.sum_w1_and_not_w2, t4.sum_NOT_w2\n",
    ")\n",
    "\"\"\");\n",
    "data = cursor.fetchall();"
   ]
  },
  {
   "cell_type": "code",
   "execution_count": 19,
   "metadata": {},
   "outputs": [
    {
     "data": {
      "text/html": [
       "<div>\n",
       "<style scoped>\n",
       "    .dataframe tbody tr th:only-of-type {\n",
       "        vertical-align: middle;\n",
       "    }\n",
       "\n",
       "    .dataframe tbody tr th {\n",
       "        vertical-align: top;\n",
       "    }\n",
       "\n",
       "    .dataframe thead tr th {\n",
       "        text-align: left;\n",
       "    }\n",
       "</style>\n",
       "<table border=\"1\" class=\"dataframe\">\n",
       "  <thead>\n",
       "    <tr>\n",
       "      <th></th>\n",
       "      <th>adjective</th>\n",
       "      <th>noun</th>\n",
       "      <th>o11</th>\n",
       "      <th>o12</th>\n",
       "      <th>o21</th>\n",
       "      <th>o22</th>\n",
       "      <th>chi_square</th>\n",
       "    </tr>\n",
       "  </thead>\n",
       "  <tbody>\n",
       "    <tr>\n",
       "      <th>0</th>\n",
       "      <td>prägnanten</td>\n",
       "      <td>Text</td>\n",
       "      <td>1</td>\n",
       "      <td>46</td>\n",
       "      <td>1</td>\n",
       "      <td>23507</td>\n",
       "      <td>1087.674939</td>\n",
       "    </tr>\n",
       "    <tr>\n",
       "      <th>1</th>\n",
       "      <td>eingegebenen</td>\n",
       "      <td>Text</td>\n",
       "      <td>1</td>\n",
       "      <td>46</td>\n",
       "      <td>1</td>\n",
       "      <td>23507</td>\n",
       "      <td>1087.674939</td>\n",
       "    </tr>\n",
       "    <tr>\n",
       "      <th>2</th>\n",
       "      <td>markierten</td>\n",
       "      <td>Text</td>\n",
       "      <td>1</td>\n",
       "      <td>46</td>\n",
       "      <td>2</td>\n",
       "      <td>23506</td>\n",
       "      <td>722.244913</td>\n",
       "    </tr>\n",
       "    <tr>\n",
       "      <th>3</th>\n",
       "      <td>kompletten</td>\n",
       "      <td>Text</td>\n",
       "      <td>1</td>\n",
       "      <td>46</td>\n",
       "      <td>16</td>\n",
       "      <td>23492</td>\n",
       "      <td>120.463557</td>\n",
       "    </tr>\n",
       "    <tr>\n",
       "      <th>4</th>\n",
       "      <td>normalen</td>\n",
       "      <td>Text</td>\n",
       "      <td>1</td>\n",
       "      <td>46</td>\n",
       "      <td>18</td>\n",
       "      <td>23490</td>\n",
       "      <td>106.903648</td>\n",
       "    </tr>\n",
       "    <tr>\n",
       "      <th>5</th>\n",
       "      <td>kurzen</td>\n",
       "      <td>Text</td>\n",
       "      <td>1</td>\n",
       "      <td>46</td>\n",
       "      <td>31</td>\n",
       "      <td>23477</td>\n",
       "      <td>60.130692</td>\n",
       "    </tr>\n",
       "    <tr>\n",
       "      <th>6</th>\n",
       "      <td>richtigen</td>\n",
       "      <td>Text</td>\n",
       "      <td>1</td>\n",
       "      <td>46</td>\n",
       "      <td>39</td>\n",
       "      <td>23469</td>\n",
       "      <td>46.493854</td>\n",
       "    </tr>\n",
       "    <tr>\n",
       "      <th>7</th>\n",
       "      <td>Smart</td>\n",
       "      <td>Text</td>\n",
       "      <td>1</td>\n",
       "      <td>46</td>\n",
       "      <td>41</td>\n",
       "      <td>23467</td>\n",
       "      <td>43.900362</td>\n",
       "    </tr>\n",
       "    <tr>\n",
       "      <th>8</th>\n",
       "      <td>folgenden</td>\n",
       "      <td>Text</td>\n",
       "      <td>1</td>\n",
       "      <td>46</td>\n",
       "      <td>46</td>\n",
       "      <td>23462</td>\n",
       "      <td>38.388556</td>\n",
       "    </tr>\n",
       "  </tbody>\n",
       "</table>\n",
       "</div>"
      ],
      "text/plain": [
       "      adjective  noun o11 o12 o21    o22   chi_square\n",
       "0    prägnanten  Text   1  46   1  23507  1087.674939\n",
       "1  eingegebenen  Text   1  46   1  23507  1087.674939\n",
       "2    markierten  Text   1  46   2  23506   722.244913\n",
       "3    kompletten  Text   1  46  16  23492   120.463557\n",
       "4      normalen  Text   1  46  18  23490   106.903648\n",
       "5        kurzen  Text   1  46  31  23477    60.130692\n",
       "6     richtigen  Text   1  46  39  23469    46.493854\n",
       "7         Smart  Text   1  46  41  23467    43.900362\n",
       "8     folgenden  Text   1  46  46  23462    38.388556"
      ]
     },
     "execution_count": 19,
     "metadata": {},
     "output_type": "execute_result"
    }
   ],
   "source": [
    "values_list = []\n",
    "header = [\"adjective\", \"noun\", \"o11\", \"o12\", \"o21\", \"o22\", \"chi_square\"];\n",
    "for item in data:\n",
    "    o11=item[2]\n",
    "    o12=item[3]\n",
    "    o21= item[4]\n",
    "    o22=item[5]\n",
    "    chi_square = ((102848 * (o11 * o22 - o12 * o21)**2) / ((o11 + o12) * (o11 + o21) * (o12 + o22) * (o21 + o22)))\n",
    "    values_list.append((item[0], item[1], item[2], item[3], item[4], item[5], chi_square))\n",
    "\n",
    "values_list.sort(key=lambda x: x[6], reverse=True);\n",
    "df = pd.DataFrame(values_list)\n",
    "df.columns = [header]\n",
    "df"
   ]
  },
  {
   "cell_type": "markdown",
   "metadata": {},
   "source": [
    "### 5. Implementieren Sie eine Ähnlichkeitsanfrage, die für einen gegebenen Anfragevektor (egal ob existierendes Dokument oder eigene Suchanfrage) die gerankten top n Dokumente anhand der Wortvektoren (nur Nomen ohne IDF-Gewichtung!) zurückgibt mit Hilfe von \n",
    "#### a. Skalarprodukt (nnn nach SMART Notation)"
   ]
  },
  {
   "cell_type": "code",
   "execution_count": 20,
   "metadata": {},
   "outputs": [],
   "source": [
    "def scalar_product(id):\n",
    "    sql = 'SELECT ID, sum(PROD) AS SCALARPRODUCT FROM (SELECT a.ID, a.WORD, a.TERM * b.CountReq AS PROD FROM TERMS_T3N AS a, (SELECT TA_TOKEN, count(*) AS CountReq FROM \"SYSTEM\".\"$TA_T3NTEXTIND\" WHERE ID = \\''+id+'\\' GROUP BY TA_TOKEN) AS b WHERE a.WORD = b.TA_TOKEN) GROUP BY ID ORDER BY SCALARPRODUCT desc LIMIT 10;'\n",
    "    cursor.execute(sql)\n",
    "    idf = cursor.fetchall()\n",
    "    idf_df = pd.DataFrame(idf)\n",
    "    print(idf_df)"
   ]
  },
  {
   "cell_type": "code",
   "execution_count": null,
   "metadata": {},
   "outputs": [],
   "source": [
    "# create view TERMS_T3N\n",
    "sql = 'create view TERMS_T3N as SELECT ID, TA_TOKEN AS WORD, count(*) AS TERM, POWER(count(*),2) AS TERMSQR FROM \"SYSTEM\".\"$TA_T3NTEXTIND\" WHERE TA_TYPE=\\'noun\\' GROUP BY ID, TA_TOKEN'\n",
    "cursor.execute(sql)"
   ]
  },
  {
   "cell_type": "code",
   "execution_count": null,
   "metadata": {},
   "outputs": [],
   "source": [
    "# drop SQL-View\n",
    "sql_drop_view = 'drop view TERMS_T3N'\n",
    "cursor.execute(sql_drop_view)"
   ]
  },
  {
   "cell_type": "markdown",
   "metadata": {},
   "source": [
    "#### b. Kosinus Ähnlichkeit (nnc nach SMART Notation)"
   ]
  },
  {
   "cell_type": "code",
   "execution_count": 21,
   "metadata": {},
   "outputs": [],
   "source": [
    "def cosinus(id):\n",
    "    # create view COS_T3N\n",
    "    sql = 'create view COS_T3N as SELECT x.ID AS ID, x.SCALARPRODUCT AS SCALARPRODUCT, y.Cos AS Cos From (SELECT ID, sum(PROD) AS SCALARPRODUCT FROM (SELECT a.ID, a.WORD, a.TERM * b.CountReq AS PROD FROM TERMS_T3N AS a, (SELECT TA_TOKEN, count(*) AS CountReq FROM \"SYSTEM\".\"$TA_T3NTEXTIND\" WHERE ID = \\''+id+'\\' GROUP BY TA_TOKEN) AS b WHERE a.WORD = b.TA_TOKEN) GROUP BY ID) AS x, (SELECT ID, SQRT(SUM(TERMSQR)) AS Cos FROM TERMS_T3N GROUP BY ID) AS y WHERE x.ID = y.ID'\n",
    "    cursor.execute(sql)\n",
    "    \n",
    "    sql = 'SELECT ID, SCALARPRODUCT / (Cos * (SELECT SQRT(sum(coutsqr)) FROM (SELECT TA_TOKEN, POWER(count(*),2) AS coutsqr FROM \"SYSTEM\".\"$TA_T3NTEXTIND\" WHERE ID = \\''+id+'\\' AND TA_TYPE = \\'noun\\' GROUP BY TA_TOKEN))) AS COSINUS FROM COS_T3N ORDER BY COSINUS DESC LIMIT 10'\n",
    "    cursor.execute(sql)\n",
    "    idf = cursor.fetchall()\n",
    "    idf_df = pd.DataFrame(idf)\n",
    "    \n",
    "    # drop SQL-View\n",
    "    sql_drop_view = 'drop view COS_T3N'\n",
    "    cursor.execute(sql_drop_view)\n",
    "    \n",
    "    print(idf_df)"
   ]
  },
  {
   "cell_type": "markdown",
   "metadata": {},
   "source": [
    "### 6. Welches sind die jeweils ähnlichsten Dokumente für das Dokument mit der ID 54ff8c69-007f-49a8-94cf-093fb5b0951b? Wie unterscheiden sich die Ergebnisse grundsätzlich?"
   ]
  },
  {
   "cell_type": "code",
   "execution_count": 22,
   "metadata": {},
   "outputs": [
    {
     "name": "stdout",
     "output_type": "stream",
     "text": [
      "                                      0   1\n",
      "0  54ff8c69-007f-49a8-94cf-093fb5b0951b  91\n",
      "1  53046188-b726-4c86-828a-617cc0a14894  73\n",
      "2  29983671-fcf8-4c0d-a447-dc5a57384f02  70\n",
      "3  21d5a31b-40e1-4e27-a9d4-b7227c967dd9  51\n",
      "4  72f4cee7-056e-4b4b-905e-f795dc9bd082  47\n",
      "5  d22af3b9-f335-466d-a895-4aba5bf472f8  45\n",
      "6  15f17f43-2bcf-4213-8e23-007afdff9837  42\n",
      "7  6713f823-292b-4974-a3f9-69a3a8960020  42\n",
      "8  5ac9ac3a-5971-4d88-b281-9e7edd477301  32\n",
      "9  0268456f-6e26-4462-a912-cea84acf1da9  31\n"
     ]
    }
   ],
   "source": [
    "scalar_product('54ff8c69-007f-49a8-94cf-093fb5b0951b')"
   ]
  },
  {
   "cell_type": "code",
   "execution_count": 23,
   "metadata": {},
   "outputs": [
    {
     "name": "stdout",
     "output_type": "stream",
     "text": [
      "                                      0                                     1\n",
      "0  54ff8c69-007f-49a8-94cf-093fb5b0951b   1.011111111111111111111111111111111\n",
      "1  53046188-b726-4c86-828a-617cc0a14894  0.3008934481546112521263477148911646\n",
      "2  29983671-fcf8-4c0d-a447-dc5a57384f02  0.2687145064945125899172116757437412\n",
      "3  72f4cee7-056e-4b4b-905e-f795dc9bd082  0.2659572696738088829814135066188706\n",
      "4  5ac9ac3a-5971-4d88-b281-9e7edd477301  0.2587046667054218384201668929238637\n",
      "5  15f17f43-2bcf-4213-8e23-007afdff9837  0.2573251177328327119329988151470316\n",
      "6  21d5a31b-40e1-4e27-a9d4-b7227c967dd9  0.2222649531566085695140507944958648\n",
      "7  5d4d1547-8061-4328-a9e9-2866144623ea   0.200331400392989446283827163361484\n",
      "8  e9f6594d-714b-4f35-942f-2205dbd2459e  0.1982936921576542815137590055694631\n",
      "9  b0291f79-bc9b-4b5e-9410-5dce1076a7b4  0.1981473482419403759187452591453117\n"
     ]
    }
   ],
   "source": [
    "cosinus('54ff8c69-007f-49a8-94cf-093fb5b0951b')"
   ]
  },
  {
   "cell_type": "markdown",
   "metadata": {},
   "source": [
    "# Teil 2\n",
    "## 1. Implementieren oder wrappen Sie eine Python-Funktion (gerne mit Hilfe üblicher Bibliotheken wie sklearn.metrics.precision_recall_curve), die für Ihre vorbereiteten Anfragevektoren und die mit der Kosinus-Ähnlichkeit ermittelten Dokumente die Precision-Recall Plots zeichnet (Interpolation ist nicht nötig)."
   ]
  },
  {
   "cell_type": "code",
   "execution_count": 24,
   "metadata": {},
   "outputs": [],
   "source": [
    "def precisionRecall(param):\n",
    "    gefunden_sql = 'SELECT distinct ID FROM \"SYSTEM\".\"$TA_T3NTEXTIND\" WHERE TA_TOKEN = ('+param+')'    \n",
    "    cursor.execute(gefunden_sql)\n",
    "    gefunden_list = cursor.fetchall()\n",
    "    \n",
    "    relevant_sql = 'SELECT distinct ID FROM \"SYSTEM\".\"T3N\" where CATEGORY = \\'Marketing\\' '\n",
    "    cursor.execute(relevant_sql)\n",
    "    relevant_list = cursor.fetchall()\n",
    "    \n",
    "    schnitt = 'SELECT * FROM ('+relevant_sql+') as t1, ('+gefunden_sql+') as t2 where t1.ID = t2.ID'\n",
    "    cursor.execute(schnitt)\n",
    "    schnitt_list = cursor.fetchall()\n",
    "    \n",
    "    recall = abs((len(schnitt_list)) / len(relevant_list))\n",
    "    precision = abs((len(schnitt_list)) / len(gefunden_list))\n",
    "\n",
    "    print(f\"Recall: {recall} \")\n",
    "    print(f\"Precision: {precision} \")"
   ]
  },
  {
   "cell_type": "code",
   "execution_count": 25,
   "metadata": {},
   "outputs": [
    {
     "name": "stdout",
     "output_type": "stream",
     "text": [
      "Facebook\n",
      "Recall: 0.4375 \n",
      "Precision: 0.2222222222222222 \n"
     ]
    }
   ],
   "source": [
    "print(\"Facebook\")\n",
    "precisionRecall('\\'Facebook\\'' )\n",
    "\n",
    "# TODO Plots"
   ]
  },
  {
   "cell_type": "markdown",
   "metadata": {},
   "source": [
    "## 2. Wie interpretieren Sie die Retrieval-Ergebnisse und die Plots (für Ihre eigenen Anfragen und mindestens für die Anfrage {'AIR': 2, 'BAG': 2, 'DEPLOYMENT':2, 'ACCIDENT':2} an NHTSA?"
   ]
  },
  {
   "cell_type": "code",
   "execution_count": 26,
   "metadata": {
    "scrolled": true
   },
   "outputs": [],
   "source": [
    "def precisionRecall(param):\n",
    "    gefunden_sql = 'SELECT distinct CMPLID FROM \"SYSTEM\".\"$TA_CDESCRIND\" WHERE TA_TOKEN = ('+param+')'    \n",
    "    cursor.execute(gefunden_sql)\n",
    "    gefunden_list = cursor.fetchall()\n",
    "    \n",
    "    relevant_sql = 'SELECT distinct CMPLID FROM \"SYSTEM\".\"CMPL100K\" where COMPDESC = \\'AIR BAGS\\' '\n",
    "    cursor.execute(relevant_sql)\n",
    "    relevant_list = cursor.fetchall()\n",
    "    \n",
    "    schnitt = 'SELECT * FROM ('+relevant_sql+') as t1, ('+gefunden_sql+') as t2 where t1.CMPLID = t2.CMPLID'\n",
    "    cursor.execute(schnitt)\n",
    "    schnitt_list = cursor.fetchall()\n",
    "    \n",
    "    recall = abs((len(schnitt_list)) / len(relevant_list))\n",
    "    precision = abs((len(schnitt_list)) / len(gefunden_list))\n",
    "\n",
    "    print(f\"Recall: {recall} \")\n",
    "    print(f\"Precision: {precision} \")"
   ]
  },
  {
   "cell_type": "code",
   "execution_count": 27,
   "metadata": {},
   "outputs": [
    {
     "name": "stdout",
     "output_type": "stream",
     "text": [
      "AIR\n",
      "Recall: 0.5510590015128594 \n",
      "Precision: 0.19617611417799918 \n",
      "BAG\n",
      "Recall: 0.2866868381240545 \n",
      "Precision: 0.44457478005865103 \n",
      "ACCIDENT\n",
      "Recall: 0.14826021180030258 \n",
      "Precision: 0.06486844282641073 \n",
      "DEPLOYMENT\n",
      "Recall: 0.0416036308623298 \n",
      "Precision: 0.41044776119402987 \n"
     ]
    }
   ],
   "source": [
    "print(\"AIR\")\n",
    "precisionRecall('\\'AIR\\'' )\n",
    "print(\"BAG\")\n",
    "precisionRecall('\\'BAG\\'' )\n",
    "print(\"ACCIDENT\")\n",
    "precisionRecall('\\'ACCIDENT\\'' )\n",
    "print(\"DEPLOYMENT\")\n",
    "precisionRecall('\\'DEPLOYMENT\\'' )\n",
    "\n",
    "# TODO Plots"
   ]
  },
  {
   "cell_type": "code",
   "execution_count": null,
   "metadata": {},
   "outputs": [],
   "source": []
  }
 ],
 "metadata": {
  "kernelspec": {
   "display_name": "Python 3",
   "language": "python",
   "name": "python3"
  },
  "language_info": {
   "codemirror_mode": {
    "name": "ipython",
    "version": 3
   },
   "file_extension": ".py",
   "mimetype": "text/x-python",
   "name": "python",
   "nbconvert_exporter": "python",
   "pygments_lexer": "ipython3",
   "version": "3.7.5"
  }
 },
 "nbformat": 4,
 "nbformat_minor": 4
}
